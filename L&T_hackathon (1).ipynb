{
 "cells": [
  {
   "cell_type": "markdown",
   "metadata": {},
   "source": [
    "# Vehicle Loan default prediction"
   ]
  },
  {
   "cell_type": "code",
   "execution_count": 0,
   "metadata": {
    "colab": {},
    "colab_type": "code",
    "id": "TRMLewrq6K5s"
   },
   "outputs": [],
   "source": [
    "from google.colab import drive"
   ]
  },
  {
   "cell_type": "code",
   "execution_count": 0,
   "metadata": {
    "colab": {
     "base_uri": "https://localhost:8080/",
     "height": 34
    },
    "colab_type": "code",
    "id": "lO4FqR9X6Oks",
    "outputId": "cf4d6bfe-a0a4-48c4-cfc4-131ccd10a886"
   },
   "outputs": [
    {
     "name": "stdout",
     "output_type": "stream",
     "text": [
      "Drive already mounted at /content/gdrive/; to attempt to forcibly remount, call drive.mount(\"/content/gdrive/\", force_remount=True).\n"
     ]
    }
   ],
   "source": [
    "drive.mount('/content/gdrive/')"
   ]
  },
  {
   "cell_type": "code",
   "execution_count": 0,
   "metadata": {
    "colab": {
     "base_uri": "https://localhost:8080/",
     "height": 34
    },
    "colab_type": "code",
    "id": "gD4xnyjv6Ohv",
    "outputId": "ed72beeb-cb1f-447d-821b-75521be8815a"
   },
   "outputs": [
    {
     "name": "stdout",
     "output_type": "stream",
     "text": [
      "'My Drive'\n"
     ]
    }
   ],
   "source": [
    "!ls /content/gdrive"
   ]
  },
  {
   "cell_type": "code",
   "execution_count": 0,
   "metadata": {
    "colab": {},
    "colab_type": "code",
    "id": "tYcQh5Z46URH"
   },
   "outputs": [],
   "source": [
    "dataset_path = '/content/gdrive/My Drive/Colab Notebooks/Datasets/'"
   ]
  },
  {
   "cell_type": "code",
   "execution_count": 0,
   "metadata": {
    "colab": {
     "base_uri": "https://localhost:8080/",
     "height": 241
    },
    "colab_type": "code",
    "id": "C7jTFUKn6OfA",
    "outputId": "ed29a314-95d9-477a-926f-789f2f060a46"
   },
   "outputs": [
    {
     "name": "stdout",
     "output_type": "stream",
     "text": [
      "Collecting catboost\n",
      "\u001b[?25l  Downloading https://files.pythonhosted.org/packages/2f/c4/f130237b24efd1941cb685da12496675a90045129b66774751f1bf629dfd/catboost-0.14.2-cp36-none-manylinux1_x86_64.whl (60.6MB)\n",
      "\u001b[K     |████████████████████████████████| 60.6MB 1.3MB/s \n",
      "\u001b[?25hRequirement already satisfied: enum34 in /usr/local/lib/python3.6/dist-packages (from catboost) (1.1.6)\n",
      "Requirement already satisfied: numpy>=1.11.1 in /usr/local/lib/python3.6/dist-packages (from catboost) (1.16.3)\n",
      "Requirement already satisfied: graphviz in /usr/local/lib/python3.6/dist-packages (from catboost) (0.10.1)\n",
      "Requirement already satisfied: six in /usr/local/lib/python3.6/dist-packages (from catboost) (1.12.0)\n",
      "Requirement already satisfied: pandas>=0.19.1 in /usr/local/lib/python3.6/dist-packages (from catboost) (0.24.2)\n",
      "Requirement already satisfied: python-dateutil>=2.5.0 in /usr/local/lib/python3.6/dist-packages (from pandas>=0.19.1->catboost) (2.5.3)\n",
      "Requirement already satisfied: pytz>=2011k in /usr/local/lib/python3.6/dist-packages (from pandas>=0.19.1->catboost) (2018.9)\n",
      "Installing collected packages: catboost\n",
      "Successfully installed catboost-0.14.2\n"
     ]
    }
   ],
   "source": [
    "!pip install catboost"
   ]
  },
  {
   "cell_type": "code",
   "execution_count": 0,
   "metadata": {
    "colab": {},
    "colab_type": "code",
    "id": "lt0xO_SlqNuB"
   },
   "outputs": [],
   "source": [
    "#importing the packages\n",
    "import numpy as np\n",
    "import pandas as pd\n",
    "import datetime\n",
    "import matplotlib.pyplot as plt \n",
    "import seaborn as sns\n",
    "import datetime as dt\n",
    "from datetime import date\n",
    "from sklearn.preprocessing import LabelEncoder\n",
    "from sklearn.ensemble import RandomForestClassifier\n",
    "from sklearn.tree import DecisionTreeClassifier\n",
    "import xgboost as xg\n",
    "from sklearn.metrics import mean_squared_error, accuracy_score,confusion_matrix,roc_auc_score,cohen_kappa_score\n",
    "from sklearn.model_selection import train_test_split, GridSearchCV\n",
    "from xgboost import XGBClassifier\n",
    "from sklearn.ensemble import GradientBoostingClassifier \n",
    "from catboost import CatBoostClassifier\n"
   ]
  },
  {
   "cell_type": "code",
   "execution_count": 0,
   "metadata": {
    "colab": {},
    "colab_type": "code",
    "id": "ZsGrk8DfqNuK"
   },
   "outputs": [],
   "source": [
    "#loading the train and test data\n",
    "train_data = pd.read_csv(dataset_path+'l&t_train.csv')\n",
    "test_data = pd.read_csv(dataset_path+'l&t_test.csv')"
   ]
  },
  {
   "cell_type": "code",
   "execution_count": 0,
   "metadata": {
    "colab": {
     "base_uri": "https://localhost:8080/",
     "height": 253
    },
    "colab_type": "code",
    "id": "dXFxghLGqNuQ",
    "outputId": "5e22a03c-a632-4d62-84b0-4840b1a3228a"
   },
   "outputs": [
    {
     "data": {
      "text/html": [
       "<div>\n",
       "<style scoped>\n",
       "    .dataframe tbody tr th:only-of-type {\n",
       "        vertical-align: middle;\n",
       "    }\n",
       "\n",
       "    .dataframe tbody tr th {\n",
       "        vertical-align: top;\n",
       "    }\n",
       "\n",
       "    .dataframe thead th {\n",
       "        text-align: right;\n",
       "    }\n",
       "</style>\n",
       "<table border=\"1\" class=\"dataframe\">\n",
       "  <thead>\n",
       "    <tr style=\"text-align: right;\">\n",
       "      <th></th>\n",
       "      <th>UniqueID</th>\n",
       "      <th>disbursed_amount</th>\n",
       "      <th>asset_cost</th>\n",
       "      <th>ltv</th>\n",
       "      <th>branch_id</th>\n",
       "      <th>supplier_id</th>\n",
       "      <th>manufacturer_id</th>\n",
       "      <th>Current_pincode_ID</th>\n",
       "      <th>Date.of.Birth</th>\n",
       "      <th>Employment.Type</th>\n",
       "      <th>...</th>\n",
       "      <th>SEC.SANCTIONED.AMOUNT</th>\n",
       "      <th>SEC.DISBURSED.AMOUNT</th>\n",
       "      <th>PRIMARY.INSTAL.AMT</th>\n",
       "      <th>SEC.INSTAL.AMT</th>\n",
       "      <th>NEW.ACCTS.IN.LAST.SIX.MONTHS</th>\n",
       "      <th>DELINQUENT.ACCTS.IN.LAST.SIX.MONTHS</th>\n",
       "      <th>AVERAGE.ACCT.AGE</th>\n",
       "      <th>CREDIT.HISTORY.LENGTH</th>\n",
       "      <th>NO.OF_INQUIRIES</th>\n",
       "      <th>loan_default</th>\n",
       "    </tr>\n",
       "  </thead>\n",
       "  <tbody>\n",
       "    <tr>\n",
       "      <th>0</th>\n",
       "      <td>420825</td>\n",
       "      <td>50578</td>\n",
       "      <td>58400</td>\n",
       "      <td>89.55</td>\n",
       "      <td>67</td>\n",
       "      <td>22807</td>\n",
       "      <td>45</td>\n",
       "      <td>1441</td>\n",
       "      <td>01-01-84</td>\n",
       "      <td>Salaried</td>\n",
       "      <td>...</td>\n",
       "      <td>0</td>\n",
       "      <td>0</td>\n",
       "      <td>0</td>\n",
       "      <td>0</td>\n",
       "      <td>0</td>\n",
       "      <td>0</td>\n",
       "      <td>0yrs 0mon</td>\n",
       "      <td>0yrs 0mon</td>\n",
       "      <td>0</td>\n",
       "      <td>0</td>\n",
       "    </tr>\n",
       "    <tr>\n",
       "      <th>1</th>\n",
       "      <td>537409</td>\n",
       "      <td>47145</td>\n",
       "      <td>65550</td>\n",
       "      <td>73.23</td>\n",
       "      <td>67</td>\n",
       "      <td>22807</td>\n",
       "      <td>45</td>\n",
       "      <td>1502</td>\n",
       "      <td>31-07-85</td>\n",
       "      <td>Self employed</td>\n",
       "      <td>...</td>\n",
       "      <td>0</td>\n",
       "      <td>0</td>\n",
       "      <td>1991</td>\n",
       "      <td>0</td>\n",
       "      <td>0</td>\n",
       "      <td>1</td>\n",
       "      <td>1yrs 11mon</td>\n",
       "      <td>1yrs 11mon</td>\n",
       "      <td>0</td>\n",
       "      <td>1</td>\n",
       "    </tr>\n",
       "    <tr>\n",
       "      <th>2</th>\n",
       "      <td>417566</td>\n",
       "      <td>53278</td>\n",
       "      <td>61360</td>\n",
       "      <td>89.63</td>\n",
       "      <td>67</td>\n",
       "      <td>22807</td>\n",
       "      <td>45</td>\n",
       "      <td>1497</td>\n",
       "      <td>24-08-85</td>\n",
       "      <td>Self employed</td>\n",
       "      <td>...</td>\n",
       "      <td>0</td>\n",
       "      <td>0</td>\n",
       "      <td>0</td>\n",
       "      <td>0</td>\n",
       "      <td>0</td>\n",
       "      <td>0</td>\n",
       "      <td>0yrs 0mon</td>\n",
       "      <td>0yrs 0mon</td>\n",
       "      <td>0</td>\n",
       "      <td>0</td>\n",
       "    </tr>\n",
       "    <tr>\n",
       "      <th>3</th>\n",
       "      <td>624493</td>\n",
       "      <td>57513</td>\n",
       "      <td>66113</td>\n",
       "      <td>88.48</td>\n",
       "      <td>67</td>\n",
       "      <td>22807</td>\n",
       "      <td>45</td>\n",
       "      <td>1501</td>\n",
       "      <td>30-12-93</td>\n",
       "      <td>Self employed</td>\n",
       "      <td>...</td>\n",
       "      <td>0</td>\n",
       "      <td>0</td>\n",
       "      <td>31</td>\n",
       "      <td>0</td>\n",
       "      <td>0</td>\n",
       "      <td>0</td>\n",
       "      <td>0yrs 8mon</td>\n",
       "      <td>1yrs 3mon</td>\n",
       "      <td>1</td>\n",
       "      <td>1</td>\n",
       "    </tr>\n",
       "    <tr>\n",
       "      <th>4</th>\n",
       "      <td>539055</td>\n",
       "      <td>52378</td>\n",
       "      <td>60300</td>\n",
       "      <td>88.39</td>\n",
       "      <td>67</td>\n",
       "      <td>22807</td>\n",
       "      <td>45</td>\n",
       "      <td>1495</td>\n",
       "      <td>09-12-77</td>\n",
       "      <td>Self employed</td>\n",
       "      <td>...</td>\n",
       "      <td>0</td>\n",
       "      <td>0</td>\n",
       "      <td>0</td>\n",
       "      <td>0</td>\n",
       "      <td>0</td>\n",
       "      <td>0</td>\n",
       "      <td>0yrs 0mon</td>\n",
       "      <td>0yrs 0mon</td>\n",
       "      <td>1</td>\n",
       "      <td>1</td>\n",
       "    </tr>\n",
       "  </tbody>\n",
       "</table>\n",
       "<p>5 rows × 41 columns</p>\n",
       "</div>"
      ],
      "text/plain": [
       "   UniqueID  disbursed_amount  asset_cost    ltv  branch_id  supplier_id  \\\n",
       "0    420825             50578       58400  89.55         67        22807   \n",
       "1    537409             47145       65550  73.23         67        22807   \n",
       "2    417566             53278       61360  89.63         67        22807   \n",
       "3    624493             57513       66113  88.48         67        22807   \n",
       "4    539055             52378       60300  88.39         67        22807   \n",
       "\n",
       "   manufacturer_id  Current_pincode_ID Date.of.Birth Employment.Type  ...  \\\n",
       "0               45                1441      01-01-84        Salaried  ...   \n",
       "1               45                1502      31-07-85   Self employed  ...   \n",
       "2               45                1497      24-08-85   Self employed  ...   \n",
       "3               45                1501      30-12-93   Self employed  ...   \n",
       "4               45                1495      09-12-77   Self employed  ...   \n",
       "\n",
       "  SEC.SANCTIONED.AMOUNT  SEC.DISBURSED.AMOUNT  PRIMARY.INSTAL.AMT  \\\n",
       "0                     0                     0                   0   \n",
       "1                     0                     0                1991   \n",
       "2                     0                     0                   0   \n",
       "3                     0                     0                  31   \n",
       "4                     0                     0                   0   \n",
       "\n",
       "   SEC.INSTAL.AMT  NEW.ACCTS.IN.LAST.SIX.MONTHS  \\\n",
       "0               0                             0   \n",
       "1               0                             0   \n",
       "2               0                             0   \n",
       "3               0                             0   \n",
       "4               0                             0   \n",
       "\n",
       "   DELINQUENT.ACCTS.IN.LAST.SIX.MONTHS  AVERAGE.ACCT.AGE  \\\n",
       "0                                    0         0yrs 0mon   \n",
       "1                                    1        1yrs 11mon   \n",
       "2                                    0         0yrs 0mon   \n",
       "3                                    0         0yrs 8mon   \n",
       "4                                    0         0yrs 0mon   \n",
       "\n",
       "   CREDIT.HISTORY.LENGTH  NO.OF_INQUIRIES  loan_default  \n",
       "0              0yrs 0mon                0             0  \n",
       "1             1yrs 11mon                0             1  \n",
       "2              0yrs 0mon                0             0  \n",
       "3              1yrs 3mon                1             1  \n",
       "4              0yrs 0mon                1             1  \n",
       "\n",
       "[5 rows x 41 columns]"
      ]
     },
     "execution_count": 125,
     "metadata": {
      "tags": []
     },
     "output_type": "execute_result"
    }
   ],
   "source": [
    "train_data.head()"
   ]
  },
  {
   "cell_type": "code",
   "execution_count": 0,
   "metadata": {
    "colab": {
     "base_uri": "https://localhost:8080/",
     "height": 253
    },
    "colab_type": "code",
    "id": "NY8GvEQFqNub",
    "outputId": "db3f84c8-7eda-4c40-89eb-1112152b0216"
   },
   "outputs": [
    {
     "data": {
      "text/html": [
       "<div>\n",
       "<style scoped>\n",
       "    .dataframe tbody tr th:only-of-type {\n",
       "        vertical-align: middle;\n",
       "    }\n",
       "\n",
       "    .dataframe tbody tr th {\n",
       "        vertical-align: top;\n",
       "    }\n",
       "\n",
       "    .dataframe thead th {\n",
       "        text-align: right;\n",
       "    }\n",
       "</style>\n",
       "<table border=\"1\" class=\"dataframe\">\n",
       "  <thead>\n",
       "    <tr style=\"text-align: right;\">\n",
       "      <th></th>\n",
       "      <th>disbursed_amount</th>\n",
       "      <th>asset_cost</th>\n",
       "      <th>ltv</th>\n",
       "      <th>branch_id</th>\n",
       "      <th>supplier_id</th>\n",
       "      <th>manufacturer_id</th>\n",
       "      <th>Current_pincode_ID</th>\n",
       "      <th>Employment.Type</th>\n",
       "      <th>State_ID</th>\n",
       "      <th>Employee_code_ID</th>\n",
       "      <th>...</th>\n",
       "      <th>CREDIT.HISTORY.LENGTH</th>\n",
       "      <th>NO.OF_INQUIRIES</th>\n",
       "      <th>Age_of_customer</th>\n",
       "      <th>Not_Scored</th>\n",
       "      <th>Very_Low</th>\n",
       "      <th>Very_High</th>\n",
       "      <th>No_History</th>\n",
       "      <th>asset_value</th>\n",
       "      <th>value_cost</th>\n",
       "      <th>DisbursalYear</th>\n",
       "    </tr>\n",
       "  </thead>\n",
       "  <tbody>\n",
       "    <tr>\n",
       "      <th>0</th>\n",
       "      <td>53478</td>\n",
       "      <td>63558</td>\n",
       "      <td>86.54</td>\n",
       "      <td>67</td>\n",
       "      <td>22807</td>\n",
       "      <td>45</td>\n",
       "      <td>1497</td>\n",
       "      <td>0</td>\n",
       "      <td>6</td>\n",
       "      <td>1998</td>\n",
       "      <td>...</td>\n",
       "      <td>0</td>\n",
       "      <td>0</td>\n",
       "      <td>45</td>\n",
       "      <td>0</td>\n",
       "      <td>0</td>\n",
       "      <td>0</td>\n",
       "      <td>1</td>\n",
       "      <td>50539.0</td>\n",
       "      <td>13019.0</td>\n",
       "      <td>2018</td>\n",
       "    </tr>\n",
       "    <tr>\n",
       "      <th>1</th>\n",
       "      <td>55513</td>\n",
       "      <td>63163</td>\n",
       "      <td>89.45</td>\n",
       "      <td>67</td>\n",
       "      <td>22807</td>\n",
       "      <td>45</td>\n",
       "      <td>1497</td>\n",
       "      <td>1</td>\n",
       "      <td>6</td>\n",
       "      <td>1998</td>\n",
       "      <td>...</td>\n",
       "      <td>12</td>\n",
       "      <td>1</td>\n",
       "      <td>34</td>\n",
       "      <td>0</td>\n",
       "      <td>1</td>\n",
       "      <td>0</td>\n",
       "      <td>0</td>\n",
       "      <td>58634.0</td>\n",
       "      <td>4529.0</td>\n",
       "      <td>2018</td>\n",
       "    </tr>\n",
       "    <tr>\n",
       "      <th>2</th>\n",
       "      <td>65282</td>\n",
       "      <td>84320</td>\n",
       "      <td>79.93</td>\n",
       "      <td>78</td>\n",
       "      <td>23135</td>\n",
       "      <td>86</td>\n",
       "      <td>2071</td>\n",
       "      <td>0</td>\n",
       "      <td>4</td>\n",
       "      <td>1646</td>\n",
       "      <td>...</td>\n",
       "      <td>0</td>\n",
       "      <td>0</td>\n",
       "      <td>24</td>\n",
       "      <td>0</td>\n",
       "      <td>0</td>\n",
       "      <td>0</td>\n",
       "      <td>1</td>\n",
       "      <td>49045.0</td>\n",
       "      <td>35275.0</td>\n",
       "      <td>2018</td>\n",
       "    </tr>\n",
       "    <tr>\n",
       "      <th>3</th>\n",
       "      <td>46905</td>\n",
       "      <td>63896</td>\n",
       "      <td>76.58</td>\n",
       "      <td>78</td>\n",
       "      <td>17014</td>\n",
       "      <td>45</td>\n",
       "      <td>2070</td>\n",
       "      <td>1</td>\n",
       "      <td>4</td>\n",
       "      <td>1646</td>\n",
       "      <td>...</td>\n",
       "      <td>29</td>\n",
       "      <td>0</td>\n",
       "      <td>46</td>\n",
       "      <td>1</td>\n",
       "      <td>0</td>\n",
       "      <td>0</td>\n",
       "      <td>0</td>\n",
       "      <td>50629.0</td>\n",
       "      <td>13267.0</td>\n",
       "      <td>2018</td>\n",
       "    </tr>\n",
       "    <tr>\n",
       "      <th>4</th>\n",
       "      <td>51428</td>\n",
       "      <td>63896</td>\n",
       "      <td>86.08</td>\n",
       "      <td>78</td>\n",
       "      <td>17014</td>\n",
       "      <td>45</td>\n",
       "      <td>2069</td>\n",
       "      <td>0</td>\n",
       "      <td>4</td>\n",
       "      <td>1646</td>\n",
       "      <td>...</td>\n",
       "      <td>0</td>\n",
       "      <td>0</td>\n",
       "      <td>47</td>\n",
       "      <td>0</td>\n",
       "      <td>0</td>\n",
       "      <td>0</td>\n",
       "      <td>1</td>\n",
       "      <td>51906.0</td>\n",
       "      <td>11990.0</td>\n",
       "      <td>2018</td>\n",
       "    </tr>\n",
       "  </tbody>\n",
       "</table>\n",
       "<p>5 rows × 43 columns</p>\n",
       "</div>"
      ],
      "text/plain": [
       "   disbursed_amount  asset_cost    ltv  branch_id  supplier_id  \\\n",
       "0             53478       63558  86.54         67        22807   \n",
       "1             55513       63163  89.45         67        22807   \n",
       "2             65282       84320  79.93         78        23135   \n",
       "3             46905       63896  76.58         78        17014   \n",
       "4             51428       63896  86.08         78        17014   \n",
       "\n",
       "   manufacturer_id  Current_pincode_ID  Employment.Type  State_ID  \\\n",
       "0               45                1497                0         6   \n",
       "1               45                1497                1         6   \n",
       "2               86                2071                0         4   \n",
       "3               45                2070                1         4   \n",
       "4               45                2069                0         4   \n",
       "\n",
       "   Employee_code_ID  ...  CREDIT.HISTORY.LENGTH  NO.OF_INQUIRIES  \\\n",
       "0              1998  ...                      0                0   \n",
       "1              1998  ...                     12                1   \n",
       "2              1646  ...                      0                0   \n",
       "3              1646  ...                     29                0   \n",
       "4              1646  ...                      0                0   \n",
       "\n",
       "   Age_of_customer  Not_Scored  Very_Low  Very_High  No_History  asset_value  \\\n",
       "0               45           0         0          0           1      50539.0   \n",
       "1               34           0         1          0           0      58634.0   \n",
       "2               24           0         0          0           1      49045.0   \n",
       "3               46           1         0          0           0      50629.0   \n",
       "4               47           0         0          0           1      51906.0   \n",
       "\n",
       "   value_cost  DisbursalYear  \n",
       "0     13019.0           2018  \n",
       "1      4529.0           2018  \n",
       "2     35275.0           2018  \n",
       "3     13267.0           2018  \n",
       "4     11990.0           2018  \n",
       "\n",
       "[5 rows x 43 columns]"
      ]
     },
     "execution_count": 225,
     "metadata": {
      "tags": []
     },
     "output_type": "execute_result"
    }
   ],
   "source": [
    "test_data.head()"
   ]
  },
  {
   "cell_type": "code",
   "execution_count": 0,
   "metadata": {
    "colab": {
     "base_uri": "https://localhost:8080/",
     "height": 731
    },
    "colab_type": "code",
    "id": "zOFtzPurqNum",
    "outputId": "9cf5d925-f9ae-4661-f6d9-c548baaceb9d"
   },
   "outputs": [
    {
     "data": {
      "text/plain": [
       "UniqueID                                 int64\n",
       "disbursed_amount                         int64\n",
       "asset_cost                               int64\n",
       "ltv                                    float64\n",
       "branch_id                                int64\n",
       "supplier_id                              int64\n",
       "manufacturer_id                          int64\n",
       "Current_pincode_ID                       int64\n",
       "Date.of.Birth                           object\n",
       "Employment.Type                         object\n",
       "DisbursalDate                           object\n",
       "State_ID                                 int64\n",
       "Employee_code_ID                         int64\n",
       "MobileNo_Avl_Flag                        int64\n",
       "Aadhar_flag                              int64\n",
       "PAN_flag                                 int64\n",
       "VoterID_flag                             int64\n",
       "Driving_flag                             int64\n",
       "Passport_flag                            int64\n",
       "PERFORM_CNS.SCORE                        int64\n",
       "PERFORM_CNS.SCORE.DESCRIPTION           object\n",
       "PRI.NO.OF.ACCTS                          int64\n",
       "PRI.ACTIVE.ACCTS                         int64\n",
       "PRI.OVERDUE.ACCTS                        int64\n",
       "PRI.CURRENT.BALANCE                      int64\n",
       "PRI.SANCTIONED.AMOUNT                    int64\n",
       "PRI.DISBURSED.AMOUNT                     int64\n",
       "SEC.NO.OF.ACCTS                          int64\n",
       "SEC.ACTIVE.ACCTS                         int64\n",
       "SEC.OVERDUE.ACCTS                        int64\n",
       "SEC.CURRENT.BALANCE                      int64\n",
       "SEC.SANCTIONED.AMOUNT                    int64\n",
       "SEC.DISBURSED.AMOUNT                     int64\n",
       "PRIMARY.INSTAL.AMT                       int64\n",
       "SEC.INSTAL.AMT                           int64\n",
       "NEW.ACCTS.IN.LAST.SIX.MONTHS             int64\n",
       "DELINQUENT.ACCTS.IN.LAST.SIX.MONTHS      int64\n",
       "AVERAGE.ACCT.AGE                        object\n",
       "CREDIT.HISTORY.LENGTH                   object\n",
       "NO.OF_INQUIRIES                          int64\n",
       "loan_default                             int64\n",
       "dtype: object"
      ]
     },
     "execution_count": 127,
     "metadata": {
      "tags": []
     },
     "output_type": "execute_result"
    }
   ],
   "source": [
    "train_data.dtypes"
   ]
  },
  {
   "cell_type": "code",
   "execution_count": 0,
   "metadata": {
    "colab": {
     "base_uri": "https://localhost:8080/",
     "height": 34
    },
    "colab_type": "code",
    "id": "ejqBL4w6qNuv",
    "outputId": "7c7fb59f-b959-474b-f300-bb55070b894c"
   },
   "outputs": [
    {
     "data": {
      "text/plain": [
       "(233154, 41)"
      ]
     },
     "execution_count": 128,
     "metadata": {
      "tags": []
     },
     "output_type": "execute_result"
    }
   ],
   "source": [
    "#shaoe of the train data\n",
    "train_data.shape"
   ]
  },
  {
   "cell_type": "code",
   "execution_count": 0,
   "metadata": {
    "colab": {
     "base_uri": "https://localhost:8080/",
     "height": 34
    },
    "colab_type": "code",
    "id": "rH9Bvv5lqNu2",
    "outputId": "3600c5db-d938-4f36-8a18-d41542ca9878"
   },
   "outputs": [
    {
     "data": {
      "text/plain": [
       "(112392, 40)"
      ]
     },
     "execution_count": 129,
     "metadata": {
      "tags": []
     },
     "output_type": "execute_result"
    }
   ],
   "source": [
    "#shape of the test data\n",
    "test_data.shape"
   ]
  },
  {
   "cell_type": "code",
   "execution_count": 0,
   "metadata": {
    "colab": {
     "base_uri": "https://localhost:8080/",
     "height": 731
    },
    "colab_type": "code",
    "id": "cpHt1SPLqNu8",
    "outputId": "ae929dd2-8eab-4003-8b58-388aeb4dd3e3"
   },
   "outputs": [
    {
     "data": {
      "text/plain": [
       "UniqueID                                  0\n",
       "disbursed_amount                          0\n",
       "asset_cost                                0\n",
       "ltv                                       0\n",
       "branch_id                                 0\n",
       "supplier_id                               0\n",
       "manufacturer_id                           0\n",
       "Current_pincode_ID                        0\n",
       "Date.of.Birth                             0\n",
       "Employment.Type                        7661\n",
       "DisbursalDate                             0\n",
       "State_ID                                  0\n",
       "Employee_code_ID                          0\n",
       "MobileNo_Avl_Flag                         0\n",
       "Aadhar_flag                               0\n",
       "PAN_flag                                  0\n",
       "VoterID_flag                              0\n",
       "Driving_flag                              0\n",
       "Passport_flag                             0\n",
       "PERFORM_CNS.SCORE                         0\n",
       "PERFORM_CNS.SCORE.DESCRIPTION             0\n",
       "PRI.NO.OF.ACCTS                           0\n",
       "PRI.ACTIVE.ACCTS                          0\n",
       "PRI.OVERDUE.ACCTS                         0\n",
       "PRI.CURRENT.BALANCE                       0\n",
       "PRI.SANCTIONED.AMOUNT                     0\n",
       "PRI.DISBURSED.AMOUNT                      0\n",
       "SEC.NO.OF.ACCTS                           0\n",
       "SEC.ACTIVE.ACCTS                          0\n",
       "SEC.OVERDUE.ACCTS                         0\n",
       "SEC.CURRENT.BALANCE                       0\n",
       "SEC.SANCTIONED.AMOUNT                     0\n",
       "SEC.DISBURSED.AMOUNT                      0\n",
       "PRIMARY.INSTAL.AMT                        0\n",
       "SEC.INSTAL.AMT                            0\n",
       "NEW.ACCTS.IN.LAST.SIX.MONTHS              0\n",
       "DELINQUENT.ACCTS.IN.LAST.SIX.MONTHS       0\n",
       "AVERAGE.ACCT.AGE                          0\n",
       "CREDIT.HISTORY.LENGTH                     0\n",
       "NO.OF_INQUIRIES                           0\n",
       "loan_default                              0\n",
       "dtype: int64"
      ]
     },
     "execution_count": 130,
     "metadata": {
      "tags": []
     },
     "output_type": "execute_result"
    }
   ],
   "source": [
    "#checking the missing values in tarin data\n",
    "train_data.isnull().sum()"
   ]
  },
  {
   "cell_type": "code",
   "execution_count": 0,
   "metadata": {
    "colab": {
     "base_uri": "https://localhost:8080/",
     "height": 714
    },
    "colab_type": "code",
    "id": "wMRLmr_rqNvD",
    "outputId": "31c5e8b4-5450-4d49-c302-e51079095aa3"
   },
   "outputs": [
    {
     "data": {
      "text/plain": [
       "UniqueID                                  0\n",
       "disbursed_amount                          0\n",
       "asset_cost                                0\n",
       "ltv                                       0\n",
       "branch_id                                 0\n",
       "supplier_id                               0\n",
       "manufacturer_id                           0\n",
       "Current_pincode_ID                        0\n",
       "Date.of.Birth                             0\n",
       "Employment.Type                        3443\n",
       "DisbursalDate                             0\n",
       "State_ID                                  0\n",
       "Employee_code_ID                          0\n",
       "MobileNo_Avl_Flag                         0\n",
       "Aadhar_flag                               0\n",
       "PAN_flag                                  0\n",
       "VoterID_flag                              0\n",
       "Driving_flag                              0\n",
       "Passport_flag                             0\n",
       "PERFORM_CNS.SCORE                         0\n",
       "PERFORM_CNS.SCORE.DESCRIPTION             0\n",
       "PRI.NO.OF.ACCTS                           0\n",
       "PRI.ACTIVE.ACCTS                          0\n",
       "PRI.OVERDUE.ACCTS                         0\n",
       "PRI.CURRENT.BALANCE                       0\n",
       "PRI.SANCTIONED.AMOUNT                     0\n",
       "PRI.DISBURSED.AMOUNT                      0\n",
       "SEC.NO.OF.ACCTS                           0\n",
       "SEC.ACTIVE.ACCTS                          0\n",
       "SEC.OVERDUE.ACCTS                         0\n",
       "SEC.CURRENT.BALANCE                       0\n",
       "SEC.SANCTIONED.AMOUNT                     0\n",
       "SEC.DISBURSED.AMOUNT                      0\n",
       "PRIMARY.INSTAL.AMT                        0\n",
       "SEC.INSTAL.AMT                            0\n",
       "NEW.ACCTS.IN.LAST.SIX.MONTHS              0\n",
       "DELINQUENT.ACCTS.IN.LAST.SIX.MONTHS       0\n",
       "AVERAGE.ACCT.AGE                          0\n",
       "CREDIT.HISTORY.LENGTH                     0\n",
       "NO.OF_INQUIRIES                           0\n",
       "dtype: int64"
      ]
     },
     "execution_count": 131,
     "metadata": {
      "tags": []
     },
     "output_type": "execute_result"
    }
   ],
   "source": [
    "#checking the missing values in test data\n",
    "test_data.isnull().sum()"
   ]
  },
  {
   "cell_type": "code",
   "execution_count": 0,
   "metadata": {
    "colab": {
     "base_uri": "https://localhost:8080/",
     "height": 68
    },
    "colab_type": "code",
    "id": "ot_68T-6qNvK",
    "outputId": "d072c563-f7e8-4d39-afef-6bfd1fab717e"
   },
   "outputs": [
    {
     "data": {
      "text/plain": [
       "Self employed    127635\n",
       "Salaried          97858\n",
       "Name: Employment.Type, dtype: int64"
      ]
     },
     "execution_count": 132,
     "metadata": {
      "tags": []
     },
     "output_type": "execute_result"
    }
   ],
   "source": [
    "train_data['Employment.Type'].value_counts()"
   ]
  },
  {
   "cell_type": "code",
   "execution_count": 0,
   "metadata": {
    "colab": {
     "base_uri": "https://localhost:8080/",
     "height": 34
    },
    "colab_type": "code",
    "id": "cwAUsvwkqNvT",
    "outputId": "5d0b82ba-7a12-4d17-f168-bf815ababfd7"
   },
   "outputs": [
    {
     "data": {
      "text/plain": [
       "0.0328581109481287"
      ]
     },
     "execution_count": 133,
     "metadata": {
      "tags": []
     },
     "output_type": "execute_result"
    }
   ],
   "source": [
    "7661/233154"
   ]
  },
  {
   "cell_type": "code",
   "execution_count": 0,
   "metadata": {
    "colab": {
     "base_uri": "https://localhost:8080/",
     "height": 51
    },
    "colab_type": "code",
    "id": "QjnhqxIEqNvZ",
    "outputId": "a831db58-72b1-4c28-fedc-8b99301aa71d"
   },
   "outputs": [
    {
     "data": {
      "text/plain": [
       "0    Self employed\n",
       "dtype: object"
      ]
     },
     "execution_count": 134,
     "metadata": {
      "tags": []
     },
     "output_type": "execute_result"
    }
   ],
   "source": [
    "#calculating the mode value\n",
    "train_data['Employment.Type'].mode()"
   ]
  },
  {
   "cell_type": "code",
   "execution_count": 0,
   "metadata": {
    "colab": {},
    "colab_type": "code",
    "id": "1cox0jJhqNvf"
   },
   "outputs": [],
   "source": [
    "#replacing the missing values with mode\n",
    "train_data[\"Employment.Type\"] = train_data['Employment.Type'].replace({np.NaN:'Self employed'})\n",
    "test_data[\"Employment.Type\"] = test_data['Employment.Type'].replace({np.NaN:'Self employed'})"
   ]
  },
  {
   "cell_type": "code",
   "execution_count": 0,
   "metadata": {
    "colab": {},
    "colab_type": "code",
    "id": "qBj6zB4cqNvk"
   },
   "outputs": [],
   "source": [
    "#cleaning the avverage acct age extracting to months\n",
    "month = []\n",
    "for i in range(len(train_data['AVERAGE.ACCT.AGE'])):\n",
    "    month.append((int(train_data['AVERAGE.ACCT.AGE'][i].split(\" \")[0][:-3])*12)+\n",
    "    int(train_data['AVERAGE.ACCT.AGE'][i].split(\" \")[1][:-3]))"
   ]
  },
  {
   "cell_type": "code",
   "execution_count": 0,
   "metadata": {
    "colab": {},
    "colab_type": "code",
    "id": "fLxiWB_5qNvq"
   },
   "outputs": [],
   "source": [
    "month1 = []\n",
    "for i in range(len(test_data['AVERAGE.ACCT.AGE'])):\n",
    "    month1.append((int(test_data['AVERAGE.ACCT.AGE'][i].split(\" \")[0][:-3])*12)+\n",
    "    int(test_data['AVERAGE.ACCT.AGE'][i].split(\" \")[1][:-3]))"
   ]
  },
  {
   "cell_type": "code",
   "execution_count": 0,
   "metadata": {
    "colab": {},
    "colab_type": "code",
    "id": "oySrdtZzqNvu"
   },
   "outputs": [],
   "source": [
    "train_data['AVERAGE.ACCT.AGE'] = month"
   ]
  },
  {
   "cell_type": "code",
   "execution_count": 0,
   "metadata": {
    "colab": {},
    "colab_type": "code",
    "id": "AjyGe8dxqNvy"
   },
   "outputs": [],
   "source": [
    "test_data['AVERAGE.ACCT.AGE'] = month1"
   ]
  },
  {
   "cell_type": "code",
   "execution_count": 0,
   "metadata": {
    "colab": {},
    "colab_type": "code",
    "id": "ItkHKwU1qNv2"
   },
   "outputs": [],
   "source": [
    "#cleaning the credit history length extracting to months\n",
    "credit_month=[]\n",
    "for i in range (len(train_data[\"CREDIT.HISTORY.LENGTH\"])):\n",
    "    credit_month.append((int(train_data['CREDIT.HISTORY.LENGTH'][i].split(\" \")[0][:-3])*12)+int(train_data['CREDIT.HISTORY.LENGTH'][i].split(\" \")[1][:-3]))"
   ]
  },
  {
   "cell_type": "code",
   "execution_count": 0,
   "metadata": {
    "colab": {},
    "colab_type": "code",
    "id": "x4BmYDn5qNv9"
   },
   "outputs": [],
   "source": [
    "credit_month1=[]\n",
    "for i in range (len(test_data[\"CREDIT.HISTORY.LENGTH\"])):\n",
    "    credit_month1.append((int(test_data['CREDIT.HISTORY.LENGTH'][i].split(\" \")[0][:-3])*12)+int(test_data['CREDIT.HISTORY.LENGTH'][i].split(\" \")[1][:-3]))"
   ]
  },
  {
   "cell_type": "code",
   "execution_count": 0,
   "metadata": {
    "colab": {},
    "colab_type": "code",
    "id": "n75KDdd8qNwE"
   },
   "outputs": [],
   "source": [
    "train_data['CREDIT.HISTORY.LENGTH']=credit_month"
   ]
  },
  {
   "cell_type": "code",
   "execution_count": 0,
   "metadata": {
    "colab": {},
    "colab_type": "code",
    "id": "s79gxXhtqNwQ"
   },
   "outputs": [],
   "source": [
    "test_data['CREDIT.HISTORY.LENGTH']=credit_month1"
   ]
  },
  {
   "cell_type": "code",
   "execution_count": 0,
   "metadata": {
    "colab": {
     "base_uri": "https://localhost:8080/",
     "height": 301
    },
    "colab_type": "code",
    "id": "fE1iIabGJ_Ei",
    "outputId": "1138c4dc-88fb-4785-fa40-56a64d767e20"
   },
   "outputs": [
    {
     "data": {
      "text/plain": [
       "<matplotlib.axes._subplots.AxesSubplot at 0x7fec9f412da0>"
      ]
     },
     "execution_count": 144,
     "metadata": {
      "tags": []
     },
     "output_type": "execute_result"
    },
    {
     "data": {
      "image/png": "[encoded data removed]",
      "text/plain": [
       "<Figure size 432x288 with 1 Axes>"
      ]
     },
     "metadata": {
      "tags": []
     },
     "output_type": "display_data"
    }
   ],
   "source": [
    "#box plot for disburswd amount\n",
    "sns.boxplot(train_data['disbursed_amount'])"
   ]
  },
  {
   "cell_type": "code",
   "execution_count": 0,
   "metadata": {
    "colab": {},
    "colab_type": "code",
    "id": "H_ZbW47eJ_BK"
   },
   "outputs": [],
   "source": [
    "#train_data['disbursed_amount'] = train_data[train_data['disbursed_amount']<20000].reset_index(drop=True)  #removing the outliers"
   ]
  },
  {
   "cell_type": "code",
   "execution_count": 0,
   "metadata": {
    "colab": {
     "base_uri": "https://localhost:8080/",
     "height": 300
    },
    "colab_type": "code",
    "id": "0zKRWSsjqNw2",
    "outputId": "8b5b4bdf-ec5b-4735-d919-1f0306934a2a"
   },
   "outputs": [
    {
     "data": {
      "text/plain": [
       "<matplotlib.axes._subplots.AxesSubplot at 0x7fec9f43ac88>"
      ]
     },
     "execution_count": 146,
     "metadata": {
      "tags": []
     },
     "output_type": "execute_result"
    },
    {
     "data": {
      "image/png": "[encoded data removed]",
      "text/plain": [
       "<Figure size 432x288 with 1 Axes>"
      ]
     },
     "metadata": {
      "tags": []
     },
     "output_type": "display_data"
    }
   ],
   "source": [
    "#plotting the number of salaried and self employed one\n",
    "sns.countplot(train_data['Employment.Type'])"
   ]
  },
  {
   "cell_type": "code",
   "execution_count": 0,
   "metadata": {
    "colab": {
     "base_uri": "https://localhost:8080/",
     "height": 718
    },
    "colab_type": "code",
    "id": "Y0aIShoqqNw6",
    "outputId": "e8ed0bf9-080c-446d-d13c-ff163061c3db"
   },
   "outputs": [
    {
     "data": {
      "text/html": [
       "<div>\n",
       "<style scoped>\n",
       "    .dataframe tbody tr th:only-of-type {\n",
       "        vertical-align: middle;\n",
       "    }\n",
       "\n",
       "    .dataframe tbody tr th {\n",
       "        vertical-align: top;\n",
       "    }\n",
       "\n",
       "    .dataframe thead th {\n",
       "        text-align: right;\n",
       "    }\n",
       "</style>\n",
       "<table border=\"1\" class=\"dataframe\">\n",
       "  <thead>\n",
       "    <tr style=\"text-align: right;\">\n",
       "      <th>loan_default</th>\n",
       "      <th>0</th>\n",
       "      <th>1</th>\n",
       "      <th>Total</th>\n",
       "    </tr>\n",
       "    <tr>\n",
       "      <th>Employment.Type</th>\n",
       "      <th></th>\n",
       "      <th></th>\n",
       "      <th></th>\n",
       "    </tr>\n",
       "  </thead>\n",
       "  <tbody>\n",
       "    <tr>\n",
       "      <th>Salaried</th>\n",
       "      <td>77948</td>\n",
       "      <td>19910</td>\n",
       "      <td>97858</td>\n",
       "    </tr>\n",
       "    <tr>\n",
       "      <th>Self employed</th>\n",
       "      <td>104595</td>\n",
       "      <td>30701</td>\n",
       "      <td>135296</td>\n",
       "    </tr>\n",
       "    <tr>\n",
       "      <th>Total</th>\n",
       "      <td>182543</td>\n",
       "      <td>50611</td>\n",
       "      <td>233154</td>\n",
       "    </tr>\n",
       "  </tbody>\n",
       "</table>\n",
       "</div>"
      ],
      "text/plain": [
       "loan_default          0      1   Total\n",
       "Employment.Type                       \n",
       "Salaried          77948  19910   97858\n",
       "Self employed    104595  30701  135296\n",
       "Total            182543  50611  233154"
      ]
     },
     "execution_count": 147,
     "metadata": {
      "tags": []
     },
     "output_type": "execute_result"
    },
    {
     "data": {
      "image/png": "[encoded data removed]",
      "text/plain": [
       "<Figure size 720x576 with 1 Axes>"
      ]
     },
     "metadata": {
      "tags": []
     },
     "output_type": "display_data"
    }
   ],
   "source": [
    "#checking the defaulters within salalried and self employed\n",
    "plot = pd.crosstab(train_data['Employment.Type'],train_data['loan_default'],margins_name='Total',margins=True)\n",
    "plot.plot(kind='bar',figsize=(10,8),stacked=True)\n",
    "plot"
   ]
  },
  {
   "cell_type": "code",
   "execution_count": 0,
   "metadata": {
    "colab": {
     "base_uri": "https://localhost:8080/",
     "height": 301
    },
    "colab_type": "code",
    "id": "vHDf5jljqNxF",
    "outputId": "45156e1e-71e1-4529-e9db-963a6ca41056"
   },
   "outputs": [
    {
     "data": {
      "text/plain": [
       "<matplotlib.axes._subplots.AxesSubplot at 0x7fec9f3a7a20>"
      ]
     },
     "execution_count": 149,
     "metadata": {
      "tags": []
     },
     "output_type": "execute_result"
    },
    {
     "data": {
      "image/png": "[encoded data removed]",
      "text/plain": [
       "<Figure size 432x288 with 1 Axes>"
      ]
     },
     "metadata": {
      "tags": []
     },
     "output_type": "display_data"
    }
   ],
   "source": [
    "#plotting the number of different state counts\n",
    "sns.countplot(train_data['State_ID'])"
   ]
  },
  {
   "cell_type": "code",
   "execution_count": 0,
   "metadata": {
    "colab": {
     "base_uri": "https://localhost:8080/",
     "height": 793
    },
    "colab_type": "code",
    "id": "8Qt7w797qNxQ",
    "outputId": "352ba292-edfd-481e-f9de-f6fcd1b82352"
   },
   "outputs": [
    {
     "data": {
      "text/html": [
       "<div>\n",
       "<style scoped>\n",
       "    .dataframe tbody tr th:only-of-type {\n",
       "        vertical-align: middle;\n",
       "    }\n",
       "\n",
       "    .dataframe tbody tr th {\n",
       "        vertical-align: top;\n",
       "    }\n",
       "\n",
       "    .dataframe thead th {\n",
       "        text-align: right;\n",
       "    }\n",
       "</style>\n",
       "<table border=\"1\" class=\"dataframe\">\n",
       "  <thead>\n",
       "    <tr style=\"text-align: right;\">\n",
       "      <th>loan_default</th>\n",
       "      <th>0</th>\n",
       "      <th>1</th>\n",
       "      <th>Total</th>\n",
       "    </tr>\n",
       "    <tr>\n",
       "      <th>State_ID</th>\n",
       "      <th></th>\n",
       "      <th></th>\n",
       "      <th></th>\n",
       "    </tr>\n",
       "  </thead>\n",
       "  <tbody>\n",
       "    <tr>\n",
       "      <th>1</th>\n",
       "      <td>7353</td>\n",
       "      <td>1583</td>\n",
       "      <td>8936</td>\n",
       "    </tr>\n",
       "    <tr>\n",
       "      <th>2</th>\n",
       "      <td>3031</td>\n",
       "      <td>1129</td>\n",
       "      <td>4160</td>\n",
       "    </tr>\n",
       "    <tr>\n",
       "      <th>3</th>\n",
       "      <td>27733</td>\n",
       "      <td>6345</td>\n",
       "      <td>34078</td>\n",
       "    </tr>\n",
       "    <tr>\n",
       "      <th>4</th>\n",
       "      <td>35544</td>\n",
       "      <td>9326</td>\n",
       "      <td>44870</td>\n",
       "    </tr>\n",
       "    <tr>\n",
       "      <th>5</th>\n",
       "      <td>8154</td>\n",
       "      <td>2023</td>\n",
       "      <td>10177</td>\n",
       "    </tr>\n",
       "    <tr>\n",
       "      <th>6</th>\n",
       "      <td>26615</td>\n",
       "      <td>6890</td>\n",
       "      <td>33505</td>\n",
       "    </tr>\n",
       "    <tr>\n",
       "      <th>7</th>\n",
       "      <td>5417</td>\n",
       "      <td>1369</td>\n",
       "      <td>6786</td>\n",
       "    </tr>\n",
       "    <tr>\n",
       "      <th>8</th>\n",
       "      <td>10939</td>\n",
       "      <td>3258</td>\n",
       "      <td>14197</td>\n",
       "    </tr>\n",
       "    <tr>\n",
       "      <th>9</th>\n",
       "      <td>12530</td>\n",
       "      <td>3492</td>\n",
       "      <td>16022</td>\n",
       "    </tr>\n",
       "    <tr>\n",
       "      <th>10</th>\n",
       "      <td>2972</td>\n",
       "      <td>633</td>\n",
       "      <td>3605</td>\n",
       "    </tr>\n",
       "    <tr>\n",
       "      <th>11</th>\n",
       "      <td>5348</td>\n",
       "      <td>1373</td>\n",
       "      <td>6721</td>\n",
       "    </tr>\n",
       "    <tr>\n",
       "      <th>12</th>\n",
       "      <td>3092</td>\n",
       "      <td>1118</td>\n",
       "      <td>4210</td>\n",
       "    </tr>\n",
       "    <tr>\n",
       "      <th>13</th>\n",
       "      <td>12401</td>\n",
       "      <td>5483</td>\n",
       "      <td>17884</td>\n",
       "    </tr>\n",
       "    <tr>\n",
       "      <th>14</th>\n",
       "      <td>6817</td>\n",
       "      <td>2597</td>\n",
       "      <td>9414</td>\n",
       "    </tr>\n",
       "    <tr>\n",
       "      <th>15</th>\n",
       "      <td>3981</td>\n",
       "      <td>1068</td>\n",
       "      <td>5049</td>\n",
       "    </tr>\n",
       "    <tr>\n",
       "      <th>16</th>\n",
       "      <td>2192</td>\n",
       "      <td>493</td>\n",
       "      <td>2685</td>\n",
       "    </tr>\n",
       "    <tr>\n",
       "      <th>17</th>\n",
       "      <td>3010</td>\n",
       "      <td>981</td>\n",
       "      <td>3991</td>\n",
       "    </tr>\n",
       "    <tr>\n",
       "      <th>18</th>\n",
       "      <td>4221</td>\n",
       "      <td>1191</td>\n",
       "      <td>5412</td>\n",
       "    </tr>\n",
       "    <tr>\n",
       "      <th>19</th>\n",
       "      <td>848</td>\n",
       "      <td>187</td>\n",
       "      <td>1035</td>\n",
       "    </tr>\n",
       "    <tr>\n",
       "      <th>20</th>\n",
       "      <td>153</td>\n",
       "      <td>32</td>\n",
       "      <td>185</td>\n",
       "    </tr>\n",
       "    <tr>\n",
       "      <th>21</th>\n",
       "      <td>125</td>\n",
       "      <td>31</td>\n",
       "      <td>156</td>\n",
       "    </tr>\n",
       "    <tr>\n",
       "      <th>22</th>\n",
       "      <td>67</td>\n",
       "      <td>9</td>\n",
       "      <td>76</td>\n",
       "    </tr>\n",
       "    <tr>\n",
       "      <th>Total</th>\n",
       "      <td>182543</td>\n",
       "      <td>50611</td>\n",
       "      <td>233154</td>\n",
       "    </tr>\n",
       "  </tbody>\n",
       "</table>\n",
       "</div>"
      ],
      "text/plain": [
       "loan_default       0      1   Total\n",
       "State_ID                           \n",
       "1               7353   1583    8936\n",
       "2               3031   1129    4160\n",
       "3              27733   6345   34078\n",
       "4              35544   9326   44870\n",
       "5               8154   2023   10177\n",
       "6              26615   6890   33505\n",
       "7               5417   1369    6786\n",
       "8              10939   3258   14197\n",
       "9              12530   3492   16022\n",
       "10              2972    633    3605\n",
       "11              5348   1373    6721\n",
       "12              3092   1118    4210\n",
       "13             12401   5483   17884\n",
       "14              6817   2597    9414\n",
       "15              3981   1068    5049\n",
       "16              2192    493    2685\n",
       "17              3010    981    3991\n",
       "18              4221   1191    5412\n",
       "19               848    187    1035\n",
       "20               153     32     185\n",
       "21               125     31     156\n",
       "22                67      9      76\n",
       "Total         182543  50611  233154"
      ]
     },
     "execution_count": 150,
     "metadata": {
      "tags": []
     },
     "output_type": "execute_result"
    }
   ],
   "source": [
    "#checking the defaulters within the states\n",
    "pd.crosstab(train_data['State_ID'],train_data['loan_default'],margins_name='Total',margins=True)"
   ]
  },
  {
   "cell_type": "code",
   "execution_count": 0,
   "metadata": {
    "colab": {
     "base_uri": "https://localhost:8080/",
     "height": 521
    },
    "colab_type": "code",
    "id": "EUfXfWchqNxX",
    "outputId": "33edc399-6c62-41b9-b323-9b6dc34cacd3"
   },
   "outputs": [
    {
     "data": {
      "text/plain": [
       "<matplotlib.axes._subplots.AxesSubplot at 0x7fec9f247f60>"
      ]
     },
     "execution_count": 151,
     "metadata": {
      "tags": []
     },
     "output_type": "execute_result"
    },
    {
     "data": {
      "image/png": "[encoded data removed]",
      "text/plain": [
       "<Figure size 720x576 with 1 Axes>"
      ]
     },
     "metadata": {
      "tags": []
     },
     "output_type": "display_data"
    }
   ],
   "source": [
    "#plotting \n",
    "state_plot = pd.crosstab(train_data['State_ID'],train_data['loan_default'])\n",
    "state_plot.plot(kind='bar',figsize=(10,8))"
   ]
  },
  {
   "cell_type": "code",
   "execution_count": 0,
   "metadata": {
    "colab": {
     "base_uri": "https://localhost:8080/",
     "height": 68
    },
    "colab_type": "code",
    "id": "2mGNllqmqNxd",
    "outputId": "c9f8e4c0-54f3-4479-c6b7-bbd5c8196f07"
   },
   "outputs": [
    {
     "data": {
      "text/plain": [
       "1    195924\n",
       "0     37230\n",
       "Name: Aadhar_flag, dtype: int64"
      ]
     },
     "execution_count": 152,
     "metadata": {
      "tags": []
     },
     "output_type": "execute_result"
    }
   ],
   "source": [
    "train_data['Aadhar_flag'].value_counts()"
   ]
  },
  {
   "cell_type": "code",
   "execution_count": 0,
   "metadata": {
    "colab": {
     "base_uri": "https://localhost:8080/",
     "height": 436
    },
    "colab_type": "code",
    "id": "rQ24ko9BqNxm",
    "outputId": "5969b4e3-1d45-4e81-c5c4-28ca2cf57a3c"
   },
   "outputs": [
    {
     "data": {
      "text/html": [
       "<div>\n",
       "<style scoped>\n",
       "    .dataframe tbody tr th:only-of-type {\n",
       "        vertical-align: middle;\n",
       "    }\n",
       "\n",
       "    .dataframe tbody tr th {\n",
       "        vertical-align: top;\n",
       "    }\n",
       "\n",
       "    .dataframe thead th {\n",
       "        text-align: right;\n",
       "    }\n",
       "</style>\n",
       "<table border=\"1\" class=\"dataframe\">\n",
       "  <thead>\n",
       "    <tr style=\"text-align: right;\">\n",
       "      <th>loan_default</th>\n",
       "      <th>0</th>\n",
       "      <th>1</th>\n",
       "      <th>Total</th>\n",
       "    </tr>\n",
       "    <tr>\n",
       "      <th>Aadhar_flag</th>\n",
       "      <th></th>\n",
       "      <th></th>\n",
       "      <th></th>\n",
       "    </tr>\n",
       "  </thead>\n",
       "  <tbody>\n",
       "    <tr>\n",
       "      <th>0</th>\n",
       "      <td>27684</td>\n",
       "      <td>9546</td>\n",
       "      <td>37230</td>\n",
       "    </tr>\n",
       "    <tr>\n",
       "      <th>1</th>\n",
       "      <td>154859</td>\n",
       "      <td>41065</td>\n",
       "      <td>195924</td>\n",
       "    </tr>\n",
       "    <tr>\n",
       "      <th>Total</th>\n",
       "      <td>182543</td>\n",
       "      <td>50611</td>\n",
       "      <td>233154</td>\n",
       "    </tr>\n",
       "  </tbody>\n",
       "</table>\n",
       "</div>"
      ],
      "text/plain": [
       "loan_default       0      1   Total\n",
       "Aadhar_flag                        \n",
       "0              27684   9546   37230\n",
       "1             154859  41065  195924\n",
       "Total         182543  50611  233154"
      ]
     },
     "execution_count": 153,
     "metadata": {
      "tags": []
     },
     "output_type": "execute_result"
    },
    {
     "data": {
      "image/png": "[encoded data removed]",
      "text/plain": [
       "<Figure size 432x288 with 1 Axes>"
      ]
     },
     "metadata": {
      "tags": []
     },
     "output_type": "display_data"
    }
   ],
   "source": [
    "#checking the defaulters with adharr or without adhaar\n",
    "adhar_plot = pd.crosstab(train_data['Aadhar_flag'],train_data['loan_default'])\n",
    "adhar_plot.plot(kind='bar')\n",
    "pd.crosstab(train_data['Aadhar_flag'],train_data['loan_default'],margins_name='Total',margins=True)"
   ]
  },
  {
   "cell_type": "code",
   "execution_count": 0,
   "metadata": {
    "colab": {
     "base_uri": "https://localhost:8080/",
     "height": 469
    },
    "colab_type": "code",
    "id": "95X4O7QLqNxr",
    "outputId": "2d16b97e-1ed6-45eb-b205-fbfa2c89d6fe"
   },
   "outputs": [
    {
     "data": {
      "text/html": [
       "<div>\n",
       "<style scoped>\n",
       "    .dataframe tbody tr th:only-of-type {\n",
       "        vertical-align: middle;\n",
       "    }\n",
       "\n",
       "    .dataframe tbody tr th {\n",
       "        vertical-align: top;\n",
       "    }\n",
       "\n",
       "    .dataframe thead th {\n",
       "        text-align: right;\n",
       "    }\n",
       "</style>\n",
       "<table border=\"1\" class=\"dataframe\">\n",
       "  <thead>\n",
       "    <tr style=\"text-align: right;\">\n",
       "      <th>Aadhar_flag</th>\n",
       "      <th>0</th>\n",
       "      <th>1</th>\n",
       "    </tr>\n",
       "    <tr>\n",
       "      <th>Employment.Type</th>\n",
       "      <th></th>\n",
       "      <th></th>\n",
       "    </tr>\n",
       "  </thead>\n",
       "  <tbody>\n",
       "    <tr>\n",
       "      <th>Salaried</th>\n",
       "      <td>12276</td>\n",
       "      <td>85582</td>\n",
       "    </tr>\n",
       "    <tr>\n",
       "      <th>Self employed</th>\n",
       "      <td>24954</td>\n",
       "      <td>110342</td>\n",
       "    </tr>\n",
       "  </tbody>\n",
       "</table>\n",
       "</div>"
      ],
      "text/plain": [
       "Aadhar_flag          0       1\n",
       "Employment.Type               \n",
       "Salaried         12276   85582\n",
       "Self employed    24954  110342"
      ]
     },
     "execution_count": 154,
     "metadata": {
      "tags": []
     },
     "output_type": "execute_result"
    },
    {
     "data": {
      "image/png": "[encoded data removed]",
      "text/plain": [
       "<Figure size 432x288 with 1 Axes>"
      ]
     },
     "metadata": {
      "tags": []
     },
     "output_type": "display_data"
    }
   ],
   "source": [
    "adharVsSalaried = pd.crosstab(train_data['Employment.Type'],train_data['Aadhar_flag'])\n",
    "adharVsSalaried.plot(kind='bar')\n",
    "pd.crosstab(train_data['Employment.Type'],train_data['Aadhar_flag'])"
   ]
  },
  {
   "cell_type": "code",
   "execution_count": 0,
   "metadata": {
    "colab": {
     "base_uri": "https://localhost:8080/",
     "height": 286
    },
    "colab_type": "code",
    "id": "-C799g4qqNxv",
    "outputId": "f013102f-f4c9-494a-e5de-f4a8bcd4f42a"
   },
   "outputs": [
    {
     "data": {
      "text/plain": [
       "<matplotlib.axes._subplots.AxesSubplot at 0x7fec9f0f2ac8>"
      ]
     },
     "execution_count": 155,
     "metadata": {
      "tags": []
     },
     "output_type": "execute_result"
    },
    {
     "data": {
      "image/png": "[encoded data removed]",
      "text/plain": [
       "<Figure size 432x288 with 1 Axes>"
      ]
     },
     "metadata": {
      "tags": []
     },
     "output_type": "display_data"
    }
   ],
   "source": [
    "plyt= pd.crosstab(train_data['loan_default'],[train_data['Employment.Type'],train_data['Aadhar_flag']])\n",
    "plyt.plot(kind='barh')"
   ]
  },
  {
   "cell_type": "code",
   "execution_count": 0,
   "metadata": {
    "colab": {
     "base_uri": "https://localhost:8080/",
     "height": 85
    },
    "colab_type": "code",
    "id": "CYPLJlkfqNx1",
    "outputId": "411d1f02-85ce-4c96-d4d4-c315d11fbc3e"
   },
   "outputs": [
    {
     "data": {
      "text/plain": [
       "Employment.Type\n",
       "Salaried         5336662103\n",
       "Self employed    7336888366\n",
       "Name: disbursed_amount, dtype: int64"
      ]
     },
     "execution_count": 156,
     "metadata": {
      "tags": []
     },
     "output_type": "execute_result"
    }
   ],
   "source": [
    "# which type of employees are taking the more disbursed amount\n",
    "train_data.groupby(['Employment.Type'])['disbursed_amount'].sum()  "
   ]
  },
  {
   "cell_type": "code",
   "execution_count": 0,
   "metadata": {
    "colab": {
     "base_uri": "https://localhost:8080/",
     "height": 299
    },
    "colab_type": "code",
    "id": "E6oRlThkqNx8",
    "outputId": "afb37131-516e-4f19-a9cb-1c008c8467e1"
   },
   "outputs": [
    {
     "data": {
      "text/plain": [
       "<matplotlib.axes._subplots.AxesSubplot at 0x7fec9f07ca20>"
      ]
     },
     "execution_count": 157,
     "metadata": {
      "tags": []
     },
     "output_type": "execute_result"
    },
    {
     "data": {
      "image/png": "[encoded data removed]",
      "text/plain": [
       "<Figure size 432x288 with 1 Axes>"
      ]
     },
     "metadata": {
      "tags": []
     },
     "output_type": "display_data"
    }
   ],
   "source": [
    "emp_plot = train_data.groupby(['Employment.Type'])['disbursed_amount'].sum()  \n",
    "emp_plot.plot(kind='barh')"
   ]
  },
  {
   "cell_type": "code",
   "execution_count": 0,
   "metadata": {
    "colab": {
     "base_uri": "https://localhost:8080/",
     "height": 299
    },
    "colab_type": "code",
    "id": "YoUG4MW7qNyA",
    "outputId": "092c3c55-fdc3-4d54-ca99-30e5ba6b8dc3"
   },
   "outputs": [
    {
     "data": {
      "text/plain": [
       "<matplotlib.axes._subplots.AxesSubplot at 0x7fec9efda080>"
      ]
     },
     "execution_count": 158,
     "metadata": {
      "tags": []
     },
     "output_type": "execute_result"
    },
    {
     "data": {
      "image/png": "[encoded data removed]",
      "text/plain": [
       "<Figure size 432x288 with 1 Axes>"
      ]
     },
     "metadata": {
      "tags": []
     },
     "output_type": "display_data"
    }
   ],
   "source": [
    "#plotting how the dusbursed the loan amount in different states\n",
    "stae_plot = train_data.groupby(['State_ID'])['disbursed_amount'].sum()\n",
    "stae_plot.plot(kind='barh')"
   ]
  },
  {
   "cell_type": "code",
   "execution_count": 0,
   "metadata": {
    "colab": {
     "base_uri": "https://localhost:8080/",
     "height": 286
    },
    "colab_type": "code",
    "id": "apELXKqUqNyG",
    "outputId": "7d87ec57-bf78-4f60-be77-6dca3bb17a7b",
    "scrolled": true
   },
   "outputs": [
    {
     "data": {
      "text/plain": [
       "<matplotlib.axes._subplots.AxesSubplot at 0x7fec9efb8ba8>"
      ]
     },
     "execution_count": 159,
     "metadata": {
      "tags": []
     },
     "output_type": "execute_result"
    },
    {
     "data": {
      "image/png": "[encoded data removed]",
      "text/plain": [
       "<Figure size 432x288 with 1 Axes>"
      ]
     },
     "metadata": {
      "tags": []
     },
     "output_type": "display_data"
    }
   ],
   "source": [
    "# count of toatal actiave loans of the customer grouping by state\n",
    "stateVspri_active=train_data.groupby(['State_ID'])['PRI.ACTIVE.ACCTS'].sum()\n",
    "stateVspri_active.plot(kind='barh')\n"
   ]
  },
  {
   "cell_type": "code",
   "execution_count": 0,
   "metadata": {
    "colab": {
     "base_uri": "https://localhost:8080/",
     "height": 286
    },
    "colab_type": "code",
    "id": "Nw79j2BeqNyL",
    "outputId": "b8bc4b81-4e6e-4a4d-a3f4-2319ac5212c0"
   },
   "outputs": [
    {
     "data": {
      "text/plain": [
       "<matplotlib.axes._subplots.AxesSubplot at 0x7fec9f3786d8>"
      ]
     },
     "execution_count": 160,
     "metadata": {
      "tags": []
     },
     "output_type": "execute_result"
    },
    {
     "data": {
      "image/png": "[encoded data removed]",
      "text/plain": [
       "<Figure size 432x288 with 1 Axes>"
      ]
     },
     "metadata": {
      "tags": []
     },
     "output_type": "display_data"
    }
   ],
   "source": [
    "#secondary account in different states\n",
    "stateVspri_active=train_data.groupby(['State_ID'])['SEC.ACTIVE.ACCTS'].sum()\n",
    "stateVspri_active.plot(kind='barh')"
   ]
  },
  {
   "cell_type": "code",
   "execution_count": 0,
   "metadata": {
    "colab": {
     "base_uri": "https://localhost:8080/",
     "height": 432
    },
    "colab_type": "code",
    "id": "CM7eVTOFqNyP",
    "outputId": "649263fe-aed8-4652-d5c1-3a422de2f74c"
   },
   "outputs": [
    {
     "data": {
      "text/plain": [
       "Employment.Type\n",
       "Salaried         18311459010\n",
       "Self employed    32531477525\n",
       "Name: PRI.DISBURSED.AMOUNT, dtype: int64"
      ]
     },
     "execution_count": 161,
     "metadata": {
      "tags": []
     },
     "output_type": "execute_result"
    },
    {
     "data": {
      "image/png": "[encoded data removed]",
      "text/plain": [
       "<Figure size 432x432 with 1 Axes>"
      ]
     },
     "metadata": {
      "tags": []
     },
     "output_type": "display_data"
    }
   ],
   "source": [
    "# analysis on which type of employyes are having more amount of disbursement at the time of laon disbursement \n",
    "#for primary accounts\n",
    "empVsdisbursed = train_data.groupby(['Employment.Type'])['PRI.DISBURSED.AMOUNT'].sum()\n",
    "explode = (0, 0.1)\n",
    "empVsdisbursed.plot.pie(subplots=True,figsize=(6,6),explode=explode,autopct='%1.1f%%')\n",
    "train_data.groupby(['Employment.Type'])['PRI.DISBURSED.AMOUNT'].sum()\n",
    "#as you can see that self employed are having more amount of disbursement\n"
   ]
  },
  {
   "cell_type": "code",
   "execution_count": 0,
   "metadata": {
    "colab": {
     "base_uri": "https://localhost:8080/",
     "height": 381
    },
    "colab_type": "code",
    "id": "dc-tAGMuqNyV",
    "outputId": "62b8a27a-6546-45a9-888d-a47d90354c0e"
   },
   "outputs": [
    {
     "data": {
      "text/plain": [
       "<matplotlib.patches.Circle at 0x7fec9ef38828>"
      ]
     },
     "execution_count": 162,
     "metadata": {
      "tags": []
     },
     "output_type": "execute_result"
    },
    {
     "data": {
      "image/png": "[encoded data removed]",
      "text/plain": [
       "<Figure size 432x432 with 1 Axes>"
      ]
     },
     "metadata": {
      "tags": []
     },
     "output_type": "display_data"
    }
   ],
   "source": [
    "# analysis on which type of employyes are having more amount of sanction at the time of laon disbursement \n",
    "empVssanction = train_data.groupby(['Employment.Type'])['PRI.SANCTIONED.AMOUNT'].sum()\n",
    "empVssanction.plot.pie(subplots=True,figsize=(6,6),autopct='%1.1f%%')\n",
    "train_data.groupby(['Employment.Type'])['PRI.SANCTIONED.AMOUNT'].sum()\n",
    "centre_circle = plt.Circle((0,0),0.70,fc='white')\n",
    "fig = plt.gcf()\n",
    "fig.gca().add_artist(centre_circle)"
   ]
  },
  {
   "cell_type": "code",
   "execution_count": 0,
   "metadata": {
    "colab": {
     "base_uri": "https://localhost:8080/",
     "height": 793
    },
    "colab_type": "code",
    "id": "lhGVZiibqNya",
    "outputId": "7b2608e2-e5d1-4be6-af75-803a0730e7e1"
   },
   "outputs": [
    {
     "data": {
      "text/html": [
       "<div>\n",
       "<style scoped>\n",
       "    .dataframe tbody tr th:only-of-type {\n",
       "        vertical-align: middle;\n",
       "    }\n",
       "\n",
       "    .dataframe tbody tr th {\n",
       "        vertical-align: top;\n",
       "    }\n",
       "\n",
       "    .dataframe thead th {\n",
       "        text-align: right;\n",
       "    }\n",
       "</style>\n",
       "<table border=\"1\" class=\"dataframe\">\n",
       "  <thead>\n",
       "    <tr style=\"text-align: right;\">\n",
       "      <th>Employment.Type</th>\n",
       "      <th>Salaried</th>\n",
       "      <th>Self employed</th>\n",
       "      <th>All</th>\n",
       "    </tr>\n",
       "    <tr>\n",
       "      <th>State_ID</th>\n",
       "      <th></th>\n",
       "      <th></th>\n",
       "      <th></th>\n",
       "    </tr>\n",
       "  </thead>\n",
       "  <tbody>\n",
       "    <tr>\n",
       "      <th>1</th>\n",
       "      <td>3888</td>\n",
       "      <td>5048</td>\n",
       "      <td>8936</td>\n",
       "    </tr>\n",
       "    <tr>\n",
       "      <th>2</th>\n",
       "      <td>3141</td>\n",
       "      <td>1019</td>\n",
       "      <td>4160</td>\n",
       "    </tr>\n",
       "    <tr>\n",
       "      <th>3</th>\n",
       "      <td>4511</td>\n",
       "      <td>29567</td>\n",
       "      <td>34078</td>\n",
       "    </tr>\n",
       "    <tr>\n",
       "      <th>4</th>\n",
       "      <td>24365</td>\n",
       "      <td>20505</td>\n",
       "      <td>44870</td>\n",
       "    </tr>\n",
       "    <tr>\n",
       "      <th>5</th>\n",
       "      <td>3926</td>\n",
       "      <td>6251</td>\n",
       "      <td>10177</td>\n",
       "    </tr>\n",
       "    <tr>\n",
       "      <th>6</th>\n",
       "      <td>16446</td>\n",
       "      <td>17059</td>\n",
       "      <td>33505</td>\n",
       "    </tr>\n",
       "    <tr>\n",
       "      <th>7</th>\n",
       "      <td>1392</td>\n",
       "      <td>5394</td>\n",
       "      <td>6786</td>\n",
       "    </tr>\n",
       "    <tr>\n",
       "      <th>8</th>\n",
       "      <td>7600</td>\n",
       "      <td>6597</td>\n",
       "      <td>14197</td>\n",
       "    </tr>\n",
       "    <tr>\n",
       "      <th>9</th>\n",
       "      <td>6884</td>\n",
       "      <td>9138</td>\n",
       "      <td>16022</td>\n",
       "    </tr>\n",
       "    <tr>\n",
       "      <th>10</th>\n",
       "      <td>1781</td>\n",
       "      <td>1824</td>\n",
       "      <td>3605</td>\n",
       "    </tr>\n",
       "    <tr>\n",
       "      <th>11</th>\n",
       "      <td>3270</td>\n",
       "      <td>3451</td>\n",
       "      <td>6721</td>\n",
       "    </tr>\n",
       "    <tr>\n",
       "      <th>12</th>\n",
       "      <td>960</td>\n",
       "      <td>3250</td>\n",
       "      <td>4210</td>\n",
       "    </tr>\n",
       "    <tr>\n",
       "      <th>13</th>\n",
       "      <td>5314</td>\n",
       "      <td>12570</td>\n",
       "      <td>17884</td>\n",
       "    </tr>\n",
       "    <tr>\n",
       "      <th>14</th>\n",
       "      <td>5467</td>\n",
       "      <td>3947</td>\n",
       "      <td>9414</td>\n",
       "    </tr>\n",
       "    <tr>\n",
       "      <th>15</th>\n",
       "      <td>2184</td>\n",
       "      <td>2865</td>\n",
       "      <td>5049</td>\n",
       "    </tr>\n",
       "    <tr>\n",
       "      <th>16</th>\n",
       "      <td>1295</td>\n",
       "      <td>1390</td>\n",
       "      <td>2685</td>\n",
       "    </tr>\n",
       "    <tr>\n",
       "      <th>17</th>\n",
       "      <td>2059</td>\n",
       "      <td>1932</td>\n",
       "      <td>3991</td>\n",
       "    </tr>\n",
       "    <tr>\n",
       "      <th>18</th>\n",
       "      <td>2506</td>\n",
       "      <td>2906</td>\n",
       "      <td>5412</td>\n",
       "    </tr>\n",
       "    <tr>\n",
       "      <th>19</th>\n",
       "      <td>580</td>\n",
       "      <td>455</td>\n",
       "      <td>1035</td>\n",
       "    </tr>\n",
       "    <tr>\n",
       "      <th>20</th>\n",
       "      <td>133</td>\n",
       "      <td>52</td>\n",
       "      <td>185</td>\n",
       "    </tr>\n",
       "    <tr>\n",
       "      <th>21</th>\n",
       "      <td>116</td>\n",
       "      <td>40</td>\n",
       "      <td>156</td>\n",
       "    </tr>\n",
       "    <tr>\n",
       "      <th>22</th>\n",
       "      <td>40</td>\n",
       "      <td>36</td>\n",
       "      <td>76</td>\n",
       "    </tr>\n",
       "    <tr>\n",
       "      <th>All</th>\n",
       "      <td>97858</td>\n",
       "      <td>135296</td>\n",
       "      <td>233154</td>\n",
       "    </tr>\n",
       "  </tbody>\n",
       "</table>\n",
       "</div>"
      ],
      "text/plain": [
       "Employment.Type  Salaried  Self employed     All\n",
       "State_ID                                        \n",
       "1                    3888           5048    8936\n",
       "2                    3141           1019    4160\n",
       "3                    4511          29567   34078\n",
       "4                   24365          20505   44870\n",
       "5                    3926           6251   10177\n",
       "6                   16446          17059   33505\n",
       "7                    1392           5394    6786\n",
       "8                    7600           6597   14197\n",
       "9                    6884           9138   16022\n",
       "10                   1781           1824    3605\n",
       "11                   3270           3451    6721\n",
       "12                    960           3250    4210\n",
       "13                   5314          12570   17884\n",
       "14                   5467           3947    9414\n",
       "15                   2184           2865    5049\n",
       "16                   1295           1390    2685\n",
       "17                   2059           1932    3991\n",
       "18                   2506           2906    5412\n",
       "19                    580            455    1035\n",
       "20                    133             52     185\n",
       "21                    116             40     156\n",
       "22                     40             36      76\n",
       "All                 97858         135296  233154"
      ]
     },
     "execution_count": 163,
     "metadata": {
      "tags": []
     },
     "output_type": "execute_result"
    }
   ],
   "source": [
    "#stateVsempType= pd.crosstab(train_data['State_ID'],train_data['Employment.Type'],margins=True,margins_name='All')\n",
    "#stateVsempType.plot.bar(figsize=(16,8))\n",
    "pd.crosstab(train_data['State_ID'],train_data['Employment.Type'],margins=True,margins_name='All')\n",
    "#state 4 has hight number of salaried and state 3 contains high nymber of self employes"
   ]
  },
  {
   "cell_type": "code",
   "execution_count": 0,
   "metadata": {
    "colab": {
     "base_uri": "https://localhost:8080/",
     "height": 493
    },
    "colab_type": "code",
    "id": "3EW9RzhGqNyi",
    "outputId": "fb49be97-3c95-4bcb-883e-eecd01b0678c"
   },
   "outputs": [
    {
     "data": {
      "image/png": "[encoded data removed]",
      "text/plain": [
       "<Figure size 432x288 with 1 Axes>"
      ]
     },
     "metadata": {
      "tags": []
     },
     "output_type": "display_data"
    },
    {
     "data": {
      "image/png": "[encoded data removed]",
      "text/plain": [
       "<Figure size 432x288 with 1 Axes>"
      ]
     },
     "metadata": {
      "tags": []
     },
     "output_type": "display_data"
    }
   ],
   "source": [
    "# analysis on which type of employyes are having more default accountsof at the time of laon disbursement \n",
    "empVsOverDue_pri = train_data.groupby(['Employment.Type'])['PRI.OVERDUE.ACCTS'].sum()\n",
    "empVsOverDue_sec = train_data.groupby(['Employment.Type'])['SEC.OVERDUE.ACCTS'].sum()\n",
    "empVsOverDue_pri,empVsOverDue_sec\n",
    "plt.figure(0)\n",
    "empVsOverDue_pri.plot.pie(subplots=True,figsize=(6,4),autopct='%1.1f%%')\n",
    "plt.figure(1)\n",
    "empVsOverDue_sec.plot.pie(subplots=True,figsize=(6,4),autopct='%1.1f%%')\n",
    "plt.show()\n",
    "#we can see that both of primary and secondary account hoders of salaried are having more default accounts"
   ]
  },
  {
   "cell_type": "code",
   "execution_count": 0,
   "metadata": {
    "colab": {
     "base_uri": "https://localhost:8080/",
     "height": 412
    },
    "colab_type": "code",
    "id": "cENZbj-ZqNyn",
    "outputId": "775d41d3-aa1f-458c-dc76-3592afceeac9"
   },
   "outputs": [
    {
     "data": {
      "text/plain": [
       "Employment.Type\n",
       "Salaried          97858\n",
       "Self employed    135296\n",
       "Name: NO.OF_INQUIRIES, dtype: int64"
      ]
     },
     "execution_count": 165,
     "metadata": {
      "tags": []
     },
     "output_type": "execute_result"
    },
    {
     "data": {
      "image/png": "[encoded data removed]",
      "text/plain": [
       "<Figure size 432x288 with 1 Axes>"
      ]
     },
     "metadata": {
      "tags": []
     },
     "output_type": "display_data"
    }
   ],
   "source": [
    "#let see that whicg=h type of employees are getting more number of enquires are getting\n",
    "train_data.groupby(['Employment.Type'])['NO.OF_INQUIRIES'].count().plot.bar()\n",
    "train_data.groupby(['Employment.Type'])['NO.OF_INQUIRIES'].count()\n",
    "#self employeed people are having more number of enquiry calls"
   ]
  },
  {
   "cell_type": "code",
   "execution_count": 0,
   "metadata": {
    "colab": {
     "base_uri": "https://localhost:8080/",
     "height": 374
    },
    "colab_type": "code",
    "id": "W7KTDeddqNys",
    "outputId": "147e4abd-0a29-4085-cfec-96bb60c18945"
   },
   "outputs": [
    {
     "data": {
      "text/plain": [
       "No Bureau History Available                                116950\n",
       "C-Very Low Risk                                             16045\n",
       "A-Very Low Risk                                             14124\n",
       "D-Very Low Risk                                             11358\n",
       "B-Very Low Risk                                              9201\n",
       "M-Very High Risk                                             8776\n",
       "F-Low Risk                                                   8485\n",
       "K-High Risk                                                  8277\n",
       "H-Medium Risk                                                6855\n",
       "E-Low Risk                                                   5821\n",
       "I-Medium Risk                                                5557\n",
       "G-Low Risk                                                   3988\n",
       "Not Scored: Sufficient History Not Available                 3765\n",
       "J-High Risk                                                  3748\n",
       "Not Scored: Not Enough Info available on the customer        3672\n",
       "Not Scored: No Activity seen on the customer (Inactive)      2885\n",
       "Not Scored: No Updates available in last 36 months           1534\n",
       "L-Very High Risk                                             1134\n",
       "Not Scored: Only a Guarantor                                  976\n",
       "Not Scored: More than 50 active Accounts found                  3\n",
       "Name: PERFORM_CNS.SCORE.DESCRIPTION, dtype: int64"
      ]
     },
     "execution_count": 166,
     "metadata": {
      "tags": []
     },
     "output_type": "execute_result"
    }
   ],
   "source": [
    "train_data['PERFORM_CNS.SCORE.DESCRIPTION'].value_counts()"
   ]
  },
  {
   "cell_type": "code",
   "execution_count": 0,
   "metadata": {
    "colab": {
     "base_uri": "https://localhost:8080/",
     "height": 786
    },
    "colab_type": "code",
    "id": "d5hKZrrVqNyv",
    "outputId": "81d9e034-206d-48f7-e725-523232a0c02c"
   },
   "outputs": [
    {
     "data": {
      "text/plain": [
       "<matplotlib.axes._subplots.AxesSubplot at 0x7fec9ee807f0>"
      ]
     },
     "execution_count": 167,
     "metadata": {
      "tags": []
     },
     "output_type": "execute_result"
    },
    {
     "data": {
      "image/png": "[encoded data removed]",
      "text/plain": [
       "<Figure size 1080x576 with 1 Axes>"
      ]
     },
     "metadata": {
      "tags": []
     },
     "output_type": "display_data"
    }
   ],
   "source": [
    "#performimg bureau score vs employee type\n",
    "#pd.crosstab(train_data['PERFORM_CNS.SCORE.DESCRIPTION'],train_data['Employment.Type'],margins=True,margins_name='Total')\n",
    "pd.crosstab(train_data['PERFORM_CNS.SCORE.DESCRIPTION'],train_data['Employment.Type']).plot.bar(figsize=(15,8),width=0.8)\n",
    "#as you can see that both of the employee categories are in left skewed position"
   ]
  },
  {
   "cell_type": "code",
   "execution_count": 0,
   "metadata": {
    "colab": {
     "base_uri": "https://localhost:8080/",
     "height": 1088
    },
    "colab_type": "code",
    "id": "-ApmBog_qNyz",
    "outputId": "346a8ba9-ab9d-4c36-9f13-a45a223c40ee"
   },
   "outputs": [
    {
     "data": {
      "text/plain": [
       "branch_id\n",
       "158       69\n",
       "111       89\n",
       "84       156\n",
       "261      176\n",
       "217      183\n",
       "66       314\n",
       "100      331\n",
       "259      346\n",
       "101      368\n",
       "260      372\n",
       "258      374\n",
       "97       389\n",
       "142      473\n",
       "117      558\n",
       "43       584\n",
       "207      689\n",
       "62       691\n",
       "153      692\n",
       "35       693\n",
       "69       810\n",
       "76       855\n",
       "249      858\n",
       "121      884\n",
       "165     1021\n",
       "82      1035\n",
       "130     1069\n",
       "17      1160\n",
       "257     1256\n",
       "72      1294\n",
       "77      1445\n",
       "       ...  \n",
       "8       3146\n",
       "135     3203\n",
       "7       3222\n",
       "79      3413\n",
       "160     3505\n",
       "65      3509\n",
       "251     3844\n",
       "103     3878\n",
       "10      4125\n",
       "147     4160\n",
       "120     4210\n",
       "74      4297\n",
       "138     4352\n",
       "20      4431\n",
       "11      4506\n",
       "48      4725\n",
       "61      4906\n",
       "152     4933\n",
       "18      5032\n",
       "146     5376\n",
       "1       5709\n",
       "19      5860\n",
       "16      6466\n",
       "34      7794\n",
       "136     7833\n",
       "36      8832\n",
       "5       9218\n",
       "3       9230\n",
       "67     11328\n",
       "2      13138\n",
       "Name: PRI.NO.OF.ACCTS, Length: 82, dtype: int64"
      ]
     },
     "execution_count": 168,
     "metadata": {
      "tags": []
     },
     "output_type": "execute_result"
    }
   ],
   "source": [
    "train_data.groupby(['branch_id'])['PRI.NO.OF.ACCTS'].count().sort_values()\n",
    "#as you can see that the branch id 2 has more count of loans taken by customer at the time of disbursement"
   ]
  },
  {
   "cell_type": "code",
   "execution_count": 0,
   "metadata": {
    "colab": {},
    "colab_type": "code",
    "id": "DcoTXGqNqNy1"
   },
   "outputs": [],
   "source": [
    "#extracting age of the customer\n",
    "train_data['Age_of_customer']=abs(datetime.datetime.now().year-pd.to_datetime(train_data['Date.of.Birth'],format='%d-%m-%y').dt.year)"
   ]
  },
  {
   "cell_type": "code",
   "execution_count": 0,
   "metadata": {
    "colab": {},
    "colab_type": "code",
    "id": "8GQlW2puqNy3"
   },
   "outputs": [],
   "source": [
    "test_data['Age_of_customer']=abs(datetime.datetime.now().year-pd.to_datetime(test_data['Date.of.Birth'],format='%d-%m-%y').dt.year)"
   ]
  },
  {
   "cell_type": "code",
   "execution_count": 0,
   "metadata": {
    "colab": {
     "base_uri": "https://localhost:8080/",
     "height": 221
    },
    "colab_type": "code",
    "id": "M0eSk4btqNy5",
    "outputId": "562f0a91-ac5e-42c8-90c9-82f1fbb26cd1"
   },
   "outputs": [
    {
     "data": {
      "text/plain": [
       "86     109534\n",
       "45      56626\n",
       "51      27204\n",
       "48      16710\n",
       "49      10220\n",
       "120      9658\n",
       "67       2405\n",
       "145       778\n",
       "153        12\n",
       "152         6\n",
       "156         1\n",
       "Name: manufacturer_id, dtype: int64"
      ]
     },
     "execution_count": 171,
     "metadata": {
      "tags": []
     },
     "output_type": "execute_result"
    }
   ],
   "source": [
    "train_data['manufacturer_id'].value_counts()"
   ]
  },
  {
   "cell_type": "code",
   "execution_count": 0,
   "metadata": {
    "colab": {
     "base_uri": "https://localhost:8080/",
     "height": 300
    },
    "colab_type": "code",
    "id": "YDj9AUJxJedL",
    "outputId": "e74988c1-98a3-4389-8a53-cb3e1ab17f8c"
   },
   "outputs": [
    {
     "data": {
      "text/plain": [
       "<matplotlib.axes._subplots.AxesSubplot at 0x7fec9f292390>"
      ]
     },
     "execution_count": 172,
     "metadata": {
      "tags": []
     },
     "output_type": "execute_result"
    },
    {
     "data": {
      "image/png": "[encoded data removed]",
      "text/plain": [
       "<Figure size 432x288 with 1 Axes>"
      ]
     },
     "metadata": {
      "tags": []
     },
     "output_type": "display_data"
    }
   ],
   "source": [
    "sns.distplot(train_data['asset_cost'])"
   ]
  },
  {
   "cell_type": "markdown",
   "metadata": {
    "colab_type": "text",
    "id": "FqC6vU6uqNy7"
   },
   "source": [
    "## Feature engineering"
   ]
  },
  {
   "cell_type": "code",
   "execution_count": 0,
   "metadata": {
    "colab": {
     "base_uri": "https://localhost:8080/",
     "height": 374
    },
    "colab_type": "code",
    "id": "5tfpFcQGqNy8",
    "outputId": "2efea077-4eea-4884-dcb8-311cce1524fa",
    "scrolled": true
   },
   "outputs": [
    {
     "data": {
      "text/plain": [
       "No Bureau History Available                                116950\n",
       "C-Very Low Risk                                             16045\n",
       "A-Very Low Risk                                             14124\n",
       "D-Very Low Risk                                             11358\n",
       "B-Very Low Risk                                              9201\n",
       "M-Very High Risk                                             8776\n",
       "F-Low Risk                                                   8485\n",
       "K-High Risk                                                  8277\n",
       "H-Medium Risk                                                6855\n",
       "E-Low Risk                                                   5821\n",
       "I-Medium Risk                                                5557\n",
       "G-Low Risk                                                   3988\n",
       "Not Scored: Sufficient History Not Available                 3765\n",
       "J-High Risk                                                  3748\n",
       "Not Scored: Not Enough Info available on the customer        3672\n",
       "Not Scored: No Activity seen on the customer (Inactive)      2885\n",
       "Not Scored: No Updates available in last 36 months           1534\n",
       "L-Very High Risk                                             1134\n",
       "Not Scored: Only a Guarantor                                  976\n",
       "Not Scored: More than 50 active Accounts found                  3\n",
       "Name: PERFORM_CNS.SCORE.DESCRIPTION, dtype: int64"
      ]
     },
     "execution_count": 173,
     "metadata": {
      "tags": []
     },
     "output_type": "execute_result"
    }
   ],
   "source": [
    "train_data['PERFORM_CNS.SCORE.DESCRIPTION'].value_counts()"
   ]
  },
  {
   "cell_type": "code",
   "execution_count": 0,
   "metadata": {
    "colab": {},
    "colab_type": "code",
    "id": "-O1VYBN9qNy-"
   },
   "outputs": [],
   "source": [
    "train_data['PERFORM_CNS.SCORE.DESCRIPTION']=train_data['PERFORM_CNS.SCORE.DESCRIPTION'].replace({'C-Very Low Risk':'Very Low Risk','A-Very Low Risk':'Very Low Risk','D-Very Low Risk':'Very Low Risk',\n",
    "                                                    'B-Very Low Risk':'Very Low Risk','M-Very High Risk':'Very High Risk','L-Very High Risk':'Very High Risk',\n",
    "                                                     'F-Low Risk':'Low Risk','E-Low Risk':'Low Risk','H-Medium Risk':'Medium Risk','I-Medium Risk':'Medium Risk',\n",
    "                                                     'J-High Risk':'High Risk','K-High Risk':'High Risk','G-Low Risk':'Low Risk'})"
   ]
  },
  {
   "cell_type": "code",
   "execution_count": 0,
   "metadata": {
    "colab": {},
    "colab_type": "code",
    "id": "YqH7bbx9qNzB"
   },
   "outputs": [],
   "source": [
    "test_data['PERFORM_CNS.SCORE.DESCRIPTION']=test_data['PERFORM_CNS.SCORE.DESCRIPTION'].replace({'C-Very Low Risk':'Very Low Risk','A-Very Low Risk':'Very Low Risk','D-Very Low Risk':'Very Low Risk',\n",
    "                                                    'B-Very Low Risk':'Very Low Risk','M-Very High Risk':'Very High Risk','L-Very High Risk':'Very High Risk',\n",
    "                                                     'F-Low Risk':'Low Risk','E-Low Risk':'Low Risk','H-Medium Risk':'Medium Risk','I-Medium Risk':'Medium Risk',\n",
    "                                                     'J-High Risk':'High Risk','K-High Risk':'High Risk','G-Low Risk':'Low Risk'})"
   ]
  },
  {
   "cell_type": "code",
   "execution_count": 0,
   "metadata": {
    "colab": {},
    "colab_type": "code",
    "id": "-u6FLLtNqNzE"
   },
   "outputs": [],
   "source": [
    "train_data['Not_Scored'] = np.where(train_data['PERFORM_CNS.SCORE.DESCRIPTION'].str.contains('Not Scored'),1,0)\n",
    "train_data['Very_Low']=  np.where(train_data['PERFORM_CNS.SCORE.DESCRIPTION'].str.contains('Very Low '),1,0)\n",
    "train_data['Very_High']=  np.where(train_data['PERFORM_CNS.SCORE.DESCRIPTION'].str.contains('Very High'),1,0)\n",
    "train_data['No_History']=  np.where(train_data['PERFORM_CNS.SCORE.DESCRIPTION'].str.contains('No Bureau'),1,0)"
   ]
  },
  {
   "cell_type": "code",
   "execution_count": 0,
   "metadata": {
    "colab": {},
    "colab_type": "code",
    "id": "X9g2okBrqNzJ"
   },
   "outputs": [],
   "source": [
    "test_data['Not_Scored'] = np.where(test_data['PERFORM_CNS.SCORE.DESCRIPTION'].str.contains('Not Scored'),1,0)\n",
    "test_data['Very_Low']=  np.where(test_data['PERFORM_CNS.SCORE.DESCRIPTION'].str.contains('Very Low '),1,0)\n",
    "test_data['Very_High']=  np.where(test_data['PERFORM_CNS.SCORE.DESCRIPTION'].str.contains('Very High'),1,0)\n",
    "test_data['No_History']=  np.where(test_data['PERFORM_CNS.SCORE.DESCRIPTION'].str.contains('No Bureau'),1,0)"
   ]
  },
  {
   "cell_type": "code",
   "execution_count": 0,
   "metadata": {
    "colab": {},
    "colab_type": "code",
    "id": "uRv2jN4nqNzM"
   },
   "outputs": [],
   "source": [
    "train_data['asset_value'] = np.round(train_data['asset_cost']*(train_data['ltv']/100),0)\n",
    "train_data['value_cost'] = train_data['asset_cost']-train_data['asset_value']"
   ]
  },
  {
   "cell_type": "code",
   "execution_count": 0,
   "metadata": {
    "colab": {},
    "colab_type": "code",
    "id": "kYoeL67xqNzO"
   },
   "outputs": [],
   "source": [
    "test_data['asset_value'] = np.round(train_data['asset_cost']*(test_data['ltv']/100),0)\n",
    "test_data['value_cost'] = test_data['asset_cost']-test_data['asset_value']"
   ]
  },
  {
   "cell_type": "code",
   "execution_count": 0,
   "metadata": {
    "colab": {},
    "colab_type": "code",
    "id": "kiDARjdfNMO1"
   },
   "outputs": [],
   "source": [
    "train_data['DisbursalDate'] = pd.to_datetime(train_data['DisbursalDate'],format='%d-%m-%y')"
   ]
  },
  {
   "cell_type": "code",
   "execution_count": 0,
   "metadata": {
    "colab": {
     "base_uri": "https://localhost:8080/",
     "height": 850
    },
    "colab_type": "code",
    "id": "ZNG4mjgYNwUa",
    "outputId": "317203d5-a43c-478e-9b74-8582ee39a29b"
   },
   "outputs": [
    {
     "data": {
      "text/plain": [
       "UniqueID                                        int64\n",
       "disbursed_amount                                int64\n",
       "asset_cost                                      int64\n",
       "ltv                                           float64\n",
       "branch_id                                       int64\n",
       "supplier_id                                     int64\n",
       "manufacturer_id                                 int64\n",
       "Current_pincode_ID                              int64\n",
       "Date.of.Birth                                  object\n",
       "Employment.Type                                object\n",
       "DisbursalDate                          datetime64[ns]\n",
       "State_ID                                        int64\n",
       "Employee_code_ID                                int64\n",
       "MobileNo_Avl_Flag                               int64\n",
       "Aadhar_flag                                     int64\n",
       "PAN_flag                                        int64\n",
       "VoterID_flag                                    int64\n",
       "Driving_flag                                    int64\n",
       "Passport_flag                                   int64\n",
       "PERFORM_CNS.SCORE                               int64\n",
       "PERFORM_CNS.SCORE.DESCRIPTION                  object\n",
       "PRI.NO.OF.ACCTS                                 int64\n",
       "PRI.ACTIVE.ACCTS                                int64\n",
       "PRI.OVERDUE.ACCTS                               int64\n",
       "PRI.CURRENT.BALANCE                             int64\n",
       "PRI.SANCTIONED.AMOUNT                           int64\n",
       "PRI.DISBURSED.AMOUNT                            int64\n",
       "SEC.NO.OF.ACCTS                                 int64\n",
       "SEC.ACTIVE.ACCTS                                int64\n",
       "SEC.OVERDUE.ACCTS                               int64\n",
       "SEC.CURRENT.BALANCE                             int64\n",
       "SEC.SANCTIONED.AMOUNT                           int64\n",
       "SEC.DISBURSED.AMOUNT                            int64\n",
       "PRIMARY.INSTAL.AMT                              int64\n",
       "SEC.INSTAL.AMT                                  int64\n",
       "NEW.ACCTS.IN.LAST.SIX.MONTHS                    int64\n",
       "DELINQUENT.ACCTS.IN.LAST.SIX.MONTHS             int64\n",
       "AVERAGE.ACCT.AGE                                int64\n",
       "CREDIT.HISTORY.LENGTH                           int64\n",
       "NO.OF_INQUIRIES                                 int64\n",
       "loan_default                                    int64\n",
       "Age_of_customer                                 int64\n",
       "Not_Scored                                      int64\n",
       "Very_Low                                        int64\n",
       "Very_High                                       int64\n",
       "No_History                                      int64\n",
       "asset_value                                   float64\n",
       "value_cost                                    float64\n",
       "dtype: object"
      ]
     },
     "execution_count": 181,
     "metadata": {
      "tags": []
     },
     "output_type": "execute_result"
    }
   ],
   "source": [
    "train_data.dtypes"
   ]
  },
  {
   "cell_type": "code",
   "execution_count": 0,
   "metadata": {
    "colab": {},
    "colab_type": "code",
    "id": "hXPnfPmoNmD6"
   },
   "outputs": [],
   "source": [
    "train_data['DisbursalYear'] = pd.to_datetime(train_data['DisbursalDate'],format='%d-%m-%y').dt.year\n",
    "test_data['DisbursalYear'] = pd.to_datetime(test_data['DisbursalDate'],format='%d-%m-%y').dt.year"
   ]
  },
  {
   "cell_type": "code",
   "execution_count": 0,
   "metadata": {
    "colab": {
     "base_uri": "https://localhost:8080/",
     "height": 289
    },
    "colab_type": "code",
    "id": "qUmFBozrqNzb",
    "outputId": "97121489-46c2-4c9a-e4ff-3d69921e6b94"
   },
   "outputs": [
    {
     "data": {
      "text/plain": [
       "Index(['UniqueID', 'disbursed_amount', 'asset_cost', 'ltv', 'branch_id',\n",
       "       'supplier_id', 'manufacturer_id', 'Current_pincode_ID', 'Date.of.Birth',\n",
       "       'Employment.Type', 'DisbursalDate', 'State_ID', 'Employee_code_ID',\n",
       "       'MobileNo_Avl_Flag', 'Aadhar_flag', 'PAN_flag', 'VoterID_flag',\n",
       "       'Driving_flag', 'Passport_flag', 'PERFORM_CNS.SCORE',\n",
       "       'PERFORM_CNS.SCORE.DESCRIPTION', 'PRI.NO.OF.ACCTS', 'PRI.ACTIVE.ACCTS',\n",
       "       'PRI.OVERDUE.ACCTS', 'PRI.CURRENT.BALANCE', 'PRI.SANCTIONED.AMOUNT',\n",
       "       'PRI.DISBURSED.AMOUNT', 'SEC.NO.OF.ACCTS', 'SEC.ACTIVE.ACCTS',\n",
       "       'SEC.OVERDUE.ACCTS', 'SEC.CURRENT.BALANCE', 'SEC.SANCTIONED.AMOUNT',\n",
       "       'SEC.DISBURSED.AMOUNT', 'PRIMARY.INSTAL.AMT', 'SEC.INSTAL.AMT',\n",
       "       'NEW.ACCTS.IN.LAST.SIX.MONTHS', 'DELINQUENT.ACCTS.IN.LAST.SIX.MONTHS',\n",
       "       'AVERAGE.ACCT.AGE', 'CREDIT.HISTORY.LENGTH', 'NO.OF_INQUIRIES',\n",
       "       'loan_default', 'Age_of_customer', 'Not_Scored', 'Very_Low',\n",
       "       'Very_High', 'No_History', 'asset_value', 'value_cost',\n",
       "       'DisbursalYear'],\n",
       "      dtype='object')"
      ]
     },
     "execution_count": 183,
     "metadata": {
      "tags": []
     },
     "output_type": "execute_result"
    }
   ],
   "source": [
    "train_data.columns"
   ]
  },
  {
   "cell_type": "code",
   "execution_count": 0,
   "metadata": {
    "colab": {},
    "colab_type": "code",
    "id": "9KrstJjjqNzh"
   },
   "outputs": [],
   "source": [
    "train_data.drop(['Date.of.Birth','DisbursalDate','UniqueID','MobileNo_Avl_Flag', 'VoterID_flag','UniqueID'],axis=1,inplace=True)\n",
    "test_data.drop(['Date.of.Birth','DisbursalDate','UniqueID','MobileNo_Avl_Flag', 'VoterID_flag','UniqueID'],axis=1,inplace=True)"
   ]
  },
  {
   "cell_type": "markdown",
   "metadata": {
    "colab_type": "text",
    "id": "Qh_5FJqHqNzl"
   },
   "source": [
    "## Applying encoding for categorical variables"
   ]
  },
  {
   "cell_type": "code",
   "execution_count": 0,
   "metadata": {
    "colab": {},
    "colab_type": "code",
    "id": "v9_pc1_eqNzl"
   },
   "outputs": [],
   "source": [
    "le = LabelEncoder()"
   ]
  },
  {
   "cell_type": "code",
   "execution_count": 0,
   "metadata": {
    "colab": {},
    "colab_type": "code",
    "id": "LzJ5YJiwqNzm"
   },
   "outputs": [],
   "source": [
    "train_data['Employment.Type'] =le.fit_transform(train_data['Employment.Type']) \n",
    "train_data['PERFORM_CNS.SCORE.DESCRIPTION'] = le.fit_transform(train_data['PERFORM_CNS.SCORE.DESCRIPTION'])\n",
    "test_data['Employment.Type'] =le.fit_transform(test_data['Employment.Type']) \n",
    "test_data['PERFORM_CNS.SCORE.DESCRIPTION'] = le.fit_transform(test_data['PERFORM_CNS.SCORE.DESCRIPTION'])"
   ]
  },
  {
   "cell_type": "code",
   "execution_count": 0,
   "metadata": {
    "colab": {
     "base_uri": "https://localhost:8080/",
     "height": 238
    },
    "colab_type": "code",
    "id": "c9fVf9NUqNzo",
    "outputId": "ec9ba8eb-f94d-4723-92a0-5537cae1d973"
   },
   "outputs": [
    {
     "data": {
      "text/plain": [
       "3     116950\n",
       "11     50728\n",
       "1      18294\n",
       "2      12412\n",
       "0      12025\n",
       "10      9910\n",
       "9       3765\n",
       "7       3672\n",
       "5       2885\n",
       "6       1534\n",
       "8        976\n",
       "4          3\n",
       "Name: PERFORM_CNS.SCORE.DESCRIPTION, dtype: int64"
      ]
     },
     "execution_count": 187,
     "metadata": {
      "tags": []
     },
     "output_type": "execute_result"
    }
   ],
   "source": [
    "train_data['PERFORM_CNS.SCORE.DESCRIPTION'].value_counts()"
   ]
  },
  {
   "cell_type": "markdown",
   "metadata": {
    "colab_type": "text",
    "id": "px0E-pHXqNzp"
   },
   "source": [
    "### Applying the models"
   ]
  },
  {
   "cell_type": "code",
   "execution_count": 0,
   "metadata": {
    "colab": {
     "base_uri": "https://localhost:8080/",
     "height": 782
    },
    "colab_type": "code",
    "id": "MNkzgK-pqNzq",
    "outputId": "e2caefb5-41be-4b93-db85-461ca06c04c8"
   },
   "outputs": [
    {
     "data": {
      "text/plain": [
       "disbursed_amount                         int64\n",
       "asset_cost                               int64\n",
       "ltv                                    float64\n",
       "branch_id                                int64\n",
       "supplier_id                              int64\n",
       "manufacturer_id                          int64\n",
       "Current_pincode_ID                       int64\n",
       "Employment.Type                          int64\n",
       "State_ID                                 int64\n",
       "Employee_code_ID                         int64\n",
       "Aadhar_flag                              int64\n",
       "PAN_flag                                 int64\n",
       "Driving_flag                             int64\n",
       "Passport_flag                            int64\n",
       "PERFORM_CNS.SCORE                        int64\n",
       "PERFORM_CNS.SCORE.DESCRIPTION            int64\n",
       "PRI.NO.OF.ACCTS                          int64\n",
       "PRI.ACTIVE.ACCTS                         int64\n",
       "PRI.OVERDUE.ACCTS                        int64\n",
       "PRI.CURRENT.BALANCE                      int64\n",
       "PRI.SANCTIONED.AMOUNT                    int64\n",
       "PRI.DISBURSED.AMOUNT                     int64\n",
       "SEC.NO.OF.ACCTS                          int64\n",
       "SEC.ACTIVE.ACCTS                         int64\n",
       "SEC.OVERDUE.ACCTS                        int64\n",
       "SEC.CURRENT.BALANCE                      int64\n",
       "SEC.SANCTIONED.AMOUNT                    int64\n",
       "SEC.DISBURSED.AMOUNT                     int64\n",
       "PRIMARY.INSTAL.AMT                       int64\n",
       "SEC.INSTAL.AMT                           int64\n",
       "NEW.ACCTS.IN.LAST.SIX.MONTHS             int64\n",
       "DELINQUENT.ACCTS.IN.LAST.SIX.MONTHS      int64\n",
       "AVERAGE.ACCT.AGE                         int64\n",
       "CREDIT.HISTORY.LENGTH                    int64\n",
       "NO.OF_INQUIRIES                          int64\n",
       "loan_default                             int64\n",
       "Age_of_customer                          int64\n",
       "Not_Scored                               int64\n",
       "Very_Low                                 int64\n",
       "Very_High                                int64\n",
       "No_History                               int64\n",
       "asset_value                            float64\n",
       "value_cost                             float64\n",
       "DisbursalYear                            int64\n",
       "dtype: object"
      ]
     },
     "execution_count": 188,
     "metadata": {
      "tags": []
     },
     "output_type": "execute_result"
    }
   ],
   "source": [
    "train_data.dtypes"
   ]
  },
  {
   "cell_type": "code",
   "execution_count": 0,
   "metadata": {
    "colab": {},
    "colab_type": "code",
    "id": "36G_f9j3qNzs"
   },
   "outputs": [],
   "source": [
    "#train test split\n",
    "x = train_data.drop(['loan_default'],axis=1)"
   ]
  },
  {
   "cell_type": "code",
   "execution_count": 0,
   "metadata": {
    "colab": {},
    "colab_type": "code",
    "id": "yUxz6n-kqNzu"
   },
   "outputs": [],
   "source": [
    "y = train_data['loan_default']"
   ]
  },
  {
   "cell_type": "code",
   "execution_count": 0,
   "metadata": {
    "colab": {},
    "colab_type": "code",
    "id": "os0E2q2JqNzv"
   },
   "outputs": [],
   "source": [
    "train_x,test_x,train_y,test_y = train_test_split(x,y,test_size=0.25,random_state=1234)"
   ]
  },
  {
   "cell_type": "code",
   "execution_count": 0,
   "metadata": {
    "colab": {
     "base_uri": "https://localhost:8080/",
     "height": 34
    },
    "colab_type": "code",
    "id": "EUvWyDsAqNzx",
    "outputId": "111c6b2c-48d5-4abd-e66a-93b1449ea36d"
   },
   "outputs": [
    {
     "data": {
      "text/plain": [
       "((174865, 43), (58289, 43), (174865,), (58289,))"
      ]
     },
     "execution_count": 192,
     "metadata": {
      "tags": []
     },
     "output_type": "execute_result"
    }
   ],
   "source": [
    "train_x.shape,test_x.shape,train_y.shape,test_y.shape "
   ]
  },
  {
   "cell_type": "markdown",
   "metadata": {
    "colab_type": "text",
    "id": "-u_HhBpt7e63"
   },
   "source": [
    "## Applying random forest"
   ]
  },
  {
   "cell_type": "code",
   "execution_count": 0,
   "metadata": {
    "colab": {},
    "colab_type": "code",
    "id": "PbbeNeH7qNzz"
   },
   "outputs": [],
   "source": [
    "rf = RandomForestClassifier()"
   ]
  },
  {
   "cell_type": "code",
   "execution_count": 0,
   "metadata": {
    "colab": {
     "base_uri": "https://localhost:8080/",
     "height": 190
    },
    "colab_type": "code",
    "id": "ra7ZwO4jqNz0",
    "outputId": "8d1060f3-ab27-499b-c6c5-42207b078af7"
   },
   "outputs": [
    {
     "name": "stderr",
     "output_type": "stream",
     "text": [
      "/usr/local/lib/python3.6/dist-packages/sklearn/ensemble/forest.py:246: FutureWarning: The default value of n_estimators will change from 10 in version 0.20 to 100 in 0.22.\n",
      "  \"10 in version 0.20 to 100 in 0.22.\", FutureWarning)\n"
     ]
    },
    {
     "data": {
      "text/plain": [
       "RandomForestClassifier(bootstrap=True, class_weight=None, criterion='gini',\n",
       "            max_depth=None, max_features='auto', max_leaf_nodes=None,\n",
       "            min_impurity_decrease=0.0, min_impurity_split=None,\n",
       "            min_samples_leaf=1, min_samples_split=2,\n",
       "            min_weight_fraction_leaf=0.0, n_estimators=10, n_jobs=None,\n",
       "            oob_score=False, random_state=None, verbose=0,\n",
       "            warm_start=False)"
      ]
     },
     "execution_count": 195,
     "metadata": {
      "tags": []
     },
     "output_type": "execute_result"
    }
   ],
   "source": [
    "rf.fit(train_x,train_y)"
   ]
  },
  {
   "cell_type": "code",
   "execution_count": 0,
   "metadata": {
    "colab": {},
    "colab_type": "code",
    "id": "-64sRbSaqNz3"
   },
   "outputs": [],
   "source": [
    "pred = rf.predict(test_x)"
   ]
  },
  {
   "cell_type": "code",
   "execution_count": 0,
   "metadata": {
    "colab": {
     "base_uri": "https://localhost:8080/",
     "height": 34
    },
    "colab_type": "code",
    "id": "RYkPI0MUqNz4",
    "outputId": "b05c66a1-7986-4efc-fabf-60695bacbfd4"
   },
   "outputs": [
    {
     "data": {
      "text/plain": [
       "0.7708830139477432"
      ]
     },
     "execution_count": 197,
     "metadata": {
      "tags": []
     },
     "output_type": "execute_result"
    }
   ],
   "source": [
    "accuracy_score(pred,test_y)"
   ]
  },
  {
   "cell_type": "code",
   "execution_count": 0,
   "metadata": {
    "colab": {
     "base_uri": "https://localhost:8080/",
     "height": 34
    },
    "colab_type": "code",
    "id": "jadAeOcYqNz8",
    "outputId": "8e2ec793-57a2-4260-f010-e038fb1aeed9"
   },
   "outputs": [
    {
     "data": {
      "text/plain": [
       "0.5771363897629405"
      ]
     },
     "execution_count": 198,
     "metadata": {
      "tags": []
     },
     "output_type": "execute_result"
    }
   ],
   "source": [
    "roc_auc_score(pred,test_y)"
   ]
  },
  {
   "cell_type": "code",
   "execution_count": 0,
   "metadata": {
    "colab": {
     "base_uri": "https://localhost:8080/",
     "height": 34
    },
    "colab_type": "code",
    "id": "Qchquo1aqN0D",
    "outputId": "5d1bafd0-0f1b-46f1-9133-68385636dc41"
   },
   "outputs": [
    {
     "data": {
      "text/plain": [
       "(112392, 43)"
      ]
     },
     "execution_count": 199,
     "metadata": {
      "tags": []
     },
     "output_type": "execute_result"
    }
   ],
   "source": [
    "test_data.shape\n"
   ]
  },
  {
   "cell_type": "code",
   "execution_count": 0,
   "metadata": {
    "colab": {
     "base_uri": "https://localhost:8080/",
     "height": 34
    },
    "colab_type": "code",
    "id": "V7tD9L1SqN0H",
    "outputId": "af692e14-a482-4276-8f5d-861ed3f93aff"
   },
   "outputs": [
    {
     "data": {
      "text/plain": [
       "(58289, 1)"
      ]
     },
     "execution_count": 200,
     "metadata": {
      "tags": []
     },
     "output_type": "execute_result"
    }
   ],
   "source": [
    "pd.DataFrame(pred).shape"
   ]
  },
  {
   "cell_type": "markdown",
   "metadata": {
    "colab_type": "text",
    "id": "PTxkiewj7pXr"
   },
   "source": [
    "## Applying the decision tree"
   ]
  },
  {
   "cell_type": "code",
   "execution_count": 0,
   "metadata": {
    "colab": {},
    "colab_type": "code",
    "id": "fvGJgtbpqN0L"
   },
   "outputs": [],
   "source": [
    "tree = DecisionTreeClassifier()"
   ]
  },
  {
   "cell_type": "code",
   "execution_count": 0,
   "metadata": {
    "colab": {
     "base_uri": "https://localhost:8080/",
     "height": 119
    },
    "colab_type": "code",
    "id": "UW1TdEaTqN0Q",
    "outputId": "02f09e9c-4700-4f88-8c04-f5ed3456851a"
   },
   "outputs": [
    {
     "data": {
      "text/plain": [
       "DecisionTreeClassifier(class_weight=None, criterion='gini', max_depth=None,\n",
       "            max_features=None, max_leaf_nodes=None,\n",
       "            min_impurity_decrease=0.0, min_impurity_split=None,\n",
       "            min_samples_leaf=1, min_samples_split=2,\n",
       "            min_weight_fraction_leaf=0.0, presort=False, random_state=None,\n",
       "            splitter='best')"
      ]
     },
     "execution_count": 202,
     "metadata": {
      "tags": []
     },
     "output_type": "execute_result"
    }
   ],
   "source": [
    "tree.fit(train_x,train_y)"
   ]
  },
  {
   "cell_type": "code",
   "execution_count": 0,
   "metadata": {
    "colab": {},
    "colab_type": "code",
    "id": "nwEBLKhDqN0T"
   },
   "outputs": [],
   "source": [
    "pred = tree.predict(test_x)"
   ]
  },
  {
   "cell_type": "code",
   "execution_count": 0,
   "metadata": {
    "colab": {
     "base_uri": "https://localhost:8080/",
     "height": 34
    },
    "colab_type": "code",
    "id": "-mh0ja4aqN0X",
    "outputId": "9b6bcf95-b357-4654-b363-8926b7d7f3ee"
   },
   "outputs": [
    {
     "data": {
      "text/plain": [
       "0.6693887354389336"
      ]
     },
     "execution_count": 204,
     "metadata": {
      "tags": []
     },
     "output_type": "execute_result"
    }
   ],
   "source": [
    "accuracy_score(pred,test_y)"
   ]
  },
  {
   "cell_type": "code",
   "execution_count": 0,
   "metadata": {
    "colab": {
     "base_uri": "https://localhost:8080/",
     "height": 34
    },
    "colab_type": "code",
    "id": "5G0YH2kTqN0e",
    "outputId": "e1c17c91-3779-4cfa-e684-705365566d40"
   },
   "outputs": [
    {
     "data": {
      "text/plain": [
       "0.5254831398396446"
      ]
     },
     "execution_count": 205,
     "metadata": {
      "tags": []
     },
     "output_type": "execute_result"
    }
   ],
   "source": [
    "roc_auc_score(pred,test_y)"
   ]
  },
  {
   "cell_type": "markdown",
   "metadata": {
    "colab_type": "text",
    "id": "xMaSSreyHW9x"
   },
   "source": [
    "## Applying xg boost"
   ]
  },
  {
   "cell_type": "code",
   "execution_count": 0,
   "metadata": {
    "colab": {},
    "colab_type": "code",
    "id": "GWAcX_yvHVKX"
   },
   "outputs": [],
   "source": [
    "xg = XGBClassifier(learning_rate=0.5, max_depth=5,colsample_bytree=0.3,n_estimators=100,subsample=0.8,gamma=0.0)"
   ]
  },
  {
   "cell_type": "code",
   "execution_count": 0,
   "metadata": {
    "colab": {
     "base_uri": "https://localhost:8080/",
     "height": 136
    },
    "colab_type": "code",
    "id": "1GoLzeuQHVGz",
    "outputId": "fdde91fe-5d39-46a9-e41a-b27c86232ba0"
   },
   "outputs": [
    {
     "data": {
      "text/plain": [
       "XGBClassifier(base_score=0.5, booster='gbtree', colsample_bylevel=1,\n",
       "       colsample_bytree=0.3, gamma=0.0, learning_rate=0.5,\n",
       "       max_delta_step=0, max_depth=5, min_child_weight=1, missing=None,\n",
       "       n_estimators=100, n_jobs=1, nthread=None,\n",
       "       objective='binary:logistic', random_state=0, reg_alpha=0,\n",
       "       reg_lambda=1, scale_pos_weight=1, seed=None, silent=True,\n",
       "       subsample=0.8)"
      ]
     },
     "execution_count": 207,
     "metadata": {
      "tags": []
     },
     "output_type": "execute_result"
    }
   ],
   "source": [
    "xg.fit(train_x,train_y)"
   ]
  },
  {
   "cell_type": "code",
   "execution_count": 0,
   "metadata": {
    "colab": {
     "base_uri": "https://localhost:8080/",
     "height": 170
    },
    "colab_type": "code",
    "id": "STORV33yA-tZ",
    "outputId": "9c8602fd-1cc9-4ada-da01-11d9649a2b1a"
   },
   "outputs": [
    {
     "data": {
      "text/plain": [
       "array([0.02887037, 0.01877704, 0.02141557, 0.02257495, 0.01832147,\n",
       "       0.02725427, 0.03432903, 0.03226312, 0.02411653, 0.01859658,\n",
       "       0.01516478, 0.02263533, 0.01386545, 0.01223523, 0.02563418,\n",
       "       0.09377249, 0.03156463, 0.0205687 , 0.02133855, 0.01657881,\n",
       "       0.02055024, 0.03369845, 0.00998742, 0.00590047, 0.01685629,\n",
       "       0.01236307, 0.00896682, 0.01303357, 0.02025744, 0.01299293,\n",
       "       0.01619486, 0.03728561, 0.01709434, 0.01856166, 0.04178745,\n",
       "       0.01829833, 0.01521788, 0.01501648, 0.06497606, 0.02044101,\n",
       "       0.02579233, 0.03485031, 0.        ], dtype=float32)"
      ]
     },
     "execution_count": 208,
     "metadata": {
      "tags": []
     },
     "output_type": "execute_result"
    }
   ],
   "source": [
    "xg.feature_importances_"
   ]
  },
  {
   "cell_type": "code",
   "execution_count": 0,
   "metadata": {
    "colab": {},
    "colab_type": "code",
    "id": "fyft2QW0Bc5Q"
   },
   "outputs": [],
   "source": [
    "from sklearn.feature_selection import SelectFromModel\n"
   ]
  },
  {
   "cell_type": "code",
   "execution_count": 0,
   "metadata": {
    "colab": {
     "base_uri": "https://localhost:8080/",
     "height": 459
    },
    "colab_type": "code",
    "id": "KBRd2PpwBLPu",
    "outputId": "9f820af6-2e17-4996-a368-0a7bcfddec92"
   },
   "outputs": [
    {
     "name": "stdout",
     "output_type": "stream",
     "text": [
      "Thresh=0.00000, n=43, Accuracy: 78.35%\n",
      "Thresh=0.00590, n=42, Accuracy: 78.35%\n",
      "Thresh=0.00897, n=41, Accuracy: 78.35%\n",
      "Thresh=0.00999, n=40, Accuracy: 78.35%\n",
      "Thresh=0.01224, n=39, Accuracy: 78.35%\n"
     ]
    },
    {
     "ename": "KeyboardInterrupt",
     "evalue": "ignored",
     "output_type": "error",
     "traceback": [
      "\u001b[0;31m---------------------------------------------------------------------------\u001b[0m",
      "\u001b[0;31mKeyboardInterrupt\u001b[0m                         Traceback (most recent call last)",
      "\u001b[0;32m<ipython-input-210-4b1621e283d9>\u001b[0m in \u001b[0;36m<module>\u001b[0;34m()\u001b[0m\n\u001b[1;32m      4\u001b[0m   \u001b[0mselect_x_train\u001b[0m \u001b[0;34m=\u001b[0m \u001b[0mselection\u001b[0m\u001b[0;34m.\u001b[0m\u001b[0mtransform\u001b[0m\u001b[0;34m(\u001b[0m\u001b[0mtrain_x\u001b[0m\u001b[0;34m)\u001b[0m\u001b[0;34m\u001b[0m\u001b[0;34m\u001b[0m\u001b[0m\n\u001b[1;32m      5\u001b[0m   \u001b[0mselection_model\u001b[0m \u001b[0;34m=\u001b[0m \u001b[0mXGBClassifier\u001b[0m\u001b[0;34m(\u001b[0m\u001b[0;34m)\u001b[0m\u001b[0;34m\u001b[0m\u001b[0;34m\u001b[0m\u001b[0m\n\u001b[0;32m----> 6\u001b[0;31m   \u001b[0mselection_model\u001b[0m\u001b[0;34m.\u001b[0m\u001b[0mfit\u001b[0m\u001b[0;34m(\u001b[0m\u001b[0mselect_x_train\u001b[0m\u001b[0;34m,\u001b[0m\u001b[0mtrain_y\u001b[0m\u001b[0;34m)\u001b[0m\u001b[0;34m\u001b[0m\u001b[0;34m\u001b[0m\u001b[0m\n\u001b[0m\u001b[1;32m      7\u001b[0m   \u001b[0mselect_X_test\u001b[0m \u001b[0;34m=\u001b[0m \u001b[0mselection\u001b[0m\u001b[0;34m.\u001b[0m\u001b[0mtransform\u001b[0m\u001b[0;34m(\u001b[0m\u001b[0mtest_x\u001b[0m\u001b[0;34m)\u001b[0m\u001b[0;34m\u001b[0m\u001b[0;34m\u001b[0m\u001b[0m\n\u001b[1;32m      8\u001b[0m   \u001b[0my_pred\u001b[0m \u001b[0;34m=\u001b[0m \u001b[0mselection_model\u001b[0m\u001b[0;34m.\u001b[0m\u001b[0mpredict\u001b[0m\u001b[0;34m(\u001b[0m\u001b[0mselect_X_test\u001b[0m\u001b[0;34m)\u001b[0m\u001b[0;34m\u001b[0m\u001b[0;34m\u001b[0m\u001b[0m\n",
      "\u001b[0;32m/usr/local/lib/python3.6/dist-packages/xgboost/sklearn.py\u001b[0m in \u001b[0;36mfit\u001b[0;34m(self, X, y, sample_weight, eval_set, eval_metric, early_stopping_rounds, verbose, xgb_model, sample_weight_eval_set, callbacks)\u001b[0m\n\u001b[1;32m    711\u001b[0m                               \u001b[0mevals_result\u001b[0m\u001b[0;34m=\u001b[0m\u001b[0mevals_result\u001b[0m\u001b[0;34m,\u001b[0m \u001b[0mobj\u001b[0m\u001b[0;34m=\u001b[0m\u001b[0mobj\u001b[0m\u001b[0;34m,\u001b[0m \u001b[0mfeval\u001b[0m\u001b[0;34m=\u001b[0m\u001b[0mfeval\u001b[0m\u001b[0;34m,\u001b[0m\u001b[0;34m\u001b[0m\u001b[0;34m\u001b[0m\u001b[0m\n\u001b[1;32m    712\u001b[0m                               \u001b[0mverbose_eval\u001b[0m\u001b[0;34m=\u001b[0m\u001b[0mverbose\u001b[0m\u001b[0;34m,\u001b[0m \u001b[0mxgb_model\u001b[0m\u001b[0;34m=\u001b[0m\u001b[0mxgb_model\u001b[0m\u001b[0;34m,\u001b[0m\u001b[0;34m\u001b[0m\u001b[0;34m\u001b[0m\u001b[0m\n\u001b[0;32m--> 713\u001b[0;31m                               callbacks=callbacks)\n\u001b[0m\u001b[1;32m    714\u001b[0m \u001b[0;34m\u001b[0m\u001b[0m\n\u001b[1;32m    715\u001b[0m         \u001b[0mself\u001b[0m\u001b[0;34m.\u001b[0m\u001b[0mobjective\u001b[0m \u001b[0;34m=\u001b[0m \u001b[0mxgb_options\u001b[0m\u001b[0;34m[\u001b[0m\u001b[0;34m\"objective\"\u001b[0m\u001b[0;34m]\u001b[0m\u001b[0;34m\u001b[0m\u001b[0;34m\u001b[0m\u001b[0m\n",
      "\u001b[0;32m/usr/local/lib/python3.6/dist-packages/xgboost/training.py\u001b[0m in \u001b[0;36mtrain\u001b[0;34m(params, dtrain, num_boost_round, evals, obj, feval, maximize, early_stopping_rounds, evals_result, verbose_eval, xgb_model, callbacks, learning_rates)\u001b[0m\n\u001b[1;32m    214\u001b[0m                            \u001b[0mevals\u001b[0m\u001b[0;34m=\u001b[0m\u001b[0mevals\u001b[0m\u001b[0;34m,\u001b[0m\u001b[0;34m\u001b[0m\u001b[0;34m\u001b[0m\u001b[0m\n\u001b[1;32m    215\u001b[0m                            \u001b[0mobj\u001b[0m\u001b[0;34m=\u001b[0m\u001b[0mobj\u001b[0m\u001b[0;34m,\u001b[0m \u001b[0mfeval\u001b[0m\u001b[0;34m=\u001b[0m\u001b[0mfeval\u001b[0m\u001b[0;34m,\u001b[0m\u001b[0;34m\u001b[0m\u001b[0;34m\u001b[0m\u001b[0m\n\u001b[0;32m--> 216\u001b[0;31m                            xgb_model=xgb_model, callbacks=callbacks)\n\u001b[0m\u001b[1;32m    217\u001b[0m \u001b[0;34m\u001b[0m\u001b[0m\n\u001b[1;32m    218\u001b[0m \u001b[0;34m\u001b[0m\u001b[0m\n",
      "\u001b[0;32m/usr/local/lib/python3.6/dist-packages/xgboost/training.py\u001b[0m in \u001b[0;36m_train_internal\u001b[0;34m(params, dtrain, num_boost_round, evals, obj, feval, xgb_model, callbacks)\u001b[0m\n\u001b[1;32m     72\u001b[0m         \u001b[0;31m# Skip the first update if it is a recovery step.\u001b[0m\u001b[0;34m\u001b[0m\u001b[0;34m\u001b[0m\u001b[0;34m\u001b[0m\u001b[0m\n\u001b[1;32m     73\u001b[0m         \u001b[0;32mif\u001b[0m \u001b[0mversion\u001b[0m \u001b[0;34m%\u001b[0m \u001b[0;36m2\u001b[0m \u001b[0;34m==\u001b[0m \u001b[0;36m0\u001b[0m\u001b[0;34m:\u001b[0m\u001b[0;34m\u001b[0m\u001b[0;34m\u001b[0m\u001b[0m\n\u001b[0;32m---> 74\u001b[0;31m             \u001b[0mbst\u001b[0m\u001b[0;34m.\u001b[0m\u001b[0mupdate\u001b[0m\u001b[0;34m(\u001b[0m\u001b[0mdtrain\u001b[0m\u001b[0;34m,\u001b[0m \u001b[0mi\u001b[0m\u001b[0;34m,\u001b[0m \u001b[0mobj\u001b[0m\u001b[0;34m)\u001b[0m\u001b[0;34m\u001b[0m\u001b[0;34m\u001b[0m\u001b[0m\n\u001b[0m\u001b[1;32m     75\u001b[0m             \u001b[0mbst\u001b[0m\u001b[0;34m.\u001b[0m\u001b[0msave_rabit_checkpoint\u001b[0m\u001b[0;34m(\u001b[0m\u001b[0;34m)\u001b[0m\u001b[0;34m\u001b[0m\u001b[0;34m\u001b[0m\u001b[0m\n\u001b[1;32m     76\u001b[0m             \u001b[0mversion\u001b[0m \u001b[0;34m+=\u001b[0m \u001b[0;36m1\u001b[0m\u001b[0;34m\u001b[0m\u001b[0;34m\u001b[0m\u001b[0m\n",
      "\u001b[0;32m/usr/local/lib/python3.6/dist-packages/xgboost/core.py\u001b[0m in \u001b[0;36mupdate\u001b[0;34m(self, dtrain, iteration, fobj)\u001b[0m\n\u001b[1;32m   1108\u001b[0m         \u001b[0;32mif\u001b[0m \u001b[0mfobj\u001b[0m \u001b[0;32mis\u001b[0m \u001b[0;32mNone\u001b[0m\u001b[0;34m:\u001b[0m\u001b[0;34m\u001b[0m\u001b[0;34m\u001b[0m\u001b[0m\n\u001b[1;32m   1109\u001b[0m             _check_call(_LIB.XGBoosterUpdateOneIter(self.handle, ctypes.c_int(iteration),\n\u001b[0;32m-> 1110\u001b[0;31m                                                     dtrain.handle))\n\u001b[0m\u001b[1;32m   1111\u001b[0m         \u001b[0;32melse\u001b[0m\u001b[0;34m:\u001b[0m\u001b[0;34m\u001b[0m\u001b[0;34m\u001b[0m\u001b[0m\n\u001b[1;32m   1112\u001b[0m             \u001b[0mpred\u001b[0m \u001b[0;34m=\u001b[0m \u001b[0mself\u001b[0m\u001b[0;34m.\u001b[0m\u001b[0mpredict\u001b[0m\u001b[0;34m(\u001b[0m\u001b[0mdtrain\u001b[0m\u001b[0;34m)\u001b[0m\u001b[0;34m\u001b[0m\u001b[0;34m\u001b[0m\u001b[0m\n",
      "\u001b[0;31mKeyboardInterrupt\u001b[0m: "
     ]
    }
   ],
   "source": [
    "tresholds = sorted(xg.feature_importances_)\n",
    "for tresh in tresholds:\n",
    "  selection  = SelectFromModel(xg,threshold=tresh, prefit=True)\n",
    "  select_x_train = selection.transform(train_x)\n",
    "  selection_model = XGBClassifier()\n",
    "  selection_model.fit(select_x_train,train_y)\n",
    "  select_X_test = selection.transform(test_x)\n",
    "  y_pred = selection_model.predict(select_X_test)\n",
    "  acc = accuracy_score(y_pred,test_y)\n",
    "  print(\"Thresh=%.5f, n=%d, Accuracy: %.2f%%\" % (tresh, select_x_train.shape[1], acc*100.0))"
   ]
  },
  {
   "cell_type": "code",
   "execution_count": 0,
   "metadata": {
    "colab": {},
    "colab_type": "code",
    "id": "qXpuaLDHHVEz"
   },
   "outputs": [],
   "source": [
    "xg_predict = xg.predict(test_x)"
   ]
  },
  {
   "cell_type": "code",
   "execution_count": 0,
   "metadata": {
    "colab": {
     "base_uri": "https://localhost:8080/",
     "height": 34
    },
    "colab_type": "code",
    "id": "XgYtbb-6HVCH",
    "outputId": "0cd26703-33b6-4f54-f7f1-bfc917bcd3e2"
   },
   "outputs": [
    {
     "data": {
      "text/plain": [
       "0.78073049803565"
      ]
     },
     "execution_count": 212,
     "metadata": {
      "tags": []
     },
     "output_type": "execute_result"
    }
   ],
   "source": [
    "accuracy_score(test_y,xg_predict)"
   ]
  },
  {
   "cell_type": "code",
   "execution_count": 0,
   "metadata": {
    "colab": {
     "base_uri": "https://localhost:8080/",
     "height": 34
    },
    "colab_type": "code",
    "id": "C1A7YG9kQx5N",
    "outputId": "ceda1e08-bbd0-4904-c369-6dda059e7c4f"
   },
   "outputs": [
    {
     "data": {
      "text/plain": [
       "0.513179558354895"
      ]
     },
     "execution_count": 213,
     "metadata": {
      "tags": []
     },
     "output_type": "execute_result"
    }
   ],
   "source": [
    "roc_auc_score(test_y,xg_predict)"
   ]
  },
  {
   "cell_type": "markdown",
   "metadata": {
    "colab_type": "text",
    "id": "BgHlHRR_KTMJ"
   },
   "source": [
    "## applying gradient boosting"
   ]
  },
  {
   "cell_type": "code",
   "execution_count": 0,
   "metadata": {
    "colab": {},
    "colab_type": "code",
    "id": "qreq6nuNHU_u"
   },
   "outputs": [],
   "source": [
    "grad= GradientBoostingClassifier()"
   ]
  },
  {
   "cell_type": "code",
   "execution_count": 0,
   "metadata": {
    "colab": {
     "base_uri": "https://localhost:8080/",
     "height": 170
    },
    "colab_type": "code",
    "id": "t_fnUvrLHU9t",
    "outputId": "8483842b-3615-47bc-fc01-311fb44742b2"
   },
   "outputs": [
    {
     "data": {
      "text/plain": [
       "GradientBoostingClassifier(criterion='friedman_mse', init=None,\n",
       "              learning_rate=0.1, loss='deviance', max_depth=3,\n",
       "              max_features=None, max_leaf_nodes=None,\n",
       "              min_impurity_decrease=0.0, min_impurity_split=None,\n",
       "              min_samples_leaf=1, min_samples_split=2,\n",
       "              min_weight_fraction_leaf=0.0, n_estimators=100,\n",
       "              n_iter_no_change=None, presort='auto', random_state=None,\n",
       "              subsample=1.0, tol=0.0001, validation_fraction=0.1,\n",
       "              verbose=0, warm_start=False)"
      ]
     },
     "execution_count": 215,
     "metadata": {
      "tags": []
     },
     "output_type": "execute_result"
    }
   ],
   "source": [
    "grad.fit(train_x,train_y)"
   ]
  },
  {
   "cell_type": "code",
   "execution_count": 0,
   "metadata": {
    "colab": {},
    "colab_type": "code",
    "id": "OjX4jGiCHU68"
   },
   "outputs": [],
   "source": [
    "grad = grad.predict(test_x)"
   ]
  },
  {
   "cell_type": "code",
   "execution_count": 0,
   "metadata": {
    "colab": {
     "base_uri": "https://localhost:8080/",
     "height": 34
    },
    "colab_type": "code",
    "id": "g5rqE6OyHU30",
    "outputId": "26625c27-8ede-4977-9c12-a26ac45f0b57"
   },
   "outputs": [
    {
     "data": {
      "text/plain": [
       "0.7837499356653914"
      ]
     },
     "execution_count": 217,
     "metadata": {
      "tags": []
     },
     "output_type": "execute_result"
    }
   ],
   "source": [
    "accuracy_score(test_y,grad)"
   ]
  },
  {
   "cell_type": "code",
   "execution_count": 0,
   "metadata": {
    "colab": {
     "base_uri": "https://localhost:8080/",
     "height": 34
    },
    "colab_type": "code",
    "id": "ASx82D2SQst-",
    "outputId": "d0d3fae3-aac1-4935-db6b-c4605cd2e3d2"
   },
   "outputs": [
    {
     "data": {
      "text/plain": [
       "0.5022819327812041"
      ]
     },
     "execution_count": 218,
     "metadata": {
      "tags": []
     },
     "output_type": "execute_result"
    }
   ],
   "source": [
    "roc_auc_score(test_y,grad)"
   ]
  },
  {
   "cell_type": "code",
   "execution_count": 0,
   "metadata": {
    "colab": {
     "base_uri": "https://localhost:8080/",
     "height": 493
    },
    "colab_type": "code",
    "id": "vg8CNcE-HU1R",
    "outputId": "3fbe89fa-86c7-4f0f-908f-067aa17e7c59"
   },
   "outputs": [
    {
     "name": "stdout",
     "output_type": "stream",
     "text": [
      "Learning rate:  0.02\n",
      "Accuracy score (training): 0.783\n",
      "Accuracy score (validation): 0.783\n",
      "\n",
      "Learning rate:  0.05\n",
      "Accuracy score (training): 0.783\n",
      "Accuracy score (validation): 0.783\n",
      "\n",
      "Learning rate:  0.1\n",
      "Accuracy score (training): 0.783\n",
      "Accuracy score (validation): 0.784\n",
      "\n",
      "Learning rate:  0.25\n",
      "Accuracy score (training): 0.784\n",
      "Accuracy score (validation): 0.784\n",
      "\n",
      "Learning rate:  0.5\n",
      "Accuracy score (training): 0.784\n",
      "Accuracy score (validation): 0.784\n",
      "\n",
      "Learning rate:  0.75\n",
      "Accuracy score (training): 0.785\n",
      "Accuracy score (validation): 0.783\n",
      "\n",
      "Learning rate:  1\n",
      "Accuracy score (training): 0.785\n",
      "Accuracy score (validation): 0.782\n",
      "\n"
     ]
    }
   ],
   "source": [
    "#computing with various gradients\n",
    "learning_rates = [0.02,0.05, 0.1, 0.25, 0.5, 0.75, 1]\n",
    "for learning_rate in learning_rates:\n",
    "    gb = GradientBoostingClassifier(n_estimators=400, learning_rate = learning_rate, max_features=2, \n",
    "                                    max_depth = 2, random_state = 0)\n",
    "    gb.fit(train_x,train_y)\n",
    "    print(\"Learning rate: \", learning_rate)\n",
    "    print(\"Accuracy score (training): {0:.3f}\".format(gb.score(train_x, train_y)))\n",
    "    print(\"Accuracy score (validation): {0:.3f}\".format(gb.score(test_x, test_y)))\n",
    "    print()"
   ]
  },
  {
   "cell_type": "code",
   "execution_count": 0,
   "metadata": {
    "colab": {},
    "colab_type": "code",
    "id": "OlRbAlUTPsXM"
   },
   "outputs": [],
   "source": []
  },
  {
   "cell_type": "markdown",
   "metadata": {
    "colab_type": "text",
    "id": "fm9ef6-ruycV"
   },
   "source": [
    "##  Applying catboost classifier"
   ]
  },
  {
   "cell_type": "code",
   "execution_count": 0,
   "metadata": {
    "colab": {},
    "colab_type": "code",
    "id": "b67I0RWzvaFR"
   },
   "outputs": [],
   "source": [
    "cat = CatBoostClassifier()"
   ]
  },
  {
   "cell_type": "code",
   "execution_count": 0,
   "metadata": {
    "colab": {
     "base_uri": "https://localhost:8080/",
     "height": 17051
    },
    "colab_type": "code",
    "id": "vxFI1CCV6L0h",
    "outputId": "d06f5100-c64b-421f-f29c-1f4095f887cc"
   },
   "outputs": [
    {
     "name": "stdout",
     "output_type": "stream",
     "text": [
      "Learning rate set to 0.072245\n",
      "0:\tlearn: 0.6662663\ttotal: 116ms\tremaining: 1m 55s\n",
      "1:\tlearn: 0.6436586\ttotal: 240ms\tremaining: 1m 59s\n",
      "2:\tlearn: 0.6235642\ttotal: 360ms\tremaining: 1m 59s\n",
      "3:\tlearn: 0.6067712\ttotal: 480ms\tremaining: 1m 59s\n",
      "4:\tlearn: 0.5922186\ttotal: 614ms\tremaining: 2m 2s\n",
      "5:\tlearn: 0.5804471\ttotal: 730ms\tremaining: 2m\n",
      "6:\tlearn: 0.5697271\ttotal: 846ms\tremaining: 1m 59s\n",
      "7:\tlearn: 0.5606834\ttotal: 981ms\tremaining: 2m 1s\n",
      "8:\tlearn: 0.5531968\ttotal: 1.12s\tremaining: 2m 3s\n",
      "9:\tlearn: 0.5464542\ttotal: 1.25s\tremaining: 2m 3s\n",
      "10:\tlearn: 0.5413646\ttotal: 1.37s\tremaining: 2m 3s\n",
      "11:\tlearn: 0.5364986\ttotal: 1.5s\tremaining: 2m 3s\n",
      "12:\tlearn: 0.5324361\ttotal: 1.65s\tremaining: 2m 5s\n",
      "13:\tlearn: 0.5291294\ttotal: 1.78s\tremaining: 2m 5s\n",
      "14:\tlearn: 0.5259418\ttotal: 1.92s\tremaining: 2m 6s\n",
      "15:\tlearn: 0.5230102\ttotal: 2.05s\tremaining: 2m 6s\n",
      "16:\tlearn: 0.5205292\ttotal: 2.19s\tremaining: 2m 6s\n",
      "17:\tlearn: 0.5185525\ttotal: 2.32s\tremaining: 2m 6s\n",
      "18:\tlearn: 0.5167600\ttotal: 2.46s\tremaining: 2m 6s\n",
      "19:\tlearn: 0.5153163\ttotal: 2.62s\tremaining: 2m 8s\n",
      "20:\tlearn: 0.5139214\ttotal: 2.75s\tremaining: 2m 8s\n",
      "21:\tlearn: 0.5126933\ttotal: 2.89s\tremaining: 2m 8s\n",
      "22:\tlearn: 0.5115903\ttotal: 3.01s\tremaining: 2m 7s\n",
      "23:\tlearn: 0.5104668\ttotal: 3.15s\tremaining: 2m 7s\n",
      "24:\tlearn: 0.5095875\ttotal: 3.27s\tremaining: 2m 7s\n",
      "25:\tlearn: 0.5088432\ttotal: 3.41s\tremaining: 2m 7s\n",
      "26:\tlearn: 0.5080908\ttotal: 3.55s\tremaining: 2m 7s\n",
      "27:\tlearn: 0.5074595\ttotal: 3.7s\tremaining: 2m 8s\n",
      "28:\tlearn: 0.5068701\ttotal: 3.83s\tremaining: 2m 8s\n",
      "29:\tlearn: 0.5063247\ttotal: 3.96s\tremaining: 2m 8s\n",
      "30:\tlearn: 0.5059242\ttotal: 4.09s\tremaining: 2m 7s\n",
      "31:\tlearn: 0.5054871\ttotal: 4.23s\tremaining: 2m 7s\n",
      "32:\tlearn: 0.5050818\ttotal: 4.36s\tremaining: 2m 7s\n",
      "33:\tlearn: 0.5047218\ttotal: 4.51s\tremaining: 2m 8s\n",
      "34:\tlearn: 0.5043602\ttotal: 4.67s\tremaining: 2m 8s\n",
      "35:\tlearn: 0.5040456\ttotal: 4.82s\tremaining: 2m 9s\n",
      "36:\tlearn: 0.5037512\ttotal: 4.95s\tremaining: 2m 8s\n",
      "37:\tlearn: 0.5035054\ttotal: 5.1s\tremaining: 2m 9s\n",
      "38:\tlearn: 0.5031546\ttotal: 5.24s\tremaining: 2m 9s\n",
      "39:\tlearn: 0.5029309\ttotal: 5.38s\tremaining: 2m 9s\n",
      "40:\tlearn: 0.5026376\ttotal: 5.51s\tremaining: 2m 8s\n",
      "41:\tlearn: 0.5023796\ttotal: 5.66s\tremaining: 2m 9s\n",
      "42:\tlearn: 0.5021570\ttotal: 5.79s\tremaining: 2m 8s\n",
      "43:\tlearn: 0.5019622\ttotal: 5.92s\tremaining: 2m 8s\n",
      "44:\tlearn: 0.5017811\ttotal: 6.06s\tremaining: 2m 8s\n",
      "45:\tlearn: 0.5016242\ttotal: 6.2s\tremaining: 2m 8s\n",
      "46:\tlearn: 0.5014500\ttotal: 6.33s\tremaining: 2m 8s\n",
      "47:\tlearn: 0.5012925\ttotal: 6.47s\tremaining: 2m 8s\n",
      "48:\tlearn: 0.5010992\ttotal: 6.61s\tremaining: 2m 8s\n",
      "49:\tlearn: 0.5009641\ttotal: 6.76s\tremaining: 2m 8s\n",
      "50:\tlearn: 0.5008091\ttotal: 6.88s\tremaining: 2m 8s\n",
      "51:\tlearn: 0.5006495\ttotal: 7.01s\tremaining: 2m 7s\n",
      "52:\tlearn: 0.5004604\ttotal: 7.15s\tremaining: 2m 7s\n",
      "53:\tlearn: 0.5003129\ttotal: 7.29s\tremaining: 2m 7s\n",
      "54:\tlearn: 0.5001562\ttotal: 7.42s\tremaining: 2m 7s\n",
      "55:\tlearn: 0.5000067\ttotal: 7.55s\tremaining: 2m 7s\n",
      "56:\tlearn: 0.4998304\ttotal: 7.69s\tremaining: 2m 7s\n",
      "57:\tlearn: 0.4997229\ttotal: 7.83s\tremaining: 2m 7s\n",
      "58:\tlearn: 0.4996033\ttotal: 7.96s\tremaining: 2m 6s\n",
      "59:\tlearn: 0.4994509\ttotal: 8.09s\tremaining: 2m 6s\n",
      "60:\tlearn: 0.4993611\ttotal: 8.22s\tremaining: 2m 6s\n",
      "61:\tlearn: 0.4992505\ttotal: 8.36s\tremaining: 2m 6s\n",
      "62:\tlearn: 0.4991196\ttotal: 8.49s\tremaining: 2m 6s\n",
      "63:\tlearn: 0.4990282\ttotal: 8.62s\tremaining: 2m 6s\n",
      "64:\tlearn: 0.4989325\ttotal: 8.76s\tremaining: 2m 6s\n",
      "65:\tlearn: 0.4988197\ttotal: 8.9s\tremaining: 2m 6s\n",
      "66:\tlearn: 0.4986912\ttotal: 9.04s\tremaining: 2m 5s\n",
      "67:\tlearn: 0.4986087\ttotal: 9.18s\tremaining: 2m 5s\n",
      "68:\tlearn: 0.4985014\ttotal: 9.32s\tremaining: 2m 5s\n",
      "69:\tlearn: 0.4983922\ttotal: 9.45s\tremaining: 2m 5s\n",
      "70:\tlearn: 0.4982557\ttotal: 9.59s\tremaining: 2m 5s\n",
      "71:\tlearn: 0.4981480\ttotal: 9.72s\tremaining: 2m 5s\n",
      "72:\tlearn: 0.4980597\ttotal: 9.87s\tremaining: 2m 5s\n",
      "73:\tlearn: 0.4979727\ttotal: 10s\tremaining: 2m 5s\n",
      "74:\tlearn: 0.4979218\ttotal: 10.1s\tremaining: 2m 4s\n",
      "75:\tlearn: 0.4978503\ttotal: 10.3s\tremaining: 2m 4s\n",
      "76:\tlearn: 0.4977666\ttotal: 10.4s\tremaining: 2m 4s\n",
      "77:\tlearn: 0.4977108\ttotal: 10.5s\tremaining: 2m 4s\n",
      "78:\tlearn: 0.4976555\ttotal: 10.7s\tremaining: 2m 4s\n",
      "79:\tlearn: 0.4975783\ttotal: 10.8s\tremaining: 2m 4s\n",
      "80:\tlearn: 0.4975228\ttotal: 10.9s\tremaining: 2m 4s\n",
      "81:\tlearn: 0.4974542\ttotal: 11.1s\tremaining: 2m 4s\n",
      "82:\tlearn: 0.4973910\ttotal: 11.2s\tremaining: 2m 4s\n",
      "83:\tlearn: 0.4973134\ttotal: 11.4s\tremaining: 2m 4s\n",
      "84:\tlearn: 0.4972271\ttotal: 11.5s\tremaining: 2m 3s\n",
      "85:\tlearn: 0.4971153\ttotal: 11.7s\tremaining: 2m 3s\n",
      "86:\tlearn: 0.4970528\ttotal: 11.8s\tremaining: 2m 3s\n",
      "87:\tlearn: 0.4970013\ttotal: 11.9s\tremaining: 2m 3s\n",
      "88:\tlearn: 0.4968875\ttotal: 12.1s\tremaining: 2m 3s\n",
      "89:\tlearn: 0.4968196\ttotal: 12.2s\tremaining: 2m 3s\n",
      "90:\tlearn: 0.4967458\ttotal: 12.3s\tremaining: 2m 3s\n",
      "91:\tlearn: 0.4966599\ttotal: 12.5s\tremaining: 2m 3s\n",
      "92:\tlearn: 0.4965946\ttotal: 12.6s\tremaining: 2m 2s\n",
      "93:\tlearn: 0.4965376\ttotal: 12.7s\tremaining: 2m 2s\n",
      "94:\tlearn: 0.4964753\ttotal: 12.9s\tremaining: 2m 2s\n",
      "95:\tlearn: 0.4963948\ttotal: 13s\tremaining: 2m 2s\n",
      "96:\tlearn: 0.4963561\ttotal: 13.1s\tremaining: 2m 2s\n",
      "97:\tlearn: 0.4963208\ttotal: 13.3s\tremaining: 2m 2s\n",
      "98:\tlearn: 0.4962524\ttotal: 13.4s\tremaining: 2m 1s\n",
      "99:\tlearn: 0.4962045\ttotal: 13.5s\tremaining: 2m 1s\n",
      "100:\tlearn: 0.4961405\ttotal: 13.7s\tremaining: 2m 1s\n",
      "101:\tlearn: 0.4961008\ttotal: 13.8s\tremaining: 2m 1s\n",
      "102:\tlearn: 0.4960651\ttotal: 13.9s\tremaining: 2m 1s\n",
      "103:\tlearn: 0.4960138\ttotal: 14.1s\tremaining: 2m 1s\n",
      "104:\tlearn: 0.4959606\ttotal: 14.2s\tremaining: 2m 1s\n",
      "105:\tlearn: 0.4959278\ttotal: 14.3s\tremaining: 2m\n",
      "106:\tlearn: 0.4958744\ttotal: 14.5s\tremaining: 2m\n",
      "107:\tlearn: 0.4958360\ttotal: 14.6s\tremaining: 2m\n",
      "108:\tlearn: 0.4957895\ttotal: 14.7s\tremaining: 2m\n",
      "109:\tlearn: 0.4957290\ttotal: 14.9s\tremaining: 2m\n",
      "110:\tlearn: 0.4956845\ttotal: 15s\tremaining: 2m\n",
      "111:\tlearn: 0.4956287\ttotal: 15.1s\tremaining: 2m\n",
      "112:\tlearn: 0.4955974\ttotal: 15.3s\tremaining: 1m 59s\n",
      "113:\tlearn: 0.4955333\ttotal: 15.4s\tremaining: 1m 59s\n",
      "114:\tlearn: 0.4954722\ttotal: 15.6s\tremaining: 1m 59s\n",
      "115:\tlearn: 0.4954280\ttotal: 15.7s\tremaining: 1m 59s\n",
      "116:\tlearn: 0.4953860\ttotal: 15.8s\tremaining: 1m 59s\n",
      "117:\tlearn: 0.4953406\ttotal: 16s\tremaining: 1m 59s\n",
      "118:\tlearn: 0.4952752\ttotal: 16.1s\tremaining: 1m 59s\n",
      "119:\tlearn: 0.4952462\ttotal: 16.2s\tremaining: 1m 59s\n",
      "120:\tlearn: 0.4952015\ttotal: 16.4s\tremaining: 1m 59s\n",
      "121:\tlearn: 0.4951624\ttotal: 16.5s\tremaining: 1m 58s\n",
      "122:\tlearn: 0.4951001\ttotal: 16.6s\tremaining: 1m 58s\n",
      "123:\tlearn: 0.4950440\ttotal: 16.8s\tremaining: 1m 58s\n",
      "124:\tlearn: 0.4949563\ttotal: 16.9s\tremaining: 1m 58s\n",
      "125:\tlearn: 0.4948972\ttotal: 17.1s\tremaining: 1m 58s\n",
      "126:\tlearn: 0.4948320\ttotal: 17.2s\tremaining: 1m 58s\n",
      "127:\tlearn: 0.4947856\ttotal: 17.3s\tremaining: 1m 58s\n",
      "128:\tlearn: 0.4947170\ttotal: 17.5s\tremaining: 1m 57s\n",
      "129:\tlearn: 0.4946920\ttotal: 17.6s\tremaining: 1m 57s\n",
      "130:\tlearn: 0.4946145\ttotal: 17.7s\tremaining: 1m 57s\n",
      "131:\tlearn: 0.4945643\ttotal: 17.9s\tremaining: 1m 57s\n",
      "132:\tlearn: 0.4945341\ttotal: 18s\tremaining: 1m 57s\n",
      "133:\tlearn: 0.4945031\ttotal: 18.1s\tremaining: 1m 57s\n",
      "134:\tlearn: 0.4944565\ttotal: 18.3s\tremaining: 1m 57s\n",
      "135:\tlearn: 0.4944150\ttotal: 18.4s\tremaining: 1m 56s\n",
      "136:\tlearn: 0.4943469\ttotal: 18.5s\tremaining: 1m 56s\n",
      "137:\tlearn: 0.4942925\ttotal: 18.7s\tremaining: 1m 56s\n",
      "138:\tlearn: 0.4942566\ttotal: 18.8s\tremaining: 1m 56s\n",
      "139:\tlearn: 0.4942087\ttotal: 18.9s\tremaining: 1m 56s\n",
      "140:\tlearn: 0.4941712\ttotal: 19.1s\tremaining: 1m 56s\n",
      "141:\tlearn: 0.4941415\ttotal: 19.2s\tremaining: 1m 55s\n",
      "142:\tlearn: 0.4940702\ttotal: 19.3s\tremaining: 1m 55s\n",
      "143:\tlearn: 0.4940253\ttotal: 19.4s\tremaining: 1m 55s\n",
      "144:\tlearn: 0.4939739\ttotal: 19.6s\tremaining: 1m 55s\n",
      "145:\tlearn: 0.4939222\ttotal: 19.7s\tremaining: 1m 55s\n",
      "146:\tlearn: 0.4938825\ttotal: 19.8s\tremaining: 1m 55s\n",
      "147:\tlearn: 0.4938371\ttotal: 20s\tremaining: 1m 54s\n",
      "148:\tlearn: 0.4937980\ttotal: 20.1s\tremaining: 1m 54s\n",
      "149:\tlearn: 0.4937653\ttotal: 20.2s\tremaining: 1m 54s\n",
      "150:\tlearn: 0.4937211\ttotal: 20.4s\tremaining: 1m 54s\n",
      "151:\tlearn: 0.4937018\ttotal: 20.5s\tremaining: 1m 54s\n",
      "152:\tlearn: 0.4936838\ttotal: 20.6s\tremaining: 1m 54s\n",
      "153:\tlearn: 0.4936525\ttotal: 20.8s\tremaining: 1m 54s\n",
      "154:\tlearn: 0.4936246\ttotal: 20.9s\tremaining: 1m 53s\n",
      "155:\tlearn: 0.4935770\ttotal: 21s\tremaining: 1m 53s\n",
      "156:\tlearn: 0.4935346\ttotal: 21.2s\tremaining: 1m 53s\n",
      "157:\tlearn: 0.4934853\ttotal: 21.3s\tremaining: 1m 53s\n",
      "158:\tlearn: 0.4934161\ttotal: 21.4s\tremaining: 1m 53s\n",
      "159:\tlearn: 0.4933839\ttotal: 21.6s\tremaining: 1m 53s\n",
      "160:\tlearn: 0.4933497\ttotal: 21.7s\tremaining: 1m 52s\n",
      "161:\tlearn: 0.4933103\ttotal: 21.8s\tremaining: 1m 52s\n",
      "162:\tlearn: 0.4932617\ttotal: 21.9s\tremaining: 1m 52s\n",
      "163:\tlearn: 0.4932392\ttotal: 22.1s\tremaining: 1m 52s\n",
      "164:\tlearn: 0.4931713\ttotal: 22.3s\tremaining: 1m 52s\n",
      "165:\tlearn: 0.4931350\ttotal: 22.4s\tremaining: 1m 52s\n",
      "166:\tlearn: 0.4930856\ttotal: 22.5s\tremaining: 1m 52s\n",
      "167:\tlearn: 0.4930428\ttotal: 22.7s\tremaining: 1m 52s\n",
      "168:\tlearn: 0.4930215\ttotal: 22.8s\tremaining: 1m 52s\n",
      "169:\tlearn: 0.4929863\ttotal: 22.9s\tremaining: 1m 51s\n",
      "170:\tlearn: 0.4929539\ttotal: 23s\tremaining: 1m 51s\n",
      "171:\tlearn: 0.4929303\ttotal: 23.2s\tremaining: 1m 51s\n",
      "172:\tlearn: 0.4929154\ttotal: 23.3s\tremaining: 1m 51s\n",
      "173:\tlearn: 0.4928868\ttotal: 23.4s\tremaining: 1m 51s\n",
      "174:\tlearn: 0.4928472\ttotal: 23.5s\tremaining: 1m 50s\n",
      "175:\tlearn: 0.4928208\ttotal: 23.7s\tremaining: 1m 50s\n",
      "176:\tlearn: 0.4928019\ttotal: 23.8s\tremaining: 1m 50s\n",
      "177:\tlearn: 0.4927657\ttotal: 23.9s\tremaining: 1m 50s\n",
      "178:\tlearn: 0.4927031\ttotal: 24s\tremaining: 1m 50s\n",
      "179:\tlearn: 0.4926517\ttotal: 24.2s\tremaining: 1m 50s\n",
      "180:\tlearn: 0.4926110\ttotal: 24.3s\tremaining: 1m 50s\n",
      "181:\tlearn: 0.4925778\ttotal: 24.5s\tremaining: 1m 49s\n",
      "182:\tlearn: 0.4925202\ttotal: 24.6s\tremaining: 1m 49s\n",
      "183:\tlearn: 0.4924746\ttotal: 24.7s\tremaining: 1m 49s\n",
      "184:\tlearn: 0.4924203\ttotal: 24.9s\tremaining: 1m 49s\n",
      "185:\tlearn: 0.4923898\ttotal: 25s\tremaining: 1m 49s\n",
      "186:\tlearn: 0.4923353\ttotal: 25.1s\tremaining: 1m 49s\n",
      "187:\tlearn: 0.4922789\ttotal: 25.3s\tremaining: 1m 49s\n",
      "188:\tlearn: 0.4922423\ttotal: 25.4s\tremaining: 1m 49s\n",
      "189:\tlearn: 0.4922078\ttotal: 25.5s\tremaining: 1m 48s\n",
      "190:\tlearn: 0.4921675\ttotal: 25.7s\tremaining: 1m 48s\n",
      "191:\tlearn: 0.4921265\ttotal: 25.8s\tremaining: 1m 48s\n",
      "192:\tlearn: 0.4920725\ttotal: 25.9s\tremaining: 1m 48s\n",
      "193:\tlearn: 0.4920228\ttotal: 26.1s\tremaining: 1m 48s\n",
      "194:\tlearn: 0.4919777\ttotal: 26.2s\tremaining: 1m 48s\n",
      "195:\tlearn: 0.4919389\ttotal: 26.3s\tremaining: 1m 48s\n",
      "196:\tlearn: 0.4919180\ttotal: 26.5s\tremaining: 1m 47s\n",
      "197:\tlearn: 0.4918330\ttotal: 26.6s\tremaining: 1m 47s\n",
      "198:\tlearn: 0.4917935\ttotal: 26.7s\tremaining: 1m 47s\n",
      "199:\tlearn: 0.4917609\ttotal: 26.9s\tremaining: 1m 47s\n",
      "200:\tlearn: 0.4917171\ttotal: 27s\tremaining: 1m 47s\n",
      "201:\tlearn: 0.4916560\ttotal: 27.1s\tremaining: 1m 47s\n",
      "202:\tlearn: 0.4916115\ttotal: 27.3s\tremaining: 1m 47s\n",
      "203:\tlearn: 0.4915675\ttotal: 27.4s\tremaining: 1m 47s\n",
      "204:\tlearn: 0.4915252\ttotal: 27.6s\tremaining: 1m 46s\n",
      "205:\tlearn: 0.4915003\ttotal: 27.7s\tremaining: 1m 46s\n",
      "206:\tlearn: 0.4914232\ttotal: 27.8s\tremaining: 1m 46s\n",
      "207:\tlearn: 0.4913740\ttotal: 27.9s\tremaining: 1m 46s\n",
      "208:\tlearn: 0.4913421\ttotal: 28.1s\tremaining: 1m 46s\n",
      "209:\tlearn: 0.4912983\ttotal: 28.2s\tremaining: 1m 46s\n",
      "210:\tlearn: 0.4912493\ttotal: 28.3s\tremaining: 1m 45s\n",
      "211:\tlearn: 0.4912164\ttotal: 28.5s\tremaining: 1m 45s\n",
      "212:\tlearn: 0.4911774\ttotal: 28.6s\tremaining: 1m 45s\n",
      "213:\tlearn: 0.4911249\ttotal: 28.8s\tremaining: 1m 45s\n",
      "214:\tlearn: 0.4910960\ttotal: 28.9s\tremaining: 1m 45s\n",
      "215:\tlearn: 0.4910654\ttotal: 29s\tremaining: 1m 45s\n",
      "216:\tlearn: 0.4910401\ttotal: 29.1s\tremaining: 1m 45s\n",
      "217:\tlearn: 0.4910057\ttotal: 29.3s\tremaining: 1m 45s\n",
      "218:\tlearn: 0.4909520\ttotal: 29.4s\tremaining: 1m 44s\n",
      "219:\tlearn: 0.4909220\ttotal: 29.6s\tremaining: 1m 44s\n",
      "220:\tlearn: 0.4908847\ttotal: 29.7s\tremaining: 1m 44s\n",
      "221:\tlearn: 0.4908214\ttotal: 29.8s\tremaining: 1m 44s\n",
      "222:\tlearn: 0.4907777\ttotal: 30s\tremaining: 1m 44s\n",
      "223:\tlearn: 0.4907342\ttotal: 30.1s\tremaining: 1m 44s\n",
      "224:\tlearn: 0.4906717\ttotal: 30.2s\tremaining: 1m 44s\n",
      "225:\tlearn: 0.4906387\ttotal: 30.4s\tremaining: 1m 44s\n",
      "226:\tlearn: 0.4906013\ttotal: 30.5s\tremaining: 1m 43s\n",
      "227:\tlearn: 0.4905494\ttotal: 30.6s\tremaining: 1m 43s\n",
      "228:\tlearn: 0.4905330\ttotal: 30.8s\tremaining: 1m 43s\n",
      "229:\tlearn: 0.4904904\ttotal: 30.9s\tremaining: 1m 43s\n",
      "230:\tlearn: 0.4904553\ttotal: 31s\tremaining: 1m 43s\n",
      "231:\tlearn: 0.4904167\ttotal: 31.2s\tremaining: 1m 43s\n",
      "232:\tlearn: 0.4903869\ttotal: 31.3s\tremaining: 1m 42s\n",
      "233:\tlearn: 0.4903275\ttotal: 31.4s\tremaining: 1m 42s\n",
      "234:\tlearn: 0.4902996\ttotal: 31.6s\tremaining: 1m 42s\n",
      "235:\tlearn: 0.4902754\ttotal: 31.7s\tremaining: 1m 42s\n",
      "236:\tlearn: 0.4902293\ttotal: 31.8s\tremaining: 1m 42s\n",
      "237:\tlearn: 0.4901870\ttotal: 32s\tremaining: 1m 42s\n",
      "238:\tlearn: 0.4901404\ttotal: 32.1s\tremaining: 1m 42s\n",
      "239:\tlearn: 0.4900878\ttotal: 32.2s\tremaining: 1m 42s\n",
      "240:\tlearn: 0.4900380\ttotal: 32.4s\tremaining: 1m 41s\n",
      "241:\tlearn: 0.4900066\ttotal: 32.5s\tremaining: 1m 41s\n",
      "242:\tlearn: 0.4899689\ttotal: 32.7s\tremaining: 1m 41s\n",
      "243:\tlearn: 0.4899324\ttotal: 32.8s\tremaining: 1m 41s\n",
      "244:\tlearn: 0.4899023\ttotal: 33s\tremaining: 1m 41s\n",
      "245:\tlearn: 0.4898629\ttotal: 33.1s\tremaining: 1m 41s\n",
      "246:\tlearn: 0.4898198\ttotal: 33.3s\tremaining: 1m 41s\n",
      "247:\tlearn: 0.4897761\ttotal: 33.5s\tremaining: 1m 41s\n",
      "248:\tlearn: 0.4897429\ttotal: 33.6s\tremaining: 1m 41s\n",
      "249:\tlearn: 0.4897115\ttotal: 33.8s\tremaining: 1m 41s\n",
      "250:\tlearn: 0.4896687\ttotal: 33.9s\tremaining: 1m 41s\n",
      "251:\tlearn: 0.4896448\ttotal: 34.1s\tremaining: 1m 41s\n",
      "252:\tlearn: 0.4896112\ttotal: 34.2s\tremaining: 1m 41s\n",
      "253:\tlearn: 0.4895736\ttotal: 34.4s\tremaining: 1m 40s\n",
      "254:\tlearn: 0.4895360\ttotal: 34.6s\tremaining: 1m 40s\n",
      "255:\tlearn: 0.4894857\ttotal: 34.7s\tremaining: 1m 40s\n",
      "256:\tlearn: 0.4894489\ttotal: 34.9s\tremaining: 1m 40s\n",
      "257:\tlearn: 0.4894178\ttotal: 35s\tremaining: 1m 40s\n",
      "258:\tlearn: 0.4893913\ttotal: 35.1s\tremaining: 1m 40s\n",
      "259:\tlearn: 0.4893555\ttotal: 35.3s\tremaining: 1m 40s\n",
      "260:\tlearn: 0.4893196\ttotal: 35.5s\tremaining: 1m 40s\n",
      "261:\tlearn: 0.4892821\ttotal: 35.6s\tremaining: 1m 40s\n",
      "262:\tlearn: 0.4892561\ttotal: 35.8s\tremaining: 1m 40s\n",
      "263:\tlearn: 0.4892267\ttotal: 35.9s\tremaining: 1m 40s\n",
      "264:\tlearn: 0.4891888\ttotal: 36.1s\tremaining: 1m 40s\n",
      "265:\tlearn: 0.4891564\ttotal: 36.2s\tremaining: 1m 39s\n",
      "266:\tlearn: 0.4891265\ttotal: 36.4s\tremaining: 1m 39s\n",
      "267:\tlearn: 0.4890860\ttotal: 36.5s\tremaining: 1m 39s\n",
      "268:\tlearn: 0.4890474\ttotal: 36.7s\tremaining: 1m 39s\n",
      "269:\tlearn: 0.4890174\ttotal: 36.8s\tremaining: 1m 39s\n",
      "270:\tlearn: 0.4889915\ttotal: 37s\tremaining: 1m 39s\n",
      "271:\tlearn: 0.4889621\ttotal: 37.2s\tremaining: 1m 39s\n",
      "272:\tlearn: 0.4889171\ttotal: 37.3s\tremaining: 1m 39s\n",
      "273:\tlearn: 0.4888706\ttotal: 37.5s\tremaining: 1m 39s\n",
      "274:\tlearn: 0.4888291\ttotal: 37.6s\tremaining: 1m 39s\n",
      "275:\tlearn: 0.4887827\ttotal: 37.8s\tremaining: 1m 39s\n",
      "276:\tlearn: 0.4887355\ttotal: 37.9s\tremaining: 1m 39s\n",
      "277:\tlearn: 0.4886912\ttotal: 38.1s\tremaining: 1m 38s\n",
      "278:\tlearn: 0.4886657\ttotal: 38.2s\tremaining: 1m 38s\n",
      "279:\tlearn: 0.4886201\ttotal: 38.4s\tremaining: 1m 38s\n",
      "280:\tlearn: 0.4885910\ttotal: 38.5s\tremaining: 1m 38s\n",
      "281:\tlearn: 0.4885570\ttotal: 38.7s\tremaining: 1m 38s\n",
      "282:\tlearn: 0.4885105\ttotal: 38.8s\tremaining: 1m 38s\n",
      "283:\tlearn: 0.4884626\ttotal: 39s\tremaining: 1m 38s\n",
      "284:\tlearn: 0.4884235\ttotal: 39.1s\tremaining: 1m 38s\n",
      "285:\tlearn: 0.4883770\ttotal: 39.3s\tremaining: 1m 38s\n",
      "286:\tlearn: 0.4883493\ttotal: 39.5s\tremaining: 1m 38s\n",
      "287:\tlearn: 0.4883074\ttotal: 39.6s\tremaining: 1m 37s\n",
      "288:\tlearn: 0.4882909\ttotal: 39.8s\tremaining: 1m 37s\n",
      "289:\tlearn: 0.4882419\ttotal: 39.9s\tremaining: 1m 37s\n",
      "290:\tlearn: 0.4881852\ttotal: 40.1s\tremaining: 1m 37s\n",
      "291:\tlearn: 0.4881543\ttotal: 40.2s\tremaining: 1m 37s\n",
      "292:\tlearn: 0.4881243\ttotal: 40.4s\tremaining: 1m 37s\n",
      "293:\tlearn: 0.4880856\ttotal: 40.5s\tremaining: 1m 37s\n",
      "294:\tlearn: 0.4880598\ttotal: 40.7s\tremaining: 1m 37s\n",
      "295:\tlearn: 0.4880260\ttotal: 40.9s\tremaining: 1m 37s\n",
      "296:\tlearn: 0.4879700\ttotal: 41s\tremaining: 1m 37s\n",
      "297:\tlearn: 0.4879393\ttotal: 41.2s\tremaining: 1m 36s\n",
      "298:\tlearn: 0.4879164\ttotal: 41.3s\tremaining: 1m 36s\n",
      "299:\tlearn: 0.4878895\ttotal: 41.5s\tremaining: 1m 36s\n",
      "300:\tlearn: 0.4878444\ttotal: 41.6s\tremaining: 1m 36s\n",
      "301:\tlearn: 0.4878005\ttotal: 41.8s\tremaining: 1m 36s\n",
      "302:\tlearn: 0.4877749\ttotal: 41.9s\tremaining: 1m 36s\n",
      "303:\tlearn: 0.4877398\ttotal: 42.1s\tremaining: 1m 36s\n",
      "304:\tlearn: 0.4877232\ttotal: 42.2s\tremaining: 1m 36s\n",
      "305:\tlearn: 0.4876955\ttotal: 42.4s\tremaining: 1m 36s\n",
      "306:\tlearn: 0.4876655\ttotal: 42.5s\tremaining: 1m 36s\n",
      "307:\tlearn: 0.4876342\ttotal: 42.7s\tremaining: 1m 35s\n",
      "308:\tlearn: 0.4876090\ttotal: 42.8s\tremaining: 1m 35s\n",
      "309:\tlearn: 0.4875553\ttotal: 43s\tremaining: 1m 35s\n",
      "310:\tlearn: 0.4875283\ttotal: 43.1s\tremaining: 1m 35s\n",
      "311:\tlearn: 0.4874892\ttotal: 43.2s\tremaining: 1m 35s\n",
      "312:\tlearn: 0.4874679\ttotal: 43.4s\tremaining: 1m 35s\n",
      "313:\tlearn: 0.4874501\ttotal: 43.5s\tremaining: 1m 35s\n",
      "314:\tlearn: 0.4874164\ttotal: 43.6s\tremaining: 1m 34s\n",
      "315:\tlearn: 0.4873541\ttotal: 43.8s\tremaining: 1m 34s\n",
      "316:\tlearn: 0.4873216\ttotal: 43.9s\tremaining: 1m 34s\n",
      "317:\tlearn: 0.4873010\ttotal: 44.1s\tremaining: 1m 34s\n",
      "318:\tlearn: 0.4872648\ttotal: 44.2s\tremaining: 1m 34s\n",
      "319:\tlearn: 0.4872222\ttotal: 44.3s\tremaining: 1m 34s\n",
      "320:\tlearn: 0.4871829\ttotal: 44.5s\tremaining: 1m 34s\n",
      "321:\tlearn: 0.4871557\ttotal: 44.6s\tremaining: 1m 33s\n",
      "322:\tlearn: 0.4871224\ttotal: 44.7s\tremaining: 1m 33s\n",
      "323:\tlearn: 0.4870932\ttotal: 44.9s\tremaining: 1m 33s\n",
      "324:\tlearn: 0.4870749\ttotal: 45s\tremaining: 1m 33s\n",
      "325:\tlearn: 0.4870489\ttotal: 45.1s\tremaining: 1m 33s\n",
      "326:\tlearn: 0.4870317\ttotal: 45.2s\tremaining: 1m 33s\n",
      "327:\tlearn: 0.4869906\ttotal: 45.4s\tremaining: 1m 32s\n",
      "328:\tlearn: 0.4869481\ttotal: 45.5s\tremaining: 1m 32s\n",
      "329:\tlearn: 0.4869189\ttotal: 45.6s\tremaining: 1m 32s\n",
      "330:\tlearn: 0.4868886\ttotal: 45.8s\tremaining: 1m 32s\n",
      "331:\tlearn: 0.4868527\ttotal: 45.9s\tremaining: 1m 32s\n",
      "332:\tlearn: 0.4868203\ttotal: 46.1s\tremaining: 1m 32s\n",
      "333:\tlearn: 0.4867870\ttotal: 46.2s\tremaining: 1m 32s\n",
      "334:\tlearn: 0.4867614\ttotal: 46.3s\tremaining: 1m 31s\n",
      "335:\tlearn: 0.4867342\ttotal: 46.5s\tremaining: 1m 31s\n",
      "336:\tlearn: 0.4867144\ttotal: 46.6s\tremaining: 1m 31s\n",
      "337:\tlearn: 0.4866879\ttotal: 46.7s\tremaining: 1m 31s\n",
      "338:\tlearn: 0.4866542\ttotal: 46.8s\tremaining: 1m 31s\n",
      "339:\tlearn: 0.4866142\ttotal: 47s\tremaining: 1m 31s\n",
      "340:\tlearn: 0.4865815\ttotal: 47.1s\tremaining: 1m 31s\n",
      "341:\tlearn: 0.4865523\ttotal: 47.3s\tremaining: 1m 30s\n",
      "342:\tlearn: 0.4865326\ttotal: 47.4s\tremaining: 1m 30s\n",
      "343:\tlearn: 0.4864857\ttotal: 47.5s\tremaining: 1m 30s\n",
      "344:\tlearn: 0.4864708\ttotal: 47.6s\tremaining: 1m 30s\n",
      "345:\tlearn: 0.4864455\ttotal: 47.8s\tremaining: 1m 30s\n",
      "346:\tlearn: 0.4864003\ttotal: 47.9s\tremaining: 1m 30s\n",
      "347:\tlearn: 0.4863828\ttotal: 48.1s\tremaining: 1m 30s\n",
      "348:\tlearn: 0.4863188\ttotal: 48.2s\tremaining: 1m 29s\n",
      "349:\tlearn: 0.4862710\ttotal: 48.3s\tremaining: 1m 29s\n",
      "350:\tlearn: 0.4862279\ttotal: 48.5s\tremaining: 1m 29s\n",
      "351:\tlearn: 0.4862003\ttotal: 48.6s\tremaining: 1m 29s\n",
      "352:\tlearn: 0.4861638\ttotal: 48.8s\tremaining: 1m 29s\n",
      "353:\tlearn: 0.4861375\ttotal: 48.9s\tremaining: 1m 29s\n",
      "354:\tlearn: 0.4861042\ttotal: 49s\tremaining: 1m 29s\n",
      "355:\tlearn: 0.4860672\ttotal: 49.2s\tremaining: 1m 28s\n",
      "356:\tlearn: 0.4860389\ttotal: 49.3s\tremaining: 1m 28s\n",
      "357:\tlearn: 0.4860055\ttotal: 49.4s\tremaining: 1m 28s\n",
      "358:\tlearn: 0.4859690\ttotal: 49.6s\tremaining: 1m 28s\n",
      "359:\tlearn: 0.4859379\ttotal: 49.7s\tremaining: 1m 28s\n",
      "360:\tlearn: 0.4859130\ttotal: 49.8s\tremaining: 1m 28s\n",
      "361:\tlearn: 0.4858901\ttotal: 50s\tremaining: 1m 28s\n",
      "362:\tlearn: 0.4858541\ttotal: 50.1s\tremaining: 1m 27s\n",
      "363:\tlearn: 0.4858191\ttotal: 50.2s\tremaining: 1m 27s\n",
      "364:\tlearn: 0.4857900\ttotal: 50.4s\tremaining: 1m 27s\n",
      "365:\tlearn: 0.4857491\ttotal: 50.5s\tremaining: 1m 27s\n",
      "366:\tlearn: 0.4857132\ttotal: 50.6s\tremaining: 1m 27s\n",
      "367:\tlearn: 0.4856782\ttotal: 50.8s\tremaining: 1m 27s\n",
      "368:\tlearn: 0.4856584\ttotal: 50.9s\tremaining: 1m 27s\n",
      "369:\tlearn: 0.4856140\ttotal: 51.1s\tremaining: 1m 26s\n",
      "370:\tlearn: 0.4855972\ttotal: 51.2s\tremaining: 1m 26s\n",
      "371:\tlearn: 0.4855619\ttotal: 51.3s\tremaining: 1m 26s\n",
      "372:\tlearn: 0.4855239\ttotal: 51.4s\tremaining: 1m 26s\n",
      "373:\tlearn: 0.4855024\ttotal: 51.6s\tremaining: 1m 26s\n",
      "374:\tlearn: 0.4854668\ttotal: 51.7s\tremaining: 1m 26s\n",
      "375:\tlearn: 0.4854448\ttotal: 51.8s\tremaining: 1m 26s\n",
      "376:\tlearn: 0.4854081\ttotal: 52s\tremaining: 1m 25s\n",
      "377:\tlearn: 0.4853863\ttotal: 52.1s\tremaining: 1m 25s\n",
      "378:\tlearn: 0.4853470\ttotal: 52.3s\tremaining: 1m 25s\n",
      "379:\tlearn: 0.4853130\ttotal: 52.4s\tremaining: 1m 25s\n",
      "380:\tlearn: 0.4852672\ttotal: 52.5s\tremaining: 1m 25s\n",
      "381:\tlearn: 0.4852454\ttotal: 52.7s\tremaining: 1m 25s\n",
      "382:\tlearn: 0.4852153\ttotal: 52.8s\tremaining: 1m 25s\n",
      "383:\tlearn: 0.4851807\ttotal: 52.9s\tremaining: 1m 24s\n",
      "384:\tlearn: 0.4851660\ttotal: 53s\tremaining: 1m 24s\n",
      "385:\tlearn: 0.4851408\ttotal: 53.2s\tremaining: 1m 24s\n",
      "386:\tlearn: 0.4851057\ttotal: 53.3s\tremaining: 1m 24s\n",
      "387:\tlearn: 0.4850782\ttotal: 53.5s\tremaining: 1m 24s\n",
      "388:\tlearn: 0.4850589\ttotal: 53.6s\tremaining: 1m 24s\n",
      "389:\tlearn: 0.4850370\ttotal: 53.7s\tremaining: 1m 24s\n",
      "390:\tlearn: 0.4850051\ttotal: 53.8s\tremaining: 1m 23s\n",
      "391:\tlearn: 0.4849752\ttotal: 54s\tremaining: 1m 23s\n",
      "392:\tlearn: 0.4849510\ttotal: 54.1s\tremaining: 1m 23s\n",
      "393:\tlearn: 0.4849225\ttotal: 54.3s\tremaining: 1m 23s\n",
      "394:\tlearn: 0.4848829\ttotal: 54.4s\tremaining: 1m 23s\n",
      "395:\tlearn: 0.4848505\ttotal: 54.5s\tremaining: 1m 23s\n",
      "396:\tlearn: 0.4848187\ttotal: 54.6s\tremaining: 1m 22s\n",
      "397:\tlearn: 0.4847967\ttotal: 54.8s\tremaining: 1m 22s\n",
      "398:\tlearn: 0.4847691\ttotal: 54.9s\tremaining: 1m 22s\n",
      "399:\tlearn: 0.4847490\ttotal: 55.1s\tremaining: 1m 22s\n",
      "400:\tlearn: 0.4847169\ttotal: 55.2s\tremaining: 1m 22s\n",
      "401:\tlearn: 0.4846882\ttotal: 55.3s\tremaining: 1m 22s\n",
      "402:\tlearn: 0.4846601\ttotal: 55.5s\tremaining: 1m 22s\n",
      "403:\tlearn: 0.4846310\ttotal: 55.6s\tremaining: 1m 21s\n",
      "404:\tlearn: 0.4846027\ttotal: 55.7s\tremaining: 1m 21s\n",
      "405:\tlearn: 0.4845740\ttotal: 55.8s\tremaining: 1m 21s\n",
      "406:\tlearn: 0.4845494\ttotal: 56s\tremaining: 1m 21s\n",
      "407:\tlearn: 0.4845023\ttotal: 56.1s\tremaining: 1m 21s\n",
      "408:\tlearn: 0.4844775\ttotal: 56.3s\tremaining: 1m 21s\n",
      "409:\tlearn: 0.4844502\ttotal: 56.4s\tremaining: 1m 21s\n",
      "410:\tlearn: 0.4844221\ttotal: 56.5s\tremaining: 1m 21s\n",
      "411:\tlearn: 0.4843862\ttotal: 56.7s\tremaining: 1m 20s\n",
      "412:\tlearn: 0.4843540\ttotal: 56.8s\tremaining: 1m 20s\n",
      "413:\tlearn: 0.4843108\ttotal: 56.9s\tremaining: 1m 20s\n",
      "414:\tlearn: 0.4842788\ttotal: 57.1s\tremaining: 1m 20s\n",
      "415:\tlearn: 0.4842584\ttotal: 57.2s\tremaining: 1m 20s\n",
      "416:\tlearn: 0.4842126\ttotal: 57.3s\tremaining: 1m 20s\n",
      "417:\tlearn: 0.4841798\ttotal: 57.5s\tremaining: 1m 20s\n",
      "418:\tlearn: 0.4841513\ttotal: 57.6s\tremaining: 1m 19s\n",
      "419:\tlearn: 0.4841138\ttotal: 57.7s\tremaining: 1m 19s\n",
      "420:\tlearn: 0.4840808\ttotal: 57.9s\tremaining: 1m 19s\n",
      "421:\tlearn: 0.4840558\ttotal: 58s\tremaining: 1m 19s\n",
      "422:\tlearn: 0.4840316\ttotal: 58.2s\tremaining: 1m 19s\n",
      "423:\tlearn: 0.4840056\ttotal: 58.3s\tremaining: 1m 19s\n",
      "424:\tlearn: 0.4839718\ttotal: 58.5s\tremaining: 1m 19s\n",
      "425:\tlearn: 0.4839356\ttotal: 58.7s\tremaining: 1m 19s\n",
      "426:\tlearn: 0.4838935\ttotal: 58.8s\tremaining: 1m 18s\n",
      "427:\tlearn: 0.4838664\ttotal: 59s\tremaining: 1m 18s\n",
      "428:\tlearn: 0.4838312\ttotal: 59.1s\tremaining: 1m 18s\n",
      "429:\tlearn: 0.4838065\ttotal: 59.3s\tremaining: 1m 18s\n",
      "430:\tlearn: 0.4837751\ttotal: 59.4s\tremaining: 1m 18s\n",
      "431:\tlearn: 0.4837559\ttotal: 59.6s\tremaining: 1m 18s\n",
      "432:\tlearn: 0.4837279\ttotal: 59.7s\tremaining: 1m 18s\n",
      "433:\tlearn: 0.4837152\ttotal: 59.9s\tremaining: 1m 18s\n",
      "434:\tlearn: 0.4836848\ttotal: 1m\tremaining: 1m 17s\n",
      "435:\tlearn: 0.4836616\ttotal: 1m\tremaining: 1m 17s\n",
      "436:\tlearn: 0.4836357\ttotal: 1m\tremaining: 1m 17s\n",
      "437:\tlearn: 0.4836092\ttotal: 1m\tremaining: 1m 17s\n",
      "438:\tlearn: 0.4835693\ttotal: 1m\tremaining: 1m 17s\n",
      "439:\tlearn: 0.4835453\ttotal: 1m\tremaining: 1m 17s\n",
      "440:\tlearn: 0.4835316\ttotal: 1m\tremaining: 1m 17s\n",
      "441:\tlearn: 0.4835104\ttotal: 1m 1s\tremaining: 1m 17s\n",
      "442:\tlearn: 0.4834847\ttotal: 1m 1s\tremaining: 1m 17s\n",
      "443:\tlearn: 0.4834620\ttotal: 1m 1s\tremaining: 1m 16s\n",
      "444:\tlearn: 0.4834334\ttotal: 1m 1s\tremaining: 1m 16s\n",
      "445:\tlearn: 0.4833951\ttotal: 1m 1s\tremaining: 1m 16s\n",
      "446:\tlearn: 0.4833661\ttotal: 1m 1s\tremaining: 1m 16s\n",
      "447:\tlearn: 0.4833428\ttotal: 1m 1s\tremaining: 1m 16s\n",
      "448:\tlearn: 0.4833094\ttotal: 1m 2s\tremaining: 1m 16s\n",
      "449:\tlearn: 0.4832781\ttotal: 1m 2s\tremaining: 1m 16s\n",
      "450:\tlearn: 0.4832467\ttotal: 1m 2s\tremaining: 1m 16s\n",
      "451:\tlearn: 0.4832253\ttotal: 1m 2s\tremaining: 1m 15s\n",
      "452:\tlearn: 0.4831993\ttotal: 1m 2s\tremaining: 1m 15s\n",
      "453:\tlearn: 0.4831748\ttotal: 1m 2s\tremaining: 1m 15s\n",
      "454:\tlearn: 0.4831442\ttotal: 1m 3s\tremaining: 1m 15s\n",
      "455:\tlearn: 0.4830994\ttotal: 1m 3s\tremaining: 1m 15s\n",
      "456:\tlearn: 0.4830682\ttotal: 1m 3s\tremaining: 1m 15s\n",
      "457:\tlearn: 0.4830437\ttotal: 1m 3s\tremaining: 1m 15s\n",
      "458:\tlearn: 0.4830156\ttotal: 1m 3s\tremaining: 1m 15s\n",
      "459:\tlearn: 0.4829871\ttotal: 1m 3s\tremaining: 1m 14s\n",
      "460:\tlearn: 0.4829486\ttotal: 1m 4s\tremaining: 1m 14s\n",
      "461:\tlearn: 0.4829317\ttotal: 1m 4s\tremaining: 1m 14s\n",
      "462:\tlearn: 0.4829035\ttotal: 1m 4s\tremaining: 1m 14s\n",
      "463:\tlearn: 0.4828741\ttotal: 1m 4s\tremaining: 1m 14s\n",
      "464:\tlearn: 0.4828431\ttotal: 1m 4s\tremaining: 1m 14s\n",
      "465:\tlearn: 0.4828099\ttotal: 1m 4s\tremaining: 1m 14s\n",
      "466:\tlearn: 0.4827699\ttotal: 1m 4s\tremaining: 1m 14s\n",
      "467:\tlearn: 0.4827470\ttotal: 1m 5s\tremaining: 1m 13s\n",
      "468:\tlearn: 0.4827195\ttotal: 1m 5s\tremaining: 1m 13s\n",
      "469:\tlearn: 0.4826932\ttotal: 1m 5s\tremaining: 1m 13s\n",
      "470:\tlearn: 0.4826740\ttotal: 1m 5s\tremaining: 1m 13s\n",
      "471:\tlearn: 0.4826428\ttotal: 1m 5s\tremaining: 1m 13s\n",
      "472:\tlearn: 0.4826336\ttotal: 1m 5s\tremaining: 1m 13s\n",
      "473:\tlearn: 0.4826071\ttotal: 1m 5s\tremaining: 1m 13s\n",
      "474:\tlearn: 0.4825864\ttotal: 1m 6s\tremaining: 1m 13s\n",
      "475:\tlearn: 0.4825449\ttotal: 1m 6s\tremaining: 1m 12s\n",
      "476:\tlearn: 0.4825156\ttotal: 1m 6s\tremaining: 1m 12s\n",
      "477:\tlearn: 0.4824833\ttotal: 1m 6s\tremaining: 1m 12s\n",
      "478:\tlearn: 0.4824565\ttotal: 1m 6s\tremaining: 1m 12s\n",
      "479:\tlearn: 0.4824324\ttotal: 1m 6s\tremaining: 1m 12s\n",
      "480:\tlearn: 0.4824060\ttotal: 1m 7s\tremaining: 1m 12s\n",
      "481:\tlearn: 0.4823858\ttotal: 1m 7s\tremaining: 1m 12s\n",
      "482:\tlearn: 0.4823519\ttotal: 1m 7s\tremaining: 1m 12s\n",
      "483:\tlearn: 0.4823176\ttotal: 1m 7s\tremaining: 1m 11s\n",
      "484:\tlearn: 0.4822964\ttotal: 1m 7s\tremaining: 1m 11s\n",
      "485:\tlearn: 0.4822692\ttotal: 1m 7s\tremaining: 1m 11s\n",
      "486:\tlearn: 0.4822409\ttotal: 1m 7s\tremaining: 1m 11s\n",
      "487:\tlearn: 0.4822079\ttotal: 1m 8s\tremaining: 1m 11s\n",
      "488:\tlearn: 0.4821788\ttotal: 1m 8s\tremaining: 1m 11s\n",
      "489:\tlearn: 0.4821517\ttotal: 1m 8s\tremaining: 1m 11s\n",
      "490:\tlearn: 0.4821356\ttotal: 1m 8s\tremaining: 1m 10s\n",
      "491:\tlearn: 0.4821131\ttotal: 1m 8s\tremaining: 1m 10s\n",
      "492:\tlearn: 0.4820832\ttotal: 1m 8s\tremaining: 1m 10s\n",
      "493:\tlearn: 0.4820536\ttotal: 1m 8s\tremaining: 1m 10s\n",
      "494:\tlearn: 0.4820365\ttotal: 1m 9s\tremaining: 1m 10s\n",
      "495:\tlearn: 0.4820138\ttotal: 1m 9s\tremaining: 1m 10s\n",
      "496:\tlearn: 0.4819837\ttotal: 1m 9s\tremaining: 1m 10s\n",
      "497:\tlearn: 0.4819558\ttotal: 1m 9s\tremaining: 1m 9s\n",
      "498:\tlearn: 0.4819211\ttotal: 1m 9s\tremaining: 1m 9s\n",
      "499:\tlearn: 0.4819045\ttotal: 1m 9s\tremaining: 1m 9s\n",
      "500:\tlearn: 0.4818870\ttotal: 1m 9s\tremaining: 1m 9s\n",
      "501:\tlearn: 0.4818562\ttotal: 1m 9s\tremaining: 1m 9s\n",
      "502:\tlearn: 0.4818297\ttotal: 1m 10s\tremaining: 1m 9s\n",
      "503:\tlearn: 0.4818040\ttotal: 1m 10s\tremaining: 1m 9s\n",
      "504:\tlearn: 0.4817825\ttotal: 1m 10s\tremaining: 1m 8s\n",
      "505:\tlearn: 0.4817548\ttotal: 1m 10s\tremaining: 1m 8s\n",
      "506:\tlearn: 0.4817302\ttotal: 1m 10s\tremaining: 1m 8s\n",
      "507:\tlearn: 0.4817080\ttotal: 1m 10s\tremaining: 1m 8s\n",
      "508:\tlearn: 0.4816900\ttotal: 1m 10s\tremaining: 1m 8s\n",
      "509:\tlearn: 0.4816660\ttotal: 1m 10s\tremaining: 1m 8s\n",
      "510:\tlearn: 0.4816333\ttotal: 1m 11s\tremaining: 1m 8s\n",
      "511:\tlearn: 0.4816078\ttotal: 1m 11s\tremaining: 1m 7s\n",
      "512:\tlearn: 0.4815788\ttotal: 1m 11s\tremaining: 1m 7s\n",
      "513:\tlearn: 0.4815515\ttotal: 1m 11s\tremaining: 1m 7s\n",
      "514:\tlearn: 0.4815289\ttotal: 1m 11s\tremaining: 1m 7s\n",
      "515:\tlearn: 0.4815083\ttotal: 1m 11s\tremaining: 1m 7s\n",
      "516:\tlearn: 0.4814927\ttotal: 1m 11s\tremaining: 1m 7s\n",
      "517:\tlearn: 0.4814667\ttotal: 1m 12s\tremaining: 1m 7s\n",
      "518:\tlearn: 0.4814446\ttotal: 1m 12s\tremaining: 1m 6s\n",
      "519:\tlearn: 0.4814175\ttotal: 1m 12s\tremaining: 1m 6s\n",
      "520:\tlearn: 0.4814026\ttotal: 1m 12s\tremaining: 1m 6s\n",
      "521:\tlearn: 0.4813731\ttotal: 1m 12s\tremaining: 1m 6s\n",
      "522:\tlearn: 0.4813509\ttotal: 1m 12s\tremaining: 1m 6s\n",
      "523:\tlearn: 0.4813247\ttotal: 1m 12s\tremaining: 1m 6s\n",
      "524:\tlearn: 0.4812946\ttotal: 1m 13s\tremaining: 1m 6s\n",
      "525:\tlearn: 0.4812686\ttotal: 1m 13s\tremaining: 1m 5s\n",
      "526:\tlearn: 0.4812453\ttotal: 1m 13s\tremaining: 1m 5s\n",
      "527:\tlearn: 0.4812147\ttotal: 1m 13s\tremaining: 1m 5s\n",
      "528:\tlearn: 0.4811906\ttotal: 1m 13s\tremaining: 1m 5s\n",
      "529:\tlearn: 0.4811631\ttotal: 1m 13s\tremaining: 1m 5s\n",
      "530:\tlearn: 0.4811434\ttotal: 1m 13s\tremaining: 1m 5s\n",
      "531:\tlearn: 0.4811103\ttotal: 1m 14s\tremaining: 1m 5s\n",
      "532:\tlearn: 0.4810827\ttotal: 1m 14s\tremaining: 1m 4s\n",
      "533:\tlearn: 0.4810482\ttotal: 1m 14s\tremaining: 1m 4s\n",
      "534:\tlearn: 0.4810313\ttotal: 1m 14s\tremaining: 1m 4s\n",
      "535:\tlearn: 0.4810058\ttotal: 1m 14s\tremaining: 1m 4s\n",
      "536:\tlearn: 0.4809801\ttotal: 1m 14s\tremaining: 1m 4s\n",
      "537:\tlearn: 0.4809549\ttotal: 1m 14s\tremaining: 1m 4s\n",
      "538:\tlearn: 0.4809411\ttotal: 1m 15s\tremaining: 1m 4s\n",
      "539:\tlearn: 0.4809204\ttotal: 1m 15s\tremaining: 1m 4s\n",
      "540:\tlearn: 0.4808899\ttotal: 1m 15s\tremaining: 1m 3s\n",
      "541:\tlearn: 0.4808535\ttotal: 1m 15s\tremaining: 1m 3s\n",
      "542:\tlearn: 0.4808251\ttotal: 1m 15s\tremaining: 1m 3s\n",
      "543:\tlearn: 0.4808084\ttotal: 1m 15s\tremaining: 1m 3s\n",
      "544:\tlearn: 0.4807820\ttotal: 1m 15s\tremaining: 1m 3s\n",
      "545:\tlearn: 0.4807568\ttotal: 1m 16s\tremaining: 1m 3s\n",
      "546:\tlearn: 0.4807352\ttotal: 1m 16s\tremaining: 1m 3s\n",
      "547:\tlearn: 0.4807056\ttotal: 1m 16s\tremaining: 1m 3s\n",
      "548:\tlearn: 0.4806731\ttotal: 1m 16s\tremaining: 1m 2s\n",
      "549:\tlearn: 0.4806416\ttotal: 1m 16s\tremaining: 1m 2s\n",
      "550:\tlearn: 0.4806104\ttotal: 1m 16s\tremaining: 1m 2s\n",
      "551:\tlearn: 0.4805837\ttotal: 1m 17s\tremaining: 1m 2s\n",
      "552:\tlearn: 0.4805556\ttotal: 1m 17s\tremaining: 1m 2s\n",
      "553:\tlearn: 0.4805350\ttotal: 1m 17s\tremaining: 1m 2s\n",
      "554:\tlearn: 0.4805050\ttotal: 1m 17s\tremaining: 1m 2s\n",
      "555:\tlearn: 0.4804791\ttotal: 1m 17s\tremaining: 1m 2s\n",
      "556:\tlearn: 0.4804485\ttotal: 1m 17s\tremaining: 1m 1s\n",
      "557:\tlearn: 0.4804283\ttotal: 1m 17s\tremaining: 1m 1s\n",
      "558:\tlearn: 0.4803948\ttotal: 1m 18s\tremaining: 1m 1s\n",
      "559:\tlearn: 0.4803641\ttotal: 1m 18s\tremaining: 1m 1s\n",
      "560:\tlearn: 0.4803279\ttotal: 1m 18s\tremaining: 1m 1s\n",
      "561:\tlearn: 0.4802915\ttotal: 1m 18s\tremaining: 1m 1s\n",
      "562:\tlearn: 0.4802756\ttotal: 1m 18s\tremaining: 1m 1s\n",
      "563:\tlearn: 0.4802506\ttotal: 1m 18s\tremaining: 1m\n",
      "564:\tlearn: 0.4802043\ttotal: 1m 19s\tremaining: 1m\n",
      "565:\tlearn: 0.4801782\ttotal: 1m 19s\tremaining: 1m\n",
      "566:\tlearn: 0.4801448\ttotal: 1m 19s\tremaining: 1m\n",
      "567:\tlearn: 0.4801181\ttotal: 1m 19s\tremaining: 1m\n",
      "568:\tlearn: 0.4800973\ttotal: 1m 19s\tremaining: 1m\n",
      "569:\tlearn: 0.4800670\ttotal: 1m 19s\tremaining: 1m\n",
      "570:\tlearn: 0.4800399\ttotal: 1m 19s\tremaining: 1m\n",
      "571:\tlearn: 0.4800183\ttotal: 1m 20s\tremaining: 59.9s\n",
      "572:\tlearn: 0.4799949\ttotal: 1m 20s\tremaining: 59.7s\n",
      "573:\tlearn: 0.4799621\ttotal: 1m 20s\tremaining: 59.6s\n",
      "574:\tlearn: 0.4799363\ttotal: 1m 20s\tremaining: 59.4s\n",
      "575:\tlearn: 0.4799139\ttotal: 1m 20s\tremaining: 59.3s\n",
      "576:\tlearn: 0.4798972\ttotal: 1m 20s\tremaining: 59.2s\n",
      "577:\tlearn: 0.4798756\ttotal: 1m 20s\tremaining: 59s\n",
      "578:\tlearn: 0.4798577\ttotal: 1m 20s\tremaining: 58.9s\n",
      "579:\tlearn: 0.4798296\ttotal: 1m 21s\tremaining: 58.7s\n",
      "580:\tlearn: 0.4798049\ttotal: 1m 21s\tremaining: 58.6s\n",
      "581:\tlearn: 0.4797775\ttotal: 1m 21s\tremaining: 58.4s\n",
      "582:\tlearn: 0.4797431\ttotal: 1m 21s\tremaining: 58.3s\n",
      "583:\tlearn: 0.4797263\ttotal: 1m 21s\tremaining: 58.1s\n",
      "584:\tlearn: 0.4797081\ttotal: 1m 21s\tremaining: 58s\n",
      "585:\tlearn: 0.4796884\ttotal: 1m 21s\tremaining: 57.8s\n",
      "586:\tlearn: 0.4796685\ttotal: 1m 22s\tremaining: 57.7s\n",
      "587:\tlearn: 0.4796633\ttotal: 1m 22s\tremaining: 57.6s\n",
      "588:\tlearn: 0.4796189\ttotal: 1m 22s\tremaining: 57.4s\n",
      "589:\tlearn: 0.4795858\ttotal: 1m 22s\tremaining: 57.3s\n",
      "590:\tlearn: 0.4795598\ttotal: 1m 22s\tremaining: 57.1s\n",
      "591:\tlearn: 0.4795409\ttotal: 1m 22s\tremaining: 57s\n",
      "592:\tlearn: 0.4795058\ttotal: 1m 22s\tremaining: 56.8s\n",
      "593:\tlearn: 0.4794946\ttotal: 1m 22s\tremaining: 56.7s\n",
      "594:\tlearn: 0.4794734\ttotal: 1m 23s\tremaining: 56.6s\n",
      "595:\tlearn: 0.4794447\ttotal: 1m 23s\tremaining: 56.4s\n",
      "596:\tlearn: 0.4794133\ttotal: 1m 23s\tremaining: 56.3s\n",
      "597:\tlearn: 0.4793909\ttotal: 1m 23s\tremaining: 56.1s\n",
      "598:\tlearn: 0.4793619\ttotal: 1m 23s\tremaining: 56s\n",
      "599:\tlearn: 0.4793369\ttotal: 1m 23s\tremaining: 55.9s\n",
      "600:\tlearn: 0.4793120\ttotal: 1m 23s\tremaining: 55.7s\n",
      "601:\tlearn: 0.4792831\ttotal: 1m 24s\tremaining: 55.6s\n",
      "602:\tlearn: 0.4792587\ttotal: 1m 24s\tremaining: 55.4s\n",
      "603:\tlearn: 0.4792215\ttotal: 1m 24s\tremaining: 55.3s\n",
      "604:\tlearn: 0.4791948\ttotal: 1m 24s\tremaining: 55.1s\n",
      "605:\tlearn: 0.4791724\ttotal: 1m 24s\tremaining: 55s\n",
      "606:\tlearn: 0.4791494\ttotal: 1m 24s\tremaining: 54.9s\n",
      "607:\tlearn: 0.4791297\ttotal: 1m 24s\tremaining: 54.7s\n",
      "608:\tlearn: 0.4791007\ttotal: 1m 24s\tremaining: 54.6s\n",
      "609:\tlearn: 0.4790868\ttotal: 1m 25s\tremaining: 54.4s\n",
      "610:\tlearn: 0.4790634\ttotal: 1m 25s\tremaining: 54.3s\n",
      "611:\tlearn: 0.4790402\ttotal: 1m 25s\tremaining: 54.1s\n",
      "612:\tlearn: 0.4790097\ttotal: 1m 25s\tremaining: 54s\n",
      "613:\tlearn: 0.4789867\ttotal: 1m 25s\tremaining: 53.8s\n",
      "614:\tlearn: 0.4789654\ttotal: 1m 25s\tremaining: 53.7s\n",
      "615:\tlearn: 0.4789456\ttotal: 1m 25s\tremaining: 53.5s\n",
      "616:\tlearn: 0.4789303\ttotal: 1m 26s\tremaining: 53.4s\n",
      "617:\tlearn: 0.4789090\ttotal: 1m 26s\tremaining: 53.3s\n",
      "618:\tlearn: 0.4788825\ttotal: 1m 26s\tremaining: 53.1s\n",
      "619:\tlearn: 0.4788591\ttotal: 1m 26s\tremaining: 53s\n",
      "620:\tlearn: 0.4788285\ttotal: 1m 26s\tremaining: 52.8s\n",
      "621:\tlearn: 0.4787959\ttotal: 1m 26s\tremaining: 52.7s\n",
      "622:\tlearn: 0.4787702\ttotal: 1m 26s\tremaining: 52.5s\n",
      "623:\tlearn: 0.4787479\ttotal: 1m 26s\tremaining: 52.4s\n",
      "624:\tlearn: 0.4787239\ttotal: 1m 27s\tremaining: 52.3s\n",
      "625:\tlearn: 0.4787035\ttotal: 1m 27s\tremaining: 52.1s\n",
      "626:\tlearn: 0.4786755\ttotal: 1m 27s\tremaining: 52s\n",
      "627:\tlearn: 0.4786548\ttotal: 1m 27s\tremaining: 51.8s\n",
      "628:\tlearn: 0.4786308\ttotal: 1m 27s\tremaining: 51.7s\n",
      "629:\tlearn: 0.4786011\ttotal: 1m 27s\tremaining: 51.5s\n",
      "630:\tlearn: 0.4785704\ttotal: 1m 27s\tremaining: 51.4s\n",
      "631:\tlearn: 0.4785480\ttotal: 1m 28s\tremaining: 51.3s\n",
      "632:\tlearn: 0.4785353\ttotal: 1m 28s\tremaining: 51.1s\n",
      "633:\tlearn: 0.4785037\ttotal: 1m 28s\tremaining: 51s\n",
      "634:\tlearn: 0.4784766\ttotal: 1m 28s\tremaining: 50.8s\n",
      "635:\tlearn: 0.4784555\ttotal: 1m 28s\tremaining: 50.7s\n",
      "636:\tlearn: 0.4784393\ttotal: 1m 28s\tremaining: 50.5s\n",
      "637:\tlearn: 0.4784066\ttotal: 1m 28s\tremaining: 50.4s\n",
      "638:\tlearn: 0.4783875\ttotal: 1m 28s\tremaining: 50.2s\n",
      "639:\tlearn: 0.4783584\ttotal: 1m 29s\tremaining: 50.1s\n",
      "640:\tlearn: 0.4783258\ttotal: 1m 29s\tremaining: 50s\n",
      "641:\tlearn: 0.4783011\ttotal: 1m 29s\tremaining: 49.8s\n",
      "642:\tlearn: 0.4782758\ttotal: 1m 29s\tremaining: 49.7s\n",
      "643:\tlearn: 0.4782636\ttotal: 1m 29s\tremaining: 49.5s\n",
      "644:\tlearn: 0.4782439\ttotal: 1m 29s\tremaining: 49.4s\n",
      "645:\tlearn: 0.4782251\ttotal: 1m 29s\tremaining: 49.2s\n",
      "646:\tlearn: 0.4781909\ttotal: 1m 30s\tremaining: 49.1s\n",
      "647:\tlearn: 0.4781654\ttotal: 1m 30s\tremaining: 49s\n",
      "648:\tlearn: 0.4781404\ttotal: 1m 30s\tremaining: 48.8s\n",
      "649:\tlearn: 0.4781091\ttotal: 1m 30s\tremaining: 48.7s\n",
      "650:\tlearn: 0.4780734\ttotal: 1m 30s\tremaining: 48.5s\n",
      "651:\tlearn: 0.4780516\ttotal: 1m 30s\tremaining: 48.4s\n",
      "652:\tlearn: 0.4780291\ttotal: 1m 30s\tremaining: 48.2s\n",
      "653:\tlearn: 0.4780022\ttotal: 1m 30s\tremaining: 48.1s\n",
      "654:\tlearn: 0.4779606\ttotal: 1m 31s\tremaining: 48s\n",
      "655:\tlearn: 0.4779319\ttotal: 1m 31s\tremaining: 47.8s\n",
      "656:\tlearn: 0.4778985\ttotal: 1m 31s\tremaining: 47.7s\n",
      "657:\tlearn: 0.4778850\ttotal: 1m 31s\tremaining: 47.5s\n",
      "658:\tlearn: 0.4778566\ttotal: 1m 31s\tremaining: 47.4s\n",
      "659:\tlearn: 0.4778329\ttotal: 1m 31s\tremaining: 47.2s\n",
      "660:\tlearn: 0.4777934\ttotal: 1m 31s\tremaining: 47.1s\n",
      "661:\tlearn: 0.4777662\ttotal: 1m 31s\tremaining: 47s\n",
      "662:\tlearn: 0.4777323\ttotal: 1m 32s\tremaining: 46.8s\n",
      "663:\tlearn: 0.4777067\ttotal: 1m 32s\tremaining: 46.7s\n",
      "664:\tlearn: 0.4776811\ttotal: 1m 32s\tremaining: 46.5s\n",
      "665:\tlearn: 0.4776455\ttotal: 1m 32s\tremaining: 46.4s\n",
      "666:\tlearn: 0.4776172\ttotal: 1m 32s\tremaining: 46.3s\n",
      "667:\tlearn: 0.4775951\ttotal: 1m 32s\tremaining: 46.1s\n",
      "668:\tlearn: 0.4775675\ttotal: 1m 32s\tremaining: 46s\n",
      "669:\tlearn: 0.4775455\ttotal: 1m 33s\tremaining: 45.8s\n",
      "670:\tlearn: 0.4775276\ttotal: 1m 33s\tremaining: 45.7s\n",
      "671:\tlearn: 0.4775107\ttotal: 1m 33s\tremaining: 45.5s\n",
      "672:\tlearn: 0.4774884\ttotal: 1m 33s\tremaining: 45.4s\n",
      "673:\tlearn: 0.4774680\ttotal: 1m 33s\tremaining: 45.2s\n",
      "674:\tlearn: 0.4774404\ttotal: 1m 33s\tremaining: 45.1s\n",
      "675:\tlearn: 0.4774174\ttotal: 1m 33s\tremaining: 45s\n",
      "676:\tlearn: 0.4773958\ttotal: 1m 33s\tremaining: 44.8s\n",
      "677:\tlearn: 0.4773729\ttotal: 1m 34s\tremaining: 44.7s\n",
      "678:\tlearn: 0.4773409\ttotal: 1m 34s\tremaining: 44.5s\n",
      "679:\tlearn: 0.4773113\ttotal: 1m 34s\tremaining: 44.4s\n",
      "680:\tlearn: 0.4772915\ttotal: 1m 34s\tremaining: 44.3s\n",
      "681:\tlearn: 0.4772709\ttotal: 1m 34s\tremaining: 44.1s\n",
      "682:\tlearn: 0.4772469\ttotal: 1m 34s\tremaining: 44s\n",
      "683:\tlearn: 0.4772170\ttotal: 1m 34s\tremaining: 43.8s\n",
      "684:\tlearn: 0.4771880\ttotal: 1m 35s\tremaining: 43.7s\n",
      "685:\tlearn: 0.4771653\ttotal: 1m 35s\tremaining: 43.6s\n",
      "686:\tlearn: 0.4771418\ttotal: 1m 35s\tremaining: 43.4s\n",
      "687:\tlearn: 0.4771101\ttotal: 1m 35s\tremaining: 43.3s\n",
      "688:\tlearn: 0.4770831\ttotal: 1m 35s\tremaining: 43.1s\n",
      "689:\tlearn: 0.4770618\ttotal: 1m 35s\tremaining: 43s\n",
      "690:\tlearn: 0.4770387\ttotal: 1m 35s\tremaining: 42.8s\n",
      "691:\tlearn: 0.4770043\ttotal: 1m 35s\tremaining: 42.7s\n",
      "692:\tlearn: 0.4769803\ttotal: 1m 36s\tremaining: 42.6s\n",
      "693:\tlearn: 0.4769496\ttotal: 1m 36s\tremaining: 42.4s\n",
      "694:\tlearn: 0.4769276\ttotal: 1m 36s\tremaining: 42.3s\n",
      "695:\tlearn: 0.4769063\ttotal: 1m 36s\tremaining: 42.1s\n",
      "696:\tlearn: 0.4768804\ttotal: 1m 36s\tremaining: 42s\n",
      "697:\tlearn: 0.4768540\ttotal: 1m 36s\tremaining: 41.8s\n",
      "698:\tlearn: 0.4768278\ttotal: 1m 36s\tremaining: 41.7s\n",
      "699:\tlearn: 0.4767982\ttotal: 1m 36s\tremaining: 41.6s\n",
      "700:\tlearn: 0.4767740\ttotal: 1m 37s\tremaining: 41.4s\n",
      "701:\tlearn: 0.4767446\ttotal: 1m 37s\tremaining: 41.3s\n",
      "702:\tlearn: 0.4767169\ttotal: 1m 37s\tremaining: 41.1s\n",
      "703:\tlearn: 0.4766959\ttotal: 1m 37s\tremaining: 41s\n",
      "704:\tlearn: 0.4766803\ttotal: 1m 37s\tremaining: 40.9s\n",
      "705:\tlearn: 0.4766463\ttotal: 1m 37s\tremaining: 40.7s\n",
      "706:\tlearn: 0.4766202\ttotal: 1m 37s\tremaining: 40.6s\n",
      "707:\tlearn: 0.4765963\ttotal: 1m 38s\tremaining: 40.4s\n",
      "708:\tlearn: 0.4765860\ttotal: 1m 38s\tremaining: 40.3s\n",
      "709:\tlearn: 0.4765665\ttotal: 1m 38s\tremaining: 40.2s\n",
      "710:\tlearn: 0.4765451\ttotal: 1m 38s\tremaining: 40s\n",
      "711:\tlearn: 0.4765118\ttotal: 1m 38s\tremaining: 39.9s\n",
      "712:\tlearn: 0.4764899\ttotal: 1m 38s\tremaining: 39.7s\n",
      "713:\tlearn: 0.4764653\ttotal: 1m 38s\tremaining: 39.6s\n",
      "714:\tlearn: 0.4764368\ttotal: 1m 38s\tremaining: 39.4s\n",
      "715:\tlearn: 0.4764186\ttotal: 1m 39s\tremaining: 39.3s\n",
      "716:\tlearn: 0.4763989\ttotal: 1m 39s\tremaining: 39.2s\n",
      "717:\tlearn: 0.4763790\ttotal: 1m 39s\tremaining: 39s\n",
      "718:\tlearn: 0.4763508\ttotal: 1m 39s\tremaining: 38.9s\n",
      "719:\tlearn: 0.4763244\ttotal: 1m 39s\tremaining: 38.7s\n",
      "720:\tlearn: 0.4762994\ttotal: 1m 39s\tremaining: 38.6s\n",
      "721:\tlearn: 0.4762750\ttotal: 1m 39s\tremaining: 38.5s\n",
      "722:\tlearn: 0.4762559\ttotal: 1m 40s\tremaining: 38.3s\n",
      "723:\tlearn: 0.4762433\ttotal: 1m 40s\tremaining: 38.2s\n",
      "724:\tlearn: 0.4762188\ttotal: 1m 40s\tremaining: 38s\n",
      "725:\tlearn: 0.4761937\ttotal: 1m 40s\tremaining: 37.9s\n",
      "726:\tlearn: 0.4761795\ttotal: 1m 40s\tremaining: 37.8s\n",
      "727:\tlearn: 0.4761581\ttotal: 1m 40s\tremaining: 37.6s\n",
      "728:\tlearn: 0.4761261\ttotal: 1m 40s\tremaining: 37.5s\n",
      "729:\tlearn: 0.4761013\ttotal: 1m 40s\tremaining: 37.3s\n",
      "730:\tlearn: 0.4760816\ttotal: 1m 41s\tremaining: 37.2s\n",
      "731:\tlearn: 0.4760515\ttotal: 1m 41s\tremaining: 37.1s\n",
      "732:\tlearn: 0.4760202\ttotal: 1m 41s\tremaining: 36.9s\n",
      "733:\tlearn: 0.4759975\ttotal: 1m 41s\tremaining: 36.8s\n",
      "734:\tlearn: 0.4759760\ttotal: 1m 41s\tremaining: 36.6s\n",
      "735:\tlearn: 0.4759485\ttotal: 1m 41s\tremaining: 36.5s\n",
      "736:\tlearn: 0.4759175\ttotal: 1m 41s\tremaining: 36.4s\n",
      "737:\tlearn: 0.4758895\ttotal: 1m 42s\tremaining: 36.2s\n",
      "738:\tlearn: 0.4758593\ttotal: 1m 42s\tremaining: 36.1s\n",
      "739:\tlearn: 0.4758347\ttotal: 1m 42s\tremaining: 35.9s\n",
      "740:\tlearn: 0.4758111\ttotal: 1m 42s\tremaining: 35.8s\n",
      "741:\tlearn: 0.4757871\ttotal: 1m 42s\tremaining: 35.7s\n",
      "742:\tlearn: 0.4757568\ttotal: 1m 42s\tremaining: 35.5s\n",
      "743:\tlearn: 0.4757321\ttotal: 1m 42s\tremaining: 35.4s\n",
      "744:\tlearn: 0.4757056\ttotal: 1m 42s\tremaining: 35.2s\n",
      "745:\tlearn: 0.4756897\ttotal: 1m 43s\tremaining: 35.1s\n",
      "746:\tlearn: 0.4756623\ttotal: 1m 43s\tremaining: 35s\n",
      "747:\tlearn: 0.4756374\ttotal: 1m 43s\tremaining: 34.8s\n",
      "748:\tlearn: 0.4756102\ttotal: 1m 43s\tremaining: 34.7s\n",
      "749:\tlearn: 0.4755875\ttotal: 1m 43s\tremaining: 34.5s\n",
      "750:\tlearn: 0.4755710\ttotal: 1m 43s\tremaining: 34.4s\n",
      "751:\tlearn: 0.4755521\ttotal: 1m 43s\tremaining: 34.3s\n",
      "752:\tlearn: 0.4755200\ttotal: 1m 44s\tremaining: 34.1s\n",
      "753:\tlearn: 0.4754958\ttotal: 1m 44s\tremaining: 34s\n",
      "754:\tlearn: 0.4754729\ttotal: 1m 44s\tremaining: 33.8s\n",
      "755:\tlearn: 0.4754505\ttotal: 1m 44s\tremaining: 33.7s\n",
      "756:\tlearn: 0.4754286\ttotal: 1m 44s\tremaining: 33.6s\n",
      "757:\tlearn: 0.4753982\ttotal: 1m 44s\tremaining: 33.4s\n",
      "758:\tlearn: 0.4753756\ttotal: 1m 44s\tremaining: 33.3s\n",
      "759:\tlearn: 0.4753485\ttotal: 1m 44s\tremaining: 33.1s\n",
      "760:\tlearn: 0.4753189\ttotal: 1m 45s\tremaining: 33s\n",
      "761:\tlearn: 0.4752985\ttotal: 1m 45s\tremaining: 32.9s\n",
      "762:\tlearn: 0.4752754\ttotal: 1m 45s\tremaining: 32.7s\n",
      "763:\tlearn: 0.4752530\ttotal: 1m 45s\tremaining: 32.6s\n",
      "764:\tlearn: 0.4752346\ttotal: 1m 45s\tremaining: 32.4s\n",
      "765:\tlearn: 0.4752146\ttotal: 1m 45s\tremaining: 32.3s\n",
      "766:\tlearn: 0.4751967\ttotal: 1m 45s\tremaining: 32.2s\n",
      "767:\tlearn: 0.4751640\ttotal: 1m 46s\tremaining: 32s\n",
      "768:\tlearn: 0.4751413\ttotal: 1m 46s\tremaining: 31.9s\n",
      "769:\tlearn: 0.4751188\ttotal: 1m 46s\tremaining: 31.8s\n",
      "770:\tlearn: 0.4750918\ttotal: 1m 46s\tremaining: 31.6s\n",
      "771:\tlearn: 0.4750645\ttotal: 1m 46s\tremaining: 31.5s\n",
      "772:\tlearn: 0.4750326\ttotal: 1m 46s\tremaining: 31.3s\n",
      "773:\tlearn: 0.4750138\ttotal: 1m 46s\tremaining: 31.2s\n",
      "774:\tlearn: 0.4749895\ttotal: 1m 46s\tremaining: 31.1s\n",
      "775:\tlearn: 0.4749705\ttotal: 1m 47s\tremaining: 30.9s\n",
      "776:\tlearn: 0.4749496\ttotal: 1m 47s\tremaining: 30.8s\n",
      "777:\tlearn: 0.4749246\ttotal: 1m 47s\tremaining: 30.6s\n",
      "778:\tlearn: 0.4748962\ttotal: 1m 47s\tremaining: 30.5s\n",
      "779:\tlearn: 0.4748750\ttotal: 1m 47s\tremaining: 30.4s\n",
      "780:\tlearn: 0.4748514\ttotal: 1m 47s\tremaining: 30.2s\n",
      "781:\tlearn: 0.4748265\ttotal: 1m 47s\tremaining: 30.1s\n",
      "782:\tlearn: 0.4748027\ttotal: 1m 48s\tremaining: 29.9s\n",
      "783:\tlearn: 0.4747770\ttotal: 1m 48s\tremaining: 29.8s\n",
      "784:\tlearn: 0.4747584\ttotal: 1m 48s\tremaining: 29.7s\n",
      "785:\tlearn: 0.4747457\ttotal: 1m 48s\tremaining: 29.5s\n",
      "786:\tlearn: 0.4747238\ttotal: 1m 48s\tremaining: 29.4s\n",
      "787:\tlearn: 0.4747075\ttotal: 1m 48s\tremaining: 29.2s\n",
      "788:\tlearn: 0.4746811\ttotal: 1m 48s\tremaining: 29.1s\n",
      "789:\tlearn: 0.4746457\ttotal: 1m 48s\tremaining: 29s\n",
      "790:\tlearn: 0.4746154\ttotal: 1m 49s\tremaining: 28.8s\n",
      "791:\tlearn: 0.4745876\ttotal: 1m 49s\tremaining: 28.7s\n",
      "792:\tlearn: 0.4745628\ttotal: 1m 49s\tremaining: 28.5s\n",
      "793:\tlearn: 0.4745395\ttotal: 1m 49s\tremaining: 28.4s\n",
      "794:\tlearn: 0.4745184\ttotal: 1m 49s\tremaining: 28.3s\n",
      "795:\tlearn: 0.4744998\ttotal: 1m 49s\tremaining: 28.1s\n",
      "796:\tlearn: 0.4744806\ttotal: 1m 49s\tremaining: 28s\n",
      "797:\tlearn: 0.4744552\ttotal: 1m 49s\tremaining: 27.8s\n",
      "798:\tlearn: 0.4744392\ttotal: 1m 50s\tremaining: 27.7s\n",
      "799:\tlearn: 0.4744177\ttotal: 1m 50s\tremaining: 27.6s\n",
      "800:\tlearn: 0.4743912\ttotal: 1m 50s\tremaining: 27.4s\n",
      "801:\tlearn: 0.4743753\ttotal: 1m 50s\tremaining: 27.3s\n",
      "802:\tlearn: 0.4743389\ttotal: 1m 50s\tremaining: 27.1s\n",
      "803:\tlearn: 0.4743170\ttotal: 1m 50s\tremaining: 27s\n",
      "804:\tlearn: 0.4742896\ttotal: 1m 50s\tremaining: 26.9s\n",
      "805:\tlearn: 0.4742686\ttotal: 1m 51s\tremaining: 26.7s\n",
      "806:\tlearn: 0.4742509\ttotal: 1m 51s\tremaining: 26.6s\n",
      "807:\tlearn: 0.4742312\ttotal: 1m 51s\tremaining: 26.4s\n",
      "808:\tlearn: 0.4742059\ttotal: 1m 51s\tremaining: 26.3s\n",
      "809:\tlearn: 0.4741793\ttotal: 1m 51s\tremaining: 26.2s\n",
      "810:\tlearn: 0.4741596\ttotal: 1m 51s\tremaining: 26s\n",
      "811:\tlearn: 0.4741363\ttotal: 1m 51s\tremaining: 25.9s\n",
      "812:\tlearn: 0.4741131\ttotal: 1m 51s\tremaining: 25.7s\n",
      "813:\tlearn: 0.4740850\ttotal: 1m 52s\tremaining: 25.6s\n",
      "814:\tlearn: 0.4740617\ttotal: 1m 52s\tremaining: 25.5s\n",
      "815:\tlearn: 0.4740434\ttotal: 1m 52s\tremaining: 25.3s\n",
      "816:\tlearn: 0.4740235\ttotal: 1m 52s\tremaining: 25.2s\n",
      "817:\tlearn: 0.4739973\ttotal: 1m 52s\tremaining: 25.1s\n",
      "818:\tlearn: 0.4739674\ttotal: 1m 52s\tremaining: 24.9s\n",
      "819:\tlearn: 0.4739431\ttotal: 1m 52s\tremaining: 24.8s\n",
      "820:\tlearn: 0.4739168\ttotal: 1m 53s\tremaining: 24.6s\n",
      "821:\tlearn: 0.4738928\ttotal: 1m 53s\tremaining: 24.5s\n",
      "822:\tlearn: 0.4738789\ttotal: 1m 53s\tremaining: 24.4s\n",
      "823:\tlearn: 0.4738557\ttotal: 1m 53s\tremaining: 24.2s\n",
      "824:\tlearn: 0.4738289\ttotal: 1m 53s\tremaining: 24.1s\n",
      "825:\tlearn: 0.4738026\ttotal: 1m 53s\tremaining: 23.9s\n",
      "826:\tlearn: 0.4737805\ttotal: 1m 53s\tremaining: 23.8s\n",
      "827:\tlearn: 0.4737543\ttotal: 1m 53s\tremaining: 23.7s\n",
      "828:\tlearn: 0.4737294\ttotal: 1m 54s\tremaining: 23.5s\n",
      "829:\tlearn: 0.4737107\ttotal: 1m 54s\tremaining: 23.4s\n",
      "830:\tlearn: 0.4736827\ttotal: 1m 54s\tremaining: 23.3s\n",
      "831:\tlearn: 0.4736538\ttotal: 1m 54s\tremaining: 23.1s\n",
      "832:\tlearn: 0.4736268\ttotal: 1m 54s\tremaining: 23s\n",
      "833:\tlearn: 0.4736134\ttotal: 1m 54s\tremaining: 22.8s\n",
      "834:\tlearn: 0.4735886\ttotal: 1m 54s\tremaining: 22.7s\n",
      "835:\tlearn: 0.4735614\ttotal: 1m 54s\tremaining: 22.6s\n",
      "836:\tlearn: 0.4735363\ttotal: 1m 55s\tremaining: 22.4s\n",
      "837:\tlearn: 0.4735133\ttotal: 1m 55s\tremaining: 22.3s\n",
      "838:\tlearn: 0.4734942\ttotal: 1m 55s\tremaining: 22.1s\n",
      "839:\tlearn: 0.4734640\ttotal: 1m 55s\tremaining: 22s\n",
      "840:\tlearn: 0.4734433\ttotal: 1m 55s\tremaining: 21.9s\n",
      "841:\tlearn: 0.4734185\ttotal: 1m 55s\tremaining: 21.7s\n",
      "842:\tlearn: 0.4733979\ttotal: 1m 55s\tremaining: 21.6s\n",
      "843:\tlearn: 0.4733765\ttotal: 1m 56s\tremaining: 21.4s\n",
      "844:\tlearn: 0.4733455\ttotal: 1m 56s\tremaining: 21.3s\n",
      "845:\tlearn: 0.4733217\ttotal: 1m 56s\tremaining: 21.2s\n",
      "846:\tlearn: 0.4732968\ttotal: 1m 56s\tremaining: 21s\n",
      "847:\tlearn: 0.4732745\ttotal: 1m 56s\tremaining: 20.9s\n",
      "848:\tlearn: 0.4732636\ttotal: 1m 56s\tremaining: 20.8s\n",
      "849:\tlearn: 0.4732447\ttotal: 1m 56s\tremaining: 20.6s\n",
      "850:\tlearn: 0.4732185\ttotal: 1m 56s\tremaining: 20.5s\n",
      "851:\tlearn: 0.4731932\ttotal: 1m 57s\tremaining: 20.3s\n",
      "852:\tlearn: 0.4731747\ttotal: 1m 57s\tremaining: 20.2s\n",
      "853:\tlearn: 0.4731473\ttotal: 1m 57s\tremaining: 20.1s\n",
      "854:\tlearn: 0.4731294\ttotal: 1m 57s\tremaining: 19.9s\n",
      "855:\tlearn: 0.4731040\ttotal: 1m 57s\tremaining: 19.8s\n",
      "856:\tlearn: 0.4730786\ttotal: 1m 57s\tremaining: 19.6s\n",
      "857:\tlearn: 0.4730443\ttotal: 1m 57s\tremaining: 19.5s\n",
      "858:\tlearn: 0.4730279\ttotal: 1m 58s\tremaining: 19.4s\n",
      "859:\tlearn: 0.4730061\ttotal: 1m 58s\tremaining: 19.2s\n",
      "860:\tlearn: 0.4729905\ttotal: 1m 58s\tremaining: 19.1s\n",
      "861:\tlearn: 0.4729779\ttotal: 1m 58s\tremaining: 19s\n",
      "862:\tlearn: 0.4729482\ttotal: 1m 58s\tremaining: 18.8s\n",
      "863:\tlearn: 0.4729261\ttotal: 1m 58s\tremaining: 18.7s\n",
      "864:\tlearn: 0.4729044\ttotal: 1m 58s\tremaining: 18.5s\n",
      "865:\tlearn: 0.4728745\ttotal: 1m 58s\tremaining: 18.4s\n",
      "866:\tlearn: 0.4728633\ttotal: 1m 59s\tremaining: 18.3s\n",
      "867:\tlearn: 0.4728367\ttotal: 1m 59s\tremaining: 18.1s\n",
      "868:\tlearn: 0.4728118\ttotal: 1m 59s\tremaining: 18s\n",
      "869:\tlearn: 0.4727922\ttotal: 1m 59s\tremaining: 17.8s\n",
      "870:\tlearn: 0.4727744\ttotal: 1m 59s\tremaining: 17.7s\n",
      "871:\tlearn: 0.4727564\ttotal: 1m 59s\tremaining: 17.6s\n",
      "872:\tlearn: 0.4727209\ttotal: 1m 59s\tremaining: 17.4s\n",
      "873:\tlearn: 0.4726910\ttotal: 1m 59s\tremaining: 17.3s\n",
      "874:\tlearn: 0.4726687\ttotal: 2m\tremaining: 17.2s\n",
      "875:\tlearn: 0.4726490\ttotal: 2m\tremaining: 17s\n",
      "876:\tlearn: 0.4726272\ttotal: 2m\tremaining: 16.9s\n",
      "877:\tlearn: 0.4726130\ttotal: 2m\tremaining: 16.7s\n",
      "878:\tlearn: 0.4725974\ttotal: 2m\tremaining: 16.6s\n",
      "879:\tlearn: 0.4725761\ttotal: 2m\tremaining: 16.5s\n",
      "880:\tlearn: 0.4725503\ttotal: 2m\tremaining: 16.3s\n",
      "881:\tlearn: 0.4725265\ttotal: 2m 1s\tremaining: 16.2s\n",
      "882:\tlearn: 0.4724975\ttotal: 2m 1s\tremaining: 16.1s\n",
      "883:\tlearn: 0.4724648\ttotal: 2m 1s\tremaining: 15.9s\n",
      "884:\tlearn: 0.4724416\ttotal: 2m 1s\tremaining: 15.8s\n",
      "885:\tlearn: 0.4724169\ttotal: 2m 1s\tremaining: 15.6s\n",
      "886:\tlearn: 0.4723955\ttotal: 2m 1s\tremaining: 15.5s\n",
      "887:\tlearn: 0.4723724\ttotal: 2m 1s\tremaining: 15.4s\n",
      "888:\tlearn: 0.4723434\ttotal: 2m 1s\tremaining: 15.2s\n",
      "889:\tlearn: 0.4723215\ttotal: 2m 2s\tremaining: 15.1s\n",
      "890:\tlearn: 0.4723002\ttotal: 2m 2s\tremaining: 15s\n",
      "891:\tlearn: 0.4722848\ttotal: 2m 2s\tremaining: 14.8s\n",
      "892:\tlearn: 0.4722657\ttotal: 2m 2s\tremaining: 14.7s\n",
      "893:\tlearn: 0.4722459\ttotal: 2m 2s\tremaining: 14.5s\n",
      "894:\tlearn: 0.4722281\ttotal: 2m 2s\tremaining: 14.4s\n",
      "895:\tlearn: 0.4722055\ttotal: 2m 2s\tremaining: 14.3s\n",
      "896:\tlearn: 0.4721848\ttotal: 2m 3s\tremaining: 14.1s\n",
      "897:\tlearn: 0.4721601\ttotal: 2m 3s\tremaining: 14s\n",
      "898:\tlearn: 0.4721333\ttotal: 2m 3s\tremaining: 13.9s\n",
      "899:\tlearn: 0.4721053\ttotal: 2m 3s\tremaining: 13.7s\n",
      "900:\tlearn: 0.4720719\ttotal: 2m 3s\tremaining: 13.6s\n",
      "901:\tlearn: 0.4720417\ttotal: 2m 3s\tremaining: 13.4s\n",
      "902:\tlearn: 0.4720172\ttotal: 2m 3s\tremaining: 13.3s\n",
      "903:\tlearn: 0.4720013\ttotal: 2m 3s\tremaining: 13.2s\n",
      "904:\tlearn: 0.4719713\ttotal: 2m 4s\tremaining: 13s\n",
      "905:\tlearn: 0.4719482\ttotal: 2m 4s\tremaining: 12.9s\n",
      "906:\tlearn: 0.4719216\ttotal: 2m 4s\tremaining: 12.8s\n",
      "907:\tlearn: 0.4718974\ttotal: 2m 4s\tremaining: 12.6s\n",
      "908:\tlearn: 0.4718697\ttotal: 2m 4s\tremaining: 12.5s\n",
      "909:\tlearn: 0.4718427\ttotal: 2m 4s\tremaining: 12.3s\n",
      "910:\tlearn: 0.4718188\ttotal: 2m 4s\tremaining: 12.2s\n",
      "911:\tlearn: 0.4717992\ttotal: 2m 5s\tremaining: 12.1s\n",
      "912:\tlearn: 0.4717768\ttotal: 2m 5s\tremaining: 11.9s\n",
      "913:\tlearn: 0.4717491\ttotal: 2m 5s\tremaining: 11.8s\n",
      "914:\tlearn: 0.4717276\ttotal: 2m 5s\tremaining: 11.7s\n",
      "915:\tlearn: 0.4717042\ttotal: 2m 5s\tremaining: 11.5s\n",
      "916:\tlearn: 0.4716781\ttotal: 2m 5s\tremaining: 11.4s\n",
      "917:\tlearn: 0.4716624\ttotal: 2m 5s\tremaining: 11.2s\n",
      "918:\tlearn: 0.4716307\ttotal: 2m 5s\tremaining: 11.1s\n",
      "919:\tlearn: 0.4716079\ttotal: 2m 6s\tremaining: 11s\n",
      "920:\tlearn: 0.4715915\ttotal: 2m 6s\tremaining: 10.8s\n",
      "921:\tlearn: 0.4715665\ttotal: 2m 6s\tremaining: 10.7s\n",
      "922:\tlearn: 0.4715392\ttotal: 2m 6s\tremaining: 10.6s\n",
      "923:\tlearn: 0.4715151\ttotal: 2m 6s\tremaining: 10.4s\n",
      "924:\tlearn: 0.4715093\ttotal: 2m 6s\tremaining: 10.3s\n",
      "925:\tlearn: 0.4714928\ttotal: 2m 6s\tremaining: 10.1s\n",
      "926:\tlearn: 0.4714671\ttotal: 2m 7s\tremaining: 10s\n",
      "927:\tlearn: 0.4714505\ttotal: 2m 7s\tremaining: 9.87s\n",
      "928:\tlearn: 0.4714276\ttotal: 2m 7s\tremaining: 9.73s\n",
      "929:\tlearn: 0.4713840\ttotal: 2m 7s\tremaining: 9.59s\n",
      "930:\tlearn: 0.4713689\ttotal: 2m 7s\tremaining: 9.46s\n",
      "931:\tlearn: 0.4713391\ttotal: 2m 7s\tremaining: 9.32s\n",
      "932:\tlearn: 0.4713162\ttotal: 2m 7s\tremaining: 9.18s\n",
      "933:\tlearn: 0.4712961\ttotal: 2m 8s\tremaining: 9.05s\n",
      "934:\tlearn: 0.4712675\ttotal: 2m 8s\tremaining: 8.91s\n",
      "935:\tlearn: 0.4712450\ttotal: 2m 8s\tremaining: 8.77s\n",
      "936:\tlearn: 0.4712259\ttotal: 2m 8s\tremaining: 8.63s\n",
      "937:\tlearn: 0.4712087\ttotal: 2m 8s\tremaining: 8.5s\n",
      "938:\tlearn: 0.4711742\ttotal: 2m 8s\tremaining: 8.36s\n",
      "939:\tlearn: 0.4711539\ttotal: 2m 8s\tremaining: 8.22s\n",
      "940:\tlearn: 0.4711312\ttotal: 2m 8s\tremaining: 8.09s\n",
      "941:\tlearn: 0.4710965\ttotal: 2m 9s\tremaining: 7.95s\n",
      "942:\tlearn: 0.4710786\ttotal: 2m 9s\tremaining: 7.81s\n",
      "943:\tlearn: 0.4710465\ttotal: 2m 9s\tremaining: 7.68s\n",
      "944:\tlearn: 0.4710217\ttotal: 2m 9s\tremaining: 7.54s\n",
      "945:\tlearn: 0.4709965\ttotal: 2m 9s\tremaining: 7.4s\n",
      "946:\tlearn: 0.4709839\ttotal: 2m 9s\tremaining: 7.26s\n",
      "947:\tlearn: 0.4709652\ttotal: 2m 9s\tremaining: 7.13s\n",
      "948:\tlearn: 0.4709564\ttotal: 2m 10s\tremaining: 6.99s\n",
      "949:\tlearn: 0.4709390\ttotal: 2m 10s\tremaining: 6.85s\n",
      "950:\tlearn: 0.4709161\ttotal: 2m 10s\tremaining: 6.72s\n",
      "951:\tlearn: 0.4708997\ttotal: 2m 10s\tremaining: 6.58s\n",
      "952:\tlearn: 0.4708724\ttotal: 2m 10s\tremaining: 6.44s\n",
      "953:\tlearn: 0.4708463\ttotal: 2m 10s\tremaining: 6.3s\n",
      "954:\tlearn: 0.4708288\ttotal: 2m 10s\tremaining: 6.17s\n",
      "955:\tlearn: 0.4708020\ttotal: 2m 11s\tremaining: 6.03s\n",
      "956:\tlearn: 0.4707744\ttotal: 2m 11s\tremaining: 5.89s\n",
      "957:\tlearn: 0.4707494\ttotal: 2m 11s\tremaining: 5.75s\n",
      "958:\tlearn: 0.4707253\ttotal: 2m 11s\tremaining: 5.62s\n",
      "959:\tlearn: 0.4707053\ttotal: 2m 11s\tremaining: 5.48s\n",
      "960:\tlearn: 0.4706871\ttotal: 2m 11s\tremaining: 5.34s\n",
      "961:\tlearn: 0.4706750\ttotal: 2m 11s\tremaining: 5.2s\n",
      "962:\tlearn: 0.4706478\ttotal: 2m 11s\tremaining: 5.07s\n",
      "963:\tlearn: 0.4706308\ttotal: 2m 12s\tremaining: 4.93s\n",
      "964:\tlearn: 0.4706083\ttotal: 2m 12s\tremaining: 4.79s\n",
      "965:\tlearn: 0.4705819\ttotal: 2m 12s\tremaining: 4.66s\n",
      "966:\tlearn: 0.4705613\ttotal: 2m 12s\tremaining: 4.52s\n",
      "967:\tlearn: 0.4705477\ttotal: 2m 12s\tremaining: 4.38s\n",
      "968:\tlearn: 0.4705311\ttotal: 2m 12s\tremaining: 4.24s\n",
      "969:\tlearn: 0.4705176\ttotal: 2m 12s\tremaining: 4.11s\n",
      "970:\tlearn: 0.4704997\ttotal: 2m 12s\tremaining: 3.97s\n",
      "971:\tlearn: 0.4704822\ttotal: 2m 13s\tremaining: 3.83s\n",
      "972:\tlearn: 0.4704624\ttotal: 2m 13s\tremaining: 3.7s\n",
      "973:\tlearn: 0.4704418\ttotal: 2m 13s\tremaining: 3.56s\n",
      "974:\tlearn: 0.4704254\ttotal: 2m 13s\tremaining: 3.42s\n",
      "975:\tlearn: 0.4704003\ttotal: 2m 13s\tremaining: 3.29s\n",
      "976:\tlearn: 0.4703609\ttotal: 2m 13s\tremaining: 3.15s\n",
      "977:\tlearn: 0.4703411\ttotal: 2m 13s\tremaining: 3.01s\n",
      "978:\tlearn: 0.4703205\ttotal: 2m 14s\tremaining: 2.88s\n",
      "979:\tlearn: 0.4702993\ttotal: 2m 14s\tremaining: 2.74s\n",
      "980:\tlearn: 0.4702760\ttotal: 2m 14s\tremaining: 2.6s\n",
      "981:\tlearn: 0.4702556\ttotal: 2m 14s\tremaining: 2.46s\n",
      "982:\tlearn: 0.4702271\ttotal: 2m 14s\tremaining: 2.33s\n",
      "983:\tlearn: 0.4701992\ttotal: 2m 14s\tremaining: 2.19s\n",
      "984:\tlearn: 0.4701812\ttotal: 2m 14s\tremaining: 2.05s\n",
      "985:\tlearn: 0.4701601\ttotal: 2m 14s\tremaining: 1.92s\n",
      "986:\tlearn: 0.4701423\ttotal: 2m 15s\tremaining: 1.78s\n",
      "987:\tlearn: 0.4701136\ttotal: 2m 15s\tremaining: 1.64s\n",
      "988:\tlearn: 0.4700934\ttotal: 2m 15s\tremaining: 1.5s\n",
      "989:\tlearn: 0.4700826\ttotal: 2m 15s\tremaining: 1.37s\n",
      "990:\tlearn: 0.4700536\ttotal: 2m 15s\tremaining: 1.23s\n",
      "991:\tlearn: 0.4700291\ttotal: 2m 15s\tremaining: 1.09s\n",
      "992:\tlearn: 0.4700156\ttotal: 2m 15s\tremaining: 958ms\n",
      "993:\tlearn: 0.4699897\ttotal: 2m 16s\tremaining: 821ms\n",
      "994:\tlearn: 0.4699646\ttotal: 2m 16s\tremaining: 684ms\n",
      "995:\tlearn: 0.4699434\ttotal: 2m 16s\tremaining: 547ms\n",
      "996:\tlearn: 0.4699248\ttotal: 2m 16s\tremaining: 411ms\n",
      "997:\tlearn: 0.4698995\ttotal: 2m 16s\tremaining: 274ms\n",
      "998:\tlearn: 0.4698751\ttotal: 2m 16s\tremaining: 137ms\n",
      "999:\tlearn: 0.4698552\ttotal: 2m 16s\tremaining: 0us\n"
     ]
    },
    {
     "data": {
      "text/plain": [
       "<catboost.core.CatBoostClassifier at 0x7fec9eec88d0>"
      ]
     },
     "execution_count": 239,
     "metadata": {
      "tags": []
     },
     "output_type": "execute_result"
    }
   ],
   "source": [
    "cat.fit(train_x,train_y)"
   ]
  },
  {
   "cell_type": "code",
   "execution_count": 0,
   "metadata": {
    "colab": {},
    "colab_type": "code",
    "id": "w8c-ZPyQ6MDI"
   },
   "outputs": [],
   "source": [
    "cat_predict = cat.predict(test_x)"
   ]
  },
  {
   "cell_type": "code",
   "execution_count": 0,
   "metadata": {
    "colab": {
     "base_uri": "https://localhost:8080/",
     "height": 34
    },
    "colab_type": "code",
    "id": "85l2HV2y6MAz",
    "outputId": "4c6be3b0-9f4f-45fd-f23e-055b2fc8a33e"
   },
   "outputs": [
    {
     "data": {
      "text/plain": [
       "0.7847964452984268"
      ]
     },
     "execution_count": 233,
     "metadata": {
      "tags": []
     },
     "output_type": "execute_result"
    }
   ],
   "source": [
    "accuracy_score(cat_predict,test_y)"
   ]
  },
  {
   "cell_type": "code",
   "execution_count": 0,
   "metadata": {
    "colab": {},
    "colab_type": "code",
    "id": "AGYCbWHu6L-4"
   },
   "outputs": [],
   "source": []
  }
 ],
 "metadata": {
  "accelerator": "GPU",
  "colab": {
   "name": "L&T_hackathon.ipynb",
   "provenance": [],
   "version": "0.3.2"
  },
  "kernelspec": {
   "display_name": "Python 3",
   "language": "python",
   "name": "python3"
  },
  "language_info": {
   "codemirror_mode": {
    "name": "ipython",
    "version": 3
   },
   "file_extension": ".py",
   "mimetype": "text/x-python",
   "name": "python",
   "nbconvert_exporter": "python",
   "pygments_lexer": "ipython3",
   "version": "3.6.5"
  }
 },
 "nbformat": 4,
 "nbformat_minor": 1
}
